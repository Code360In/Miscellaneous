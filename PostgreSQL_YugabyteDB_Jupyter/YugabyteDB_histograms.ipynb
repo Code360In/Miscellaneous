{
 "cells": [
  {
   "cell_type": "markdown",
   "metadata": {},
   "source": [
    "# How to generate histograms using YugabyteDB (PostgreSQL-compatible)\n",
    "\n",
    "This provides and example of how to generate frequency histograms using YugabyteDB.  \n",
    "Disambiguation: we refer here to computing histograms of table data, rather than histograms of the columns statistics used by the cost based optimizer.\n",
    "\n",
    "Author and contacts: Luca.Canali@cern.ch"
   ]
  },
  {
   "cell_type": "markdown",
   "metadata": {},
   "source": [
    "## Setup and prerequisites"
   ]
  },
  {
   "cell_type": "markdown",
   "metadata": {},
   "source": [
    "### This is how you can setup an YugabyteDB instance for testing using a Docker image\n",
    "\n",
    "`docker run --name yb -p5433:5433 -p7000:7000 yugabytedb/yugabyte:latest yugabyted start --daemon=false`\n",
    "\n",
    "connect to YugabyteDB:\n",
    " - DB is on port 5433\n",
    " - WebUI is on port 7000\n"
   ]
  },
  {
   "cell_type": "markdown",
   "metadata": {},
   "source": [
    "### This is how you set up a YugabyteDB test cluster:\n",
    "\n",
    "`docker network create -d bridge yb`\n",
    "\n",
    "`docker run -d --name yb0 --hostname yb0 --net=yb -p5433:5433 -p7000:7000 yugabytedb/yugabyte:latest yugabyted start --daemon=false --listen yb0 --tserver_flags=\"ysql_enable_auth=false\"`\n",
    "\n",
    "wait and check logs\n",
    "`docker logs -f yb0`\n",
    "\n",
    "start node 2 and 3 (follow the pattern for more nodes)\n",
    "\n",
    "`docker run -d --name yb1 --hostname yb1 --net=yb -p5434:5433 yugabytedb/yugabyte:latest yugabyted start --daemon=false --listen yb1 --tserver_flags=\"ysql_enable_auth=false\" --join yb0 `\n",
    "\n",
    "`docker run -d --name yb2 --hostname yb2 --net=yb -p5435:5433 yugabytedb/yugabyte:latest yugabyted start --daemon=false --listen yb2 --tserver_flags=\"ysql_enable_auth=false\" --join yb0`\n",
    "\n",
    "\n",
    "connect to YugabyteDB:\n",
    " - Connect to any node, for example yb0 on port 5433\n",
    " - WebUI is on port 7000\n",
    "\n"
   ]
  },
  {
   "cell_type": "markdown",
   "metadata": {},
   "source": [
    "Install the Python library for connecting to PostgreSQL  \n",
    "\n",
    "`pip install psycopg2-binary`"
   ]
  },
  {
   "cell_type": "markdown",
   "metadata": {},
   "source": [
    "## Create the test table"
   ]
  },
  {
   "cell_type": "code",
   "execution_count": 2,
   "metadata": {
    "scrolled": true
   },
   "outputs": [],
   "source": [
    "# connect to PostgreSQL using psycopg2 \n",
    "# !pip install psycopg2-binary\n",
    "\n",
    "import psycopg2\n",
    "\n",
    "# Connect to an existing database and create the test table\n",
    "\n",
    "with psycopg2.connect(\"dbname=yugabyte user=yugabyte host=localhost port=5433\") as yb_conn:\n",
    "    cur = yb_conn.cursor()\n",
    "    \n",
    "    # use this drop statement if you need to recreate the table\n",
    "    # cur.execute(\"DROP TABLE data\")\n",
    "\n",
    "    cur.execute(\"CREATE TABLE data as select random()*100 random_value from generate_series(1, 100);\")\n",
    "   "
   ]
  },
  {
   "cell_type": "markdown",
   "metadata": {},
   "source": [
    "## Define the query to compute the histogram"
   ]
  },
  {
   "cell_type": "code",
   "execution_count": 3,
   "metadata": {},
   "outputs": [],
   "source": [
    "table_name = \"data\" # table or temporary view containing the data\n",
    "value_col = \"random_value\" # column name on which to compute the histogram\n",
    "min = -20  # min: minimum value in the histogram\n",
    "max = 90   # maximum value in the histogram\n",
    "bins = 11  # number of histogram buckets to compute\n",
    "step = (max - min) / bins\n",
    "        \n",
    "query = f\"\"\"\n",
    "with hist as (\n",
    "  select \n",
    "      width_bucket({value_col}, {min}, {max}, {bins}) as bucket,\n",
    "      count(*) as cnt\n",
    "  from {table_name}\n",
    "  group by bucket\n",
    "),\n",
    "buckets as (\n",
    "  select generate_series as bucket from generate_series(1,{bins})\n",
    ")\n",
    "select\n",
    "    bucket, {min} + (bucket - 0.5) * {step} as value,\n",
    "    coalesce(cnt, 0) as count\n",
    "from hist right outer join buckets using(bucket)\n",
    "order by bucket\n",
    "\"\"\"\n",
    "    "
   ]
  },
  {
   "cell_type": "markdown",
   "metadata": {},
   "source": [
    "## Fetch the histogram data into a pandas dataframe"
   ]
  },
  {
   "cell_type": "code",
   "execution_count": 4,
   "metadata": {},
   "outputs": [
    {
     "name": "stderr",
     "output_type": "stream",
     "text": [
      "/home/luca/anaconda202205/lib/python3.9/site-packages/pandas/io/sql.py:761: UserWarning: pandas only support SQLAlchemy connectable(engine/connection) ordatabase string URI or sqlite3 DBAPI2 connectionother DBAPI2 objects are not tested, please consider using SQLAlchemy\n",
      "  warnings.warn(\n"
     ]
    },
    {
     "data": {
      "text/html": [
       "<div>\n",
       "<style scoped>\n",
       "    .dataframe tbody tr th:only-of-type {\n",
       "        vertical-align: middle;\n",
       "    }\n",
       "\n",
       "    .dataframe tbody tr th {\n",
       "        vertical-align: top;\n",
       "    }\n",
       "\n",
       "    .dataframe thead th {\n",
       "        text-align: right;\n",
       "    }\n",
       "</style>\n",
       "<table border=\"1\" class=\"dataframe\">\n",
       "  <thead>\n",
       "    <tr style=\"text-align: right;\">\n",
       "      <th></th>\n",
       "      <th>bucket</th>\n",
       "      <th>value</th>\n",
       "      <th>count</th>\n",
       "    </tr>\n",
       "  </thead>\n",
       "  <tbody>\n",
       "    <tr>\n",
       "      <th>0</th>\n",
       "      <td>1</td>\n",
       "      <td>-15.0</td>\n",
       "      <td>0</td>\n",
       "    </tr>\n",
       "    <tr>\n",
       "      <th>1</th>\n",
       "      <td>2</td>\n",
       "      <td>-5.0</td>\n",
       "      <td>0</td>\n",
       "    </tr>\n",
       "    <tr>\n",
       "      <th>2</th>\n",
       "      <td>3</td>\n",
       "      <td>5.0</td>\n",
       "      <td>18</td>\n",
       "    </tr>\n",
       "    <tr>\n",
       "      <th>3</th>\n",
       "      <td>4</td>\n",
       "      <td>15.0</td>\n",
       "      <td>5</td>\n",
       "    </tr>\n",
       "    <tr>\n",
       "      <th>4</th>\n",
       "      <td>5</td>\n",
       "      <td>25.0</td>\n",
       "      <td>12</td>\n",
       "    </tr>\n",
       "    <tr>\n",
       "      <th>5</th>\n",
       "      <td>6</td>\n",
       "      <td>35.0</td>\n",
       "      <td>7</td>\n",
       "    </tr>\n",
       "    <tr>\n",
       "      <th>6</th>\n",
       "      <td>7</td>\n",
       "      <td>45.0</td>\n",
       "      <td>6</td>\n",
       "    </tr>\n",
       "    <tr>\n",
       "      <th>7</th>\n",
       "      <td>8</td>\n",
       "      <td>55.0</td>\n",
       "      <td>13</td>\n",
       "    </tr>\n",
       "    <tr>\n",
       "      <th>8</th>\n",
       "      <td>9</td>\n",
       "      <td>65.0</td>\n",
       "      <td>12</td>\n",
       "    </tr>\n",
       "    <tr>\n",
       "      <th>9</th>\n",
       "      <td>10</td>\n",
       "      <td>75.0</td>\n",
       "      <td>10</td>\n",
       "    </tr>\n",
       "    <tr>\n",
       "      <th>10</th>\n",
       "      <td>11</td>\n",
       "      <td>85.0</td>\n",
       "      <td>9</td>\n",
       "    </tr>\n",
       "  </tbody>\n",
       "</table>\n",
       "</div>"
      ],
      "text/plain": [
       "    bucket  value  count\n",
       "0        1  -15.0      0\n",
       "1        2   -5.0      0\n",
       "2        3    5.0     18\n",
       "3        4   15.0      5\n",
       "4        5   25.0     12\n",
       "5        6   35.0      7\n",
       "6        7   45.0      6\n",
       "7        8   55.0     13\n",
       "8        9   65.0     12\n",
       "9       10   75.0     10\n",
       "10      11   85.0      9"
      ]
     },
     "execution_count": 4,
     "metadata": {},
     "output_type": "execute_result"
    }
   ],
   "source": [
    "import pandas as pd\n",
    "\n",
    "# query Oracle using ora_conn and put the result into a pandas Dataframe\n",
    "with psycopg2.connect(\"dbname=yugabyte user=yugabyte host=localhost port=5433\") as yb_conn:\n",
    "    hist_pandasDF = pd.read_sql(query, con=yb_conn)  \n",
    "\n",
    "# Decription\n",
    "#\n",
    "# bucket: the bucket number, range from 1 to bins (included)\n",
    "# value: midpoint value of the given bucket\n",
    "# count: number of values in the bucket    \n",
    "            \n",
    "hist_pandasDF"
   ]
  },
  {
   "cell_type": "code",
   "execution_count": 5,
   "metadata": {},
   "outputs": [
    {
     "data": {
      "text/html": [
       "<div>\n",
       "<style scoped>\n",
       "    .dataframe tbody tr th:only-of-type {\n",
       "        vertical-align: middle;\n",
       "    }\n",
       "\n",
       "    .dataframe tbody tr th {\n",
       "        vertical-align: top;\n",
       "    }\n",
       "\n",
       "    .dataframe thead th {\n",
       "        text-align: right;\n",
       "    }\n",
       "</style>\n",
       "<table border=\"1\" class=\"dataframe\">\n",
       "  <thead>\n",
       "    <tr style=\"text-align: right;\">\n",
       "      <th></th>\n",
       "      <th>bucket</th>\n",
       "      <th>value</th>\n",
       "      <th>count</th>\n",
       "      <th>frequency</th>\n",
       "    </tr>\n",
       "  </thead>\n",
       "  <tbody>\n",
       "    <tr>\n",
       "      <th>0</th>\n",
       "      <td>1</td>\n",
       "      <td>-15.0</td>\n",
       "      <td>0</td>\n",
       "      <td>0.000000</td>\n",
       "    </tr>\n",
       "    <tr>\n",
       "      <th>1</th>\n",
       "      <td>2</td>\n",
       "      <td>-5.0</td>\n",
       "      <td>0</td>\n",
       "      <td>0.000000</td>\n",
       "    </tr>\n",
       "    <tr>\n",
       "      <th>2</th>\n",
       "      <td>3</td>\n",
       "      <td>5.0</td>\n",
       "      <td>18</td>\n",
       "      <td>0.195652</td>\n",
       "    </tr>\n",
       "    <tr>\n",
       "      <th>3</th>\n",
       "      <td>4</td>\n",
       "      <td>15.0</td>\n",
       "      <td>5</td>\n",
       "      <td>0.054348</td>\n",
       "    </tr>\n",
       "    <tr>\n",
       "      <th>4</th>\n",
       "      <td>5</td>\n",
       "      <td>25.0</td>\n",
       "      <td>12</td>\n",
       "      <td>0.130435</td>\n",
       "    </tr>\n",
       "    <tr>\n",
       "      <th>5</th>\n",
       "      <td>6</td>\n",
       "      <td>35.0</td>\n",
       "      <td>7</td>\n",
       "      <td>0.076087</td>\n",
       "    </tr>\n",
       "    <tr>\n",
       "      <th>6</th>\n",
       "      <td>7</td>\n",
       "      <td>45.0</td>\n",
       "      <td>6</td>\n",
       "      <td>0.065217</td>\n",
       "    </tr>\n",
       "    <tr>\n",
       "      <th>7</th>\n",
       "      <td>8</td>\n",
       "      <td>55.0</td>\n",
       "      <td>13</td>\n",
       "      <td>0.141304</td>\n",
       "    </tr>\n",
       "    <tr>\n",
       "      <th>8</th>\n",
       "      <td>9</td>\n",
       "      <td>65.0</td>\n",
       "      <td>12</td>\n",
       "      <td>0.130435</td>\n",
       "    </tr>\n",
       "    <tr>\n",
       "      <th>9</th>\n",
       "      <td>10</td>\n",
       "      <td>75.0</td>\n",
       "      <td>10</td>\n",
       "      <td>0.108696</td>\n",
       "    </tr>\n",
       "    <tr>\n",
       "      <th>10</th>\n",
       "      <td>11</td>\n",
       "      <td>85.0</td>\n",
       "      <td>9</td>\n",
       "      <td>0.097826</td>\n",
       "    </tr>\n",
       "  </tbody>\n",
       "</table>\n",
       "</div>"
      ],
      "text/plain": [
       "    bucket  value  count  frequency\n",
       "0        1  -15.0      0   0.000000\n",
       "1        2   -5.0      0   0.000000\n",
       "2        3    5.0     18   0.195652\n",
       "3        4   15.0      5   0.054348\n",
       "4        5   25.0     12   0.130435\n",
       "5        6   35.0      7   0.076087\n",
       "6        7   45.0      6   0.065217\n",
       "7        8   55.0     13   0.141304\n",
       "8        9   65.0     12   0.130435\n",
       "9       10   75.0     10   0.108696\n",
       "10      11   85.0      9   0.097826"
      ]
     },
     "execution_count": 5,
     "metadata": {},
     "output_type": "execute_result"
    }
   ],
   "source": [
    "# Optionally normalize the event count into a frequency\n",
    "# dividing by the total number of events\n",
    " \n",
    "hist_pandasDF[\"frequency\"] = hist_pandasDF[\"count\"] / sum(hist_pandasDF[\"count\"]) \n",
    "              \n",
    "hist_pandasDF"
   ]
  },
  {
   "cell_type": "markdown",
   "metadata": {},
   "source": [
    "## Histogram plotting\n",
    "\n",
    "The first plot is a histogram with the event counts (number of events per bin).\n",
    "The second plot is a histogram of the events frequencies (number of events per bin normalized by the sum of the events).\n"
   ]
  },
  {
   "cell_type": "code",
   "execution_count": 6,
   "metadata": {},
   "outputs": [
    {
     "data": {
      "image/png": "[encoded data removed]",
      "text/plain": [
       "<Figure size 1008x720 with 1 Axes>"
      ]
     },
     "metadata": {},
     "output_type": "display_data"
    }
   ],
   "source": [
    "import matplotlib.pyplot as plt \n",
    "plt.style.use('seaborn-darkgrid')\n",
    "plt.rcParams.update({'font.size': 20, 'figure.figsize': [14,10]})\n",
    "\n",
    "f, ax = plt.subplots()\n",
    "\n",
    "# histogram data\n",
    "x = hist_pandasDF[\"value\"]\n",
    "y = hist_pandasDF[\"count\"]\n",
    "\n",
    "# bar plot\n",
    "ax.bar(x, y, width = 3.0, color='red')\n",
    "\n",
    "ax.set_xlabel(\"Bucket values\")\n",
    "ax.set_ylabel(\"Event count\")\n",
    "ax.set_title(\"Distribution of event counts\")\n",
    "\n",
    "# Label for the resonances spectrum peaks\n",
    "txt_opts = {'horizontalalignment': 'center',\n",
    "            'verticalalignment': 'center',\n",
    "            'transform': ax.transAxes}\n",
    "\n",
    "plt.show()\n"
   ]
  },
  {
   "cell_type": "code",
   "execution_count": 7,
   "metadata": {},
   "outputs": [
    {
     "data": {
      "image/png": "[encoded data removed]",
      "text/plain": [
       "<Figure size 1008x720 with 1 Axes>"
      ]
     },
     "metadata": {},
     "output_type": "display_data"
    }
   ],
   "source": [
    "import matplotlib.pyplot as plt \n",
    "plt.style.use('seaborn-darkgrid')\n",
    "plt.rcParams.update({'font.size': 20, 'figure.figsize': [14,10]})\n",
    "\n",
    "f, ax = plt.subplots()\n",
    "\n",
    "# histogram data\n",
    "x = hist_pandasDF[\"value\"]\n",
    "y = hist_pandasDF[\"frequency\"]\n",
    "\n",
    "# bar plot\n",
    "ax.bar(x, y, width = 3.0, color='blue')\n",
    "\n",
    "ax.set_xlabel(\"Bucket values\")\n",
    "ax.set_ylabel(\"Event frequency\")\n",
    "ax.set_title(\"Distribution of event frequencies\")\n",
    "\n",
    "# Label for the resonances spectrum peaks\n",
    "txt_opts = {'horizontalalignment': 'center',\n",
    "            'verticalalignment': 'center',\n",
    "            'transform': ax.transAxes}\n",
    "\n",
    "plt.show()\n"
   ]
  },
  {
   "cell_type": "code",
   "execution_count": null,
   "metadata": {},
   "outputs": [],
   "source": []
  }
 ],
 "metadata": {
  "kernelspec": {
   "display_name": "Python 3 (ipykernel)",
   "language": "python",
   "name": "python3"
  },
  "language_info": {
   "codemirror_mode": {
    "name": "ipython",
    "version": 3
   },
   "file_extension": ".py",
   "mimetype": "text/x-python",
   "name": "python",
   "nbconvert_exporter": "python",
   "pygments_lexer": "ipython3",
   "version": "3.9.12"
  }
 },
 "nbformat": 4,
 "nbformat_minor": 1
}
