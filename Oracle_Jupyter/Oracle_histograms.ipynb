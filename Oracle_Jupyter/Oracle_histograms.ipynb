{
 "cells": [
  {
   "cell_type": "markdown",
   "metadata": {},
   "source": [
    "# How to generate histograms using Oracle SQL\n",
    "\n",
    "This provides and example of how to generate frequency histograms using the Oracle SQL.\n",
    "Disambiguation: we refer here to computing histograms of table data, rather than histograms of the columns statistics used by the cost based optimizer.\n",
    "\n",
    "Dependencies: needs an [Oracle client installation](http://www.oracle.com/technetwork/topics/linuxx86-64soft-092277.html) and [cx_Oracle](https://pypi.python.org/pypi/cx_Oracle)\n",
    "\n",
    "Author and contacts: Luca.Canali@cern.ch"
   ]
  },
  {
   "cell_type": "markdown",
   "metadata": {},
   "source": [
    "## Setup and prerequisites"
   ]
  },
  {
   "cell_type": "raw",
   "metadata": {},
   "source": [
    "This is how you can setup an Oracle instance for testing using a docker image for oracle-xe \n",
    "\n",
    "# run oracle xe on a container from gvenzl dockerhub repo\n",
    "# see also https://github.com/gvenzl/oci-oracle-xe\n",
    "docker run -d --name mydb1 -e ORACLE_PASSWORD=oracle -p 1521:1521 gvenzl/oracle-xe:latest # or use :slim\n",
    "\n",
    "# wait till the DB is started, check logs at:\n",
    "docker logs -f mydb1\n"
   ]
  },
  {
   "cell_type": "raw",
   "metadata": {},
   "source": [
    "Setup Oracle client and LD_LIBRARY_PATH\n",
    "\n",
    "download from https://www.oracle.com/database/technologies/instant-client/linux-x86-64-downloads.html\n",
    "and insall locally\n",
    "    \n",
    "test connection using sqlplus\n",
    "\n",
    "# cd /home/luca/oracle_client/instantclient_19_10 \n",
    "cd <oracle_client_home_path> # edit as neeeded\n",
    "export LD_LIBRARY_PATH=$PWD\n",
    "./sqlplus system/oracle@//localhost:1521/XEPDB1\n"
   ]
  },
  {
   "cell_type": "raw",
   "metadata": {},
   "source": [
    "restart jupyter in order to set\n",
    "\n",
    "export LD_LIBRARY_PATH=<oracle_client_home_path> # edit path as neeeded"
   ]
  },
  {
   "cell_type": "markdown",
   "metadata": {},
   "source": [
    "## Query Oracle from Python with cx_Oracle"
   ]
  },
  {
   "cell_type": "code",
   "execution_count": 1,
   "metadata": {},
   "outputs": [],
   "source": [
    "# connect to Oracle using cx_Oracle\n",
    "# !pip install cx_Oracle if needed\n",
    "\n",
    "import cx_Oracle\n",
    "\n",
    "db_user = 'system'\n",
    "db_connect_string = 'localhost:1521/XEPDB1'\n",
    "db_pass = 'oracle'\n",
    "\n",
    "# db_connect_string = 'dbserver:1521/orcl.mydomain.com'\n",
    "# import getpass\n",
    "# db_pass = getpass.getpass()\n"
   ]
  },
  {
   "cell_type": "markdown",
   "metadata": {},
   "source": [
    "## Create the test table"
   ]
  },
  {
   "cell_type": "code",
   "execution_count": 2,
   "metadata": {},
   "outputs": [],
   "source": [
    "with cx_Oracle.connect(user=db_user, password=db_pass, dsn=db_connect_string) as ora_conn:\n",
    "\n",
    "    cursor = ora_conn.cursor()\n",
    "    \n",
    "    # use this drop statement if you need to recreate the table\n",
    "    # cursor.execute(\"drop table data\")\n",
    "\n",
    "    cursor.execute(\"begin dbms_random.seed(4242); end;\")\n",
    "\n",
    "    cursor.execute(\"\"\"\n",
    "        create table data as \n",
    "        select dbms_random.value * 100 random_value \n",
    "        from dual connect by level <=100\n",
    "        \"\"\")\n",
    "\n"
   ]
  },
  {
   "cell_type": "markdown",
   "metadata": {},
   "source": [
    "## Define the query to compute the histogram"
   ]
  },
  {
   "cell_type": "code",
   "execution_count": 3,
   "metadata": {},
   "outputs": [],
   "source": [
    "table_name = \"data\" # table or temporary view containing the data\n",
    "value_col = \"random_value\" # column name on which to compute the histogram\n",
    "min = -20  # min: minimum value in the histogram\n",
    "max = 90   # maximum value in the histogram\n",
    "bins = 11  # number of histogram buckets to compute\n",
    "step = (max - min) / bins\n",
    "        \n",
    "\n",
    "query = f\"\"\"\n",
    "with bucketized as (\n",
    "  select width_bucket({value_col}, {min}, {max}, {bins}) as bucket\n",
    "  from {table_name}\n",
    "),\n",
    "hist as (\n",
    "  select bucket, count(*) as cnt\n",
    "  from bucketized\n",
    "  group by bucket\n",
    "),\n",
    "buckets as (\n",
    "  select rownum as bucket from dual connect by level <= {bins}\n",
    ")\n",
    "select\n",
    "    bucket, {min} + (bucket - 1/2) * {step} as value,\n",
    "    nvl(cnt, 0) as count\n",
    "from hist right outer join buckets using(bucket)\n",
    "order by bucket\n",
    "\"\"\""
   ]
  },
  {
   "cell_type": "markdown",
   "metadata": {},
   "source": [
    "## Fetch the histogram data into a pandas dataframe"
   ]
  },
  {
   "cell_type": "code",
   "execution_count": 4,
   "metadata": {},
   "outputs": [
    {
     "data": {
      "text/html": [
       "<div>\n",
       "<style scoped>\n",
       "    .dataframe tbody tr th:only-of-type {\n",
       "        vertical-align: middle;\n",
       "    }\n",
       "\n",
       "    .dataframe tbody tr th {\n",
       "        vertical-align: top;\n",
       "    }\n",
       "\n",
       "    .dataframe thead th {\n",
       "        text-align: right;\n",
       "    }\n",
       "</style>\n",
       "<table border=\"1\" class=\"dataframe\">\n",
       "  <thead>\n",
       "    <tr style=\"text-align: right;\">\n",
       "      <th></th>\n",
       "      <th>BUCKET</th>\n",
       "      <th>VALUE</th>\n",
       "      <th>COUNT</th>\n",
       "    </tr>\n",
       "  </thead>\n",
       "  <tbody>\n",
       "    <tr>\n",
       "      <th>0</th>\n",
       "      <td>1</td>\n",
       "      <td>-15</td>\n",
       "      <td>0</td>\n",
       "    </tr>\n",
       "    <tr>\n",
       "      <th>1</th>\n",
       "      <td>2</td>\n",
       "      <td>-5</td>\n",
       "      <td>0</td>\n",
       "    </tr>\n",
       "    <tr>\n",
       "      <th>2</th>\n",
       "      <td>3</td>\n",
       "      <td>5</td>\n",
       "      <td>9</td>\n",
       "    </tr>\n",
       "    <tr>\n",
       "      <th>3</th>\n",
       "      <td>4</td>\n",
       "      <td>15</td>\n",
       "      <td>7</td>\n",
       "    </tr>\n",
       "    <tr>\n",
       "      <th>4</th>\n",
       "      <td>5</td>\n",
       "      <td>25</td>\n",
       "      <td>12</td>\n",
       "    </tr>\n",
       "    <tr>\n",
       "      <th>5</th>\n",
       "      <td>6</td>\n",
       "      <td>35</td>\n",
       "      <td>13</td>\n",
       "    </tr>\n",
       "    <tr>\n",
       "      <th>6</th>\n",
       "      <td>7</td>\n",
       "      <td>45</td>\n",
       "      <td>7</td>\n",
       "    </tr>\n",
       "    <tr>\n",
       "      <th>7</th>\n",
       "      <td>8</td>\n",
       "      <td>55</td>\n",
       "      <td>11</td>\n",
       "    </tr>\n",
       "    <tr>\n",
       "      <th>8</th>\n",
       "      <td>9</td>\n",
       "      <td>65</td>\n",
       "      <td>8</td>\n",
       "    </tr>\n",
       "    <tr>\n",
       "      <th>9</th>\n",
       "      <td>10</td>\n",
       "      <td>75</td>\n",
       "      <td>13</td>\n",
       "    </tr>\n",
       "    <tr>\n",
       "      <th>10</th>\n",
       "      <td>11</td>\n",
       "      <td>85</td>\n",
       "      <td>11</td>\n",
       "    </tr>\n",
       "  </tbody>\n",
       "</table>\n",
       "</div>"
      ],
      "text/plain": [
       "    BUCKET  VALUE  COUNT\n",
       "0        1    -15      0\n",
       "1        2     -5      0\n",
       "2        3      5      9\n",
       "3        4     15      7\n",
       "4        5     25     12\n",
       "5        6     35     13\n",
       "6        7     45      7\n",
       "7        8     55     11\n",
       "8        9     65      8\n",
       "9       10     75     13\n",
       "10      11     85     11"
      ]
     },
     "execution_count": 4,
     "metadata": {},
     "output_type": "execute_result"
    }
   ],
   "source": [
    "import pandas as pd\n",
    "\n",
    "# query Oracle using ora_conn and put the result into a pandas Dataframe\n",
    "with cx_Oracle.connect(user=db_user, password=db_pass, dsn=db_connect_string) as ora_conn:\n",
    "    hist_pandasDF = pd.read_sql(query, con=ora_conn)    \n",
    "\n",
    "# Decription\n",
    "#\n",
    "# BUCKET: the bucket number, range from 1 to bins (included)\n",
    "# VALUE: midpoint value of the given bucket\n",
    "# COUNT: number of values in the bucket \n",
    "            \n",
    "hist_pandasDF"
   ]
  },
  {
   "cell_type": "code",
   "execution_count": 5,
   "metadata": {},
   "outputs": [
    {
     "data": {
      "text/html": [
       "<div>\n",
       "<style scoped>\n",
       "    .dataframe tbody tr th:only-of-type {\n",
       "        vertical-align: middle;\n",
       "    }\n",
       "\n",
       "    .dataframe tbody tr th {\n",
       "        vertical-align: top;\n",
       "    }\n",
       "\n",
       "    .dataframe thead th {\n",
       "        text-align: right;\n",
       "    }\n",
       "</style>\n",
       "<table border=\"1\" class=\"dataframe\">\n",
       "  <thead>\n",
       "    <tr style=\"text-align: right;\">\n",
       "      <th></th>\n",
       "      <th>BUCKET</th>\n",
       "      <th>VALUE</th>\n",
       "      <th>COUNT</th>\n",
       "      <th>FREQUENCY</th>\n",
       "    </tr>\n",
       "  </thead>\n",
       "  <tbody>\n",
       "    <tr>\n",
       "      <th>0</th>\n",
       "      <td>1</td>\n",
       "      <td>-15</td>\n",
       "      <td>0</td>\n",
       "      <td>0.000000</td>\n",
       "    </tr>\n",
       "    <tr>\n",
       "      <th>1</th>\n",
       "      <td>2</td>\n",
       "      <td>-5</td>\n",
       "      <td>0</td>\n",
       "      <td>0.000000</td>\n",
       "    </tr>\n",
       "    <tr>\n",
       "      <th>2</th>\n",
       "      <td>3</td>\n",
       "      <td>5</td>\n",
       "      <td>9</td>\n",
       "      <td>0.098901</td>\n",
       "    </tr>\n",
       "    <tr>\n",
       "      <th>3</th>\n",
       "      <td>4</td>\n",
       "      <td>15</td>\n",
       "      <td>7</td>\n",
       "      <td>0.076923</td>\n",
       "    </tr>\n",
       "    <tr>\n",
       "      <th>4</th>\n",
       "      <td>5</td>\n",
       "      <td>25</td>\n",
       "      <td>12</td>\n",
       "      <td>0.131868</td>\n",
       "    </tr>\n",
       "    <tr>\n",
       "      <th>5</th>\n",
       "      <td>6</td>\n",
       "      <td>35</td>\n",
       "      <td>13</td>\n",
       "      <td>0.142857</td>\n",
       "    </tr>\n",
       "    <tr>\n",
       "      <th>6</th>\n",
       "      <td>7</td>\n",
       "      <td>45</td>\n",
       "      <td>7</td>\n",
       "      <td>0.076923</td>\n",
       "    </tr>\n",
       "    <tr>\n",
       "      <th>7</th>\n",
       "      <td>8</td>\n",
       "      <td>55</td>\n",
       "      <td>11</td>\n",
       "      <td>0.120879</td>\n",
       "    </tr>\n",
       "    <tr>\n",
       "      <th>8</th>\n",
       "      <td>9</td>\n",
       "      <td>65</td>\n",
       "      <td>8</td>\n",
       "      <td>0.087912</td>\n",
       "    </tr>\n",
       "    <tr>\n",
       "      <th>9</th>\n",
       "      <td>10</td>\n",
       "      <td>75</td>\n",
       "      <td>13</td>\n",
       "      <td>0.142857</td>\n",
       "    </tr>\n",
       "    <tr>\n",
       "      <th>10</th>\n",
       "      <td>11</td>\n",
       "      <td>85</td>\n",
       "      <td>11</td>\n",
       "      <td>0.120879</td>\n",
       "    </tr>\n",
       "  </tbody>\n",
       "</table>\n",
       "</div>"
      ],
      "text/plain": [
       "    BUCKET  VALUE  COUNT  FREQUENCY\n",
       "0        1    -15      0   0.000000\n",
       "1        2     -5      0   0.000000\n",
       "2        3      5      9   0.098901\n",
       "3        4     15      7   0.076923\n",
       "4        5     25     12   0.131868\n",
       "5        6     35     13   0.142857\n",
       "6        7     45      7   0.076923\n",
       "7        8     55     11   0.120879\n",
       "8        9     65      8   0.087912\n",
       "9       10     75     13   0.142857\n",
       "10      11     85     11   0.120879"
      ]
     },
     "execution_count": 5,
     "metadata": {},
     "output_type": "execute_result"
    }
   ],
   "source": [
    "# Optionally normalize the event count into a frequency\n",
    "# dividing by the total number of events\n",
    " \n",
    "hist_pandasDF[\"FREQUENCY\"] = hist_pandasDF[\"COUNT\"] / sum(hist_pandasDF[\"COUNT\"]) \n",
    "              \n",
    "hist_pandasDF"
   ]
  },
  {
   "cell_type": "markdown",
   "metadata": {},
   "source": [
    "## Histogram plotting\n",
    "\n",
    "The first plot is a histogram with the event counts (number of events per bin).\n",
    "The second plot is a histogram of the events frequencies (number of events per bin normalized by the sum of the events).\n"
   ]
  },
  {
   "cell_type": "code",
   "execution_count": 6,
   "metadata": {},
   "outputs": [
    {
     "data": {
      "image/png": "[encoded data removed]",
      "text/plain": [
       "<Figure size 1008x720 with 1 Axes>"
      ]
     },
     "metadata": {},
     "output_type": "display_data"
    }
   ],
   "source": [
    "import matplotlib.pyplot as plt \n",
    "plt.style.use('seaborn-darkgrid')\n",
    "plt.rcParams.update({'font.size': 20, 'figure.figsize': [14,10]})\n",
    "\n",
    "f, ax = plt.subplots()\n",
    "\n",
    "# histogram data\n",
    "x = hist_pandasDF[\"VALUE\"]\n",
    "y = hist_pandasDF[\"COUNT\"]\n",
    "\n",
    "# bar plot\n",
    "ax.bar(x, y, width = 3.0, color='red')\n",
    "\n",
    "ax.set_xlabel(\"Bucket values\")\n",
    "ax.set_ylabel(\"Event count\")\n",
    "ax.set_title(\"Distribution of event counts\")\n",
    "\n",
    "# Label for the resonances spectrum peaks\n",
    "txt_opts = {'horizontalalignment': 'center',\n",
    "            'verticalalignment': 'center',\n",
    "            'transform': ax.transAxes}\n",
    "\n",
    "plt.show()"
   ]
  },
  {
   "cell_type": "code",
   "execution_count": 7,
   "metadata": {},
   "outputs": [
    {
     "data": {
      "image/png": "[encoded data removed]",
      "text/plain": [
       "<Figure size 1008x720 with 1 Axes>"
      ]
     },
     "metadata": {},
     "output_type": "display_data"
    }
   ],
   "source": [
    "\n",
    "\n",
    "import matplotlib.pyplot as plt \n",
    "plt.style.use('seaborn-darkgrid')\n",
    "plt.rcParams.update({'font.size': 20, 'figure.figsize': [14,10]})\n",
    "\n",
    "f, ax = plt.subplots()\n",
    "\n",
    "# histogram data\n",
    "x = hist_pandasDF[\"VALUE\"]\n",
    "y = hist_pandasDF[\"FREQUENCY\"]\n",
    "\n",
    "# bar plot\n",
    "ax.bar(x, y, width = 3.0, color='blue')\n",
    "\n",
    "ax.set_xlabel(\"Bucket values\")\n",
    "ax.set_ylabel(\"Event frequency\")\n",
    "ax.set_title(\"Distribution of event frequencies\")\n",
    "\n",
    "# Label for the resonances spectrum peaks\n",
    "txt_opts = {'horizontalalignment': 'center',\n",
    "            'verticalalignment': 'center',\n",
    "            'transform': ax.transAxes}\n",
    "\n",
    "plt.show()\n",
    "\n"
   ]
  },
  {
   "cell_type": "code",
   "execution_count": null,
   "metadata": {},
   "outputs": [],
   "source": []
  }
 ],
 "metadata": {
  "kernelspec": {
   "display_name": "Python 3 (ipykernel)",
   "language": "python",
   "name": "python3"
  },
  "language_info": {
   "codemirror_mode": {
    "name": "ipython",
    "version": 3
   },
   "file_extension": ".py",
   "mimetype": "text/x-python",
   "name": "python",
   "nbconvert_exporter": "python",
   "pygments_lexer": "ipython3",
   "version": "3.9.7"
  }
 },
 "nbformat": 4,
 "nbformat_minor": 1
}
