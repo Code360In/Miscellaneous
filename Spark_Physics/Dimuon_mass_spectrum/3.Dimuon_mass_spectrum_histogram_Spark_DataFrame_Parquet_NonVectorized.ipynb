{
 "cells": [
  {
   "cell_type": "markdown",
   "id": "c97f8c4d",
   "metadata": {},
   "source": [
    "# Histogram of the Dimuon Mass Spectrum\n",
    "\n",
    "This implements the dimuon mass spectrum analysis, a \"Hello World!\" example for data analysis in High Energy Physics. It is intended as a technology demonstrator for the use Apache Spark for High Energy Physics.\n",
    "\n",
    "The workload and data:\n",
    "  - The input data is a series of candidate muon events. \n",
    "  - The job output is a histogram of the dimuon mass spectrum, where several peaks (resonances) can be identified corresponding to well-know particles (e.g. the Z boson at 91 Gev).\n",
    "  - The computation is based on https://root.cern.ch/doc/master/df102__NanoAODDimuonAnalysis_8C.html and CERN open data from the CMS collaboration linked there. \n",
    "  - See also https://github.com/LucaCanali/Miscellaneous/tree/master/Spark_Physics\n",
    "  \n",
    "Author and contact: Luca.Canali@cern.ch  \n",
    "January, 2022"
   ]
  },
  {
   "cell_type": "markdown",
   "id": "22d54a3d",
   "metadata": {},
   "source": [
    "## Dimuon mass spectrum calculation with Spark DataFrame API"
   ]
  },
  {
   "cell_type": "code",
   "execution_count": null,
   "id": "ca1f1acf",
   "metadata": {},
   "outputs": [],
   "source": [
    "# Download the data (2 GB) if not yet available locally\n",
    "\n",
    "! wget https://sparkdltrigger.web.cern.ch/sparkdltrigger/Run2012BC_DoubleMuParked_Muons.parquet"
   ]
  },
  {
   "cell_type": "code",
   "execution_count": null,
   "id": "2da1ae6b",
   "metadata": {},
   "outputs": [],
   "source": [
    "# install PySpark if needed\n",
    "# !pip install pyspark\n",
    "\n",
    "# install sparkhistogram\n",
    "!pip install sparkhistogram"
   ]
  },
  {
   "cell_type": "code",
   "execution_count": null,
   "id": "bee0e073",
   "metadata": {},
   "outputs": [],
   "source": [
    "# Start the Spark Session\n",
    "# This uses local mode for simplicity\n",
    "# the use of findspark is optional\n",
    "\n",
    "# import findspark\n",
    "# findspark.init(\"/home/luca/Spark/spark-3.3.0-bin-hadoop3\")\n",
    "\n",
    "from pyspark.sql import SparkSession\n",
    "spark = (SparkSession.builder\n",
    "         .appName(\"dimuon mass\")\n",
    "         .master(\"local[4]\")\n",
    "         .config(\"spark.driver.memory\", \"2g\")\n",
    "         .config(\"spark.sql.parquet.enableNestedColumnVectorizedReader\", \"false\")\n",
    "         .getOrCreate()\n",
    "        )"
   ]
  },
  {
   "cell_type": "code",
   "execution_count": 2,
   "id": "ab108ade",
   "metadata": {},
   "outputs": [
    {
     "name": "stderr",
     "output_type": "stream",
     "text": [
      "\r",
      "[Stage 0:>                                                          (0 + 1) / 1]\r",
      "\r",
      "                                                                                \r"
     ]
    },
    {
     "name": "stdout",
     "output_type": "stream",
     "text": [
      "root\n",
      " |-- nMuon: long (nullable = true)\n",
      " |-- Muon_pt: array (nullable = true)\n",
      " |    |-- element: float (containsNull = true)\n",
      " |-- Muon_eta: array (nullable = true)\n",
      " |    |-- element: float (containsNull = true)\n",
      " |-- Muon_phi: array (nullable = true)\n",
      " |    |-- element: float (containsNull = true)\n",
      " |-- Muon_mass: array (nullable = true)\n",
      " |    |-- element: float (containsNull = true)\n",
      " |-- Muon_charge: array (nullable = true)\n",
      " |    |-- element: integer (containsNull = true)\n",
      "\n",
      "Number of events: 61540413\n"
     ]
    }
   ],
   "source": [
    "# Read data with the muon candidate events\n",
    "\n",
    "path = \"./\"\n",
    "df_muons = spark.read.parquet(path + \"Run2012BC_DoubleMuParked_Muons.parquet\")\n",
    "\n",
    "df_muons.printSchema()\n",
    "print(f\"Number of events: {df_muons.count()}\")"
   ]
  },
  {
   "cell_type": "code",
   "execution_count": 3,
   "id": "e481cb25",
   "metadata": {},
   "outputs": [],
   "source": [
    "# Apply filters to the input data\n",
    "# - select only events with 2 muons\n",
    "# - select only events where the 2 muons have opposite charge\n",
    "\n",
    "df_muons = df_muons.filter(\"nMuon == 2\").filter(\"Muon_charge[0] != Muon_charge[1]\")\n"
   ]
  },
  {
   "cell_type": "code",
   "execution_count": 4,
   "id": "1755d9e8",
   "metadata": {},
   "outputs": [],
   "source": [
    "# This computes the 4-vectors sum for the 2 moun system\n",
    "# using formulas from special relativity, in the limit E >> muons rest mass\n",
    "# see also http://edu.itp.phys.ethz.ch/hs10/ppp1/2010_11_02.pdf\n",
    "# and https://en.wikipedia.org/wiki/Invariant_mass\n",
    "\n",
    "df_with_dimuonmass = df_muons.selectExpr(\"\"\"\n",
    "     sqrt(2 * Muon_pt[0] * Muon_pt[1] * \n",
    "             ( cosh(Muon_eta[0] - Muon_eta[1]) - cos(Muon_phi[0] - Muon_phi[1]) )\n",
    "         ) as Dimuon_mass\"\"\")"
   ]
  },
  {
   "cell_type": "code",
   "execution_count": 5,
   "id": "bac287b3",
   "metadata": {},
   "outputs": [],
   "source": [
    "# This defines the DataFrame transformation to compute the Dimuon mass spectrum\n",
    "# The result is a histogram with (energy) bin values and event counts foreach bin\n",
    "\n",
    "# Requires sparkhistogram\n",
    "# See https://github.com/LucaCanali/Miscellaneous/blob/master/Spark_Notes/Spark_DataFrame_Histograms.md \n",
    "from sparkhistogram import computeHistogram\n",
    "\n",
    "# histogram parameters\n",
    "min_val = 0.25\n",
    "max_val = 300\n",
    "num_bins = 30000\n",
    "\n",
    "# use the helper function computeHistogram in the package sparkhistogram\n",
    "histogram_data = computeHistogram(df_with_dimuonmass, \"Dimuon_mass\", min_val, max_val, num_bins) \n"
   ]
  },
  {
   "cell_type": "code",
   "execution_count": 6,
   "id": "703b649a",
   "metadata": {},
   "outputs": [
    {
     "name": "stderr",
     "output_type": "stream",
     "text": [
      "                                                                                \r"
     ]
    },
    {
     "name": "stdout",
     "output_type": "stream",
     "text": [
      "CPU times: user 393 ms, sys: 39.1 ms, total: 432 ms\n",
      "Wall time: 28.4 s\n"
     ]
    }
   ],
   "source": [
    "# The action toPandas() triggers the computation (Spark uses lazy evaluation)\n",
    "# Histogram data is fetched into the driver as a Pandas DataFrame.\n",
    "\n",
    "%time histogram_data_pandas=histogram_data.toPandas()\n"
   ]
  },
  {
   "cell_type": "code",
   "execution_count": 7,
   "id": "2c7e7821",
   "metadata": {},
   "outputs": [
    {
     "data": {
      "text/html": [
       "<div>\n",
       "<style scoped>\n",
       "    .dataframe tbody tr th:only-of-type {\n",
       "        vertical-align: middle;\n",
       "    }\n",
       "\n",
       "    .dataframe tbody tr th {\n",
       "        vertical-align: top;\n",
       "    }\n",
       "\n",
       "    .dataframe thead th {\n",
       "        text-align: right;\n",
       "    }\n",
       "</style>\n",
       "<table border=\"1\" class=\"dataframe\">\n",
       "  <thead>\n",
       "    <tr style=\"text-align: right;\">\n",
       "      <th></th>\n",
       "      <th>bucket</th>\n",
       "      <th>value</th>\n",
       "      <th>count</th>\n",
       "    </tr>\n",
       "  </thead>\n",
       "  <tbody>\n",
       "    <tr>\n",
       "      <th>0</th>\n",
       "      <td>1</td>\n",
       "      <td>0.254995833333333</td>\n",
       "      <td>19679</td>\n",
       "    </tr>\n",
       "    <tr>\n",
       "      <th>1</th>\n",
       "      <td>2</td>\n",
       "      <td>0.264987500000000</td>\n",
       "      <td>19285</td>\n",
       "    </tr>\n",
       "    <tr>\n",
       "      <th>2</th>\n",
       "      <td>3</td>\n",
       "      <td>0.274979166666667</td>\n",
       "      <td>18972</td>\n",
       "    </tr>\n",
       "    <tr>\n",
       "      <th>3</th>\n",
       "      <td>4</td>\n",
       "      <td>0.284970833333333</td>\n",
       "      <td>18543</td>\n",
       "    </tr>\n",
       "    <tr>\n",
       "      <th>4</th>\n",
       "      <td>5</td>\n",
       "      <td>0.294962500000000</td>\n",
       "      <td>18520</td>\n",
       "    </tr>\n",
       "  </tbody>\n",
       "</table>\n",
       "</div>"
      ],
      "text/plain": [
       "   bucket              value  count\n",
       "0       1  0.254995833333333  19679\n",
       "1       2  0.264987500000000  19285\n",
       "2       3  0.274979166666667  18972\n",
       "3       4  0.284970833333333  18543\n",
       "4       5  0.294962500000000  18520"
      ]
     },
     "execution_count": 7,
     "metadata": {},
     "output_type": "execute_result"
    }
   ],
   "source": [
    "# Preview of the histogram data\n",
    "histogram_data_pandas.head(5)"
   ]
  },
  {
   "cell_type": "code",
   "execution_count": 8,
   "id": "927ff9c0",
   "metadata": {
    "scrolled": false
   },
   "outputs": [
    {
     "data": {
      "image/png": "[encoded data removed]",
      "text/plain": [
       "<Figure size 1008x720 with 1 Axes>"
      ]
     },
     "metadata": {},
     "output_type": "display_data"
    }
   ],
   "source": [
    "import matplotlib.pyplot as plt \n",
    "plt.style.use('seaborn-darkgrid')\n",
    "plt.rcParams.update({'font.size': 20, 'figure.figsize': [14,10]})\n",
    "\n",
    "f, ax = plt.subplots()\n",
    "\n",
    "# cut the first and last bin\n",
    "x = histogram_data_pandas[\"value\"]\n",
    "y = histogram_data_pandas[\"count\"]\n",
    "\n",
    "# line plot\n",
    "ax.plot(x, y, '-')\n",
    "\n",
    "# the plot is in log-log axis to better show the peaks\n",
    "ax.set_xscale(\"log\")\n",
    "ax.set_yscale(\"log\")\n",
    "ax.set_xlim(min_val, max_val)\n",
    "ax.set_ylim(1, 6e5)\n",
    "\n",
    "ax.set_xlabel('$m_{dimuon}$ (GeV)')\n",
    "ax.set_ylabel('Number of Events')\n",
    "ax.set_title(\"Distribution of the Dimuon Mass Spectrum\")\n",
    "\n",
    "# Label for the resonances spectrum peaks\n",
    "txt_opts = {'horizontalalignment': 'center',\n",
    "            'verticalalignment': 'center',\n",
    "            'transform': ax.transAxes}\n",
    "\n",
    "plt.text(0.85, 0.75, 'Z', **txt_opts)\n",
    "plt.text(0.55, 0.77, r\"$\\Upsilon$(1,2,3S)\", **txt_opts)\n",
    "plt.text(0.37, 0.95, r\"J/$\\Psi$\", **txt_opts)\n",
    "plt.text(0.40, 0.77, r\"$\\Psi$'\", **txt_opts)\n",
    "plt.text(0.22, 0.80, r\"$\\phi$\", **txt_opts)\n",
    "plt.text(0.16, 0.83, r\"$\\rho,\\omega$\", **txt_opts)\n",
    "plt.text(0.11, 0.78, r\"$\\eta$\", **txt_opts);\n",
    "\n",
    "plt.show()"
   ]
  },
  {
   "cell_type": "code",
   "execution_count": 9,
   "id": "055c2a6f",
   "metadata": {},
   "outputs": [],
   "source": [
    "spark.stop()"
   ]
  },
  {
   "cell_type": "code",
   "execution_count": null,
   "id": "4a5dcd3a",
   "metadata": {},
   "outputs": [],
   "source": []
  }
 ],
 "metadata": {
  "kernelspec": {
   "display_name": "Python 3 (ipykernel)",
   "language": "python",
   "name": "python3"
  },
  "language_info": {
   "codemirror_mode": {
    "name": "ipython",
    "version": 3
   },
   "file_extension": ".py",
   "mimetype": "text/x-python",
   "name": "python",
   "nbconvert_exporter": "python",
   "pygments_lexer": "ipython3",
   "version": "3.9.12"
  }
 },
 "nbformat": 4,
 "nbformat_minor": 5
}
