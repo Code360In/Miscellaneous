{
 "cells": [
  {
   "cell_type": "markdown",
   "id": "c9c6cffc",
   "metadata": {},
   "source": [
    "# Dimuon mass spectrum with RumbleDB on Apache Spark"
   ]
  },
  {
   "cell_type": "markdown",
   "id": "7d492922",
   "metadata": {},
   "source": [
    "# Histogram of the Dimuon Mass Spectrum\n",
    "\n",
    "This implements the dimuon mass spectrum analysis, a \"Hello World!\" example for data analysis in High Energy Physics. It is intended as a technology demonstrator for the use Apache Spark for High Energy Physics.\n",
    "\n",
    "The workload and data:\n",
    "  - The input data is a series of candidate muon events. \n",
    "  - The job output is a histogram of the dimuon mass spectrum, where several peaks (resonances) can be identified corresponding to well-know particles (e.g. the Z boson at 91 Gev).\n",
    "  - The computation is based on https://root.cern.ch/doc/master/df102__NanoAODDimuonAnalysis_8C.html and CERN open data from the CMS collaboration linked there. \n",
    "  - See also https://github.com/LucaCanali/Miscellaneous/tree/master/Spark_Physics\n",
    "  \n",
    "Author and contact: Luca.Canali@cern.ch  \n",
    "March, 2022"
   ]
  },
  {
   "cell_type": "markdown",
   "id": "b3de4c6c",
   "metadata": {},
   "source": [
    "## Dimuon mass spectrum calculation with Spark DataFrame API"
   ]
  },
  {
   "cell_type": "code",
   "execution_count": null,
   "id": "f2372a9a",
   "metadata": {},
   "outputs": [],
   "source": [
    "# Download the data (2 GB) if not yet available locally\n",
    "\n",
    "! wget https://sparkdltrigger.web.cern.ch/sparkdltrigger/Run2012BC_DoubleMuParked_Muons.parquet"
   ]
  },
  {
   "cell_type": "code",
   "execution_count": 5,
   "id": "5f62617c",
   "metadata": {},
   "outputs": [],
   "source": [
    "# If needed install or update RumbleDB\n",
    "# !pip install -U rumbledb"
   ]
  },
  {
   "cell_type": "code",
   "execution_count": 1,
   "id": "4d320bc3",
   "metadata": {},
   "outputs": [],
   "source": [
    "# RumbleDB runs on Spark\n",
    "# Currently to use RumbleDB on a notebook you need to start RumbleDB on Spark from CLI in serve mode\n",
    "# See https://rumble.readthedocs.io/en/latest/HTTPServer/\n",
    "# Note this is base on RumbleDB v1.18 \"Scarlet Ixora\"\n",
    "\n",
    "# either run from the CLI or from here\n",
    "! $SPARK_HOME/bin/spark-submit --driver-memory 4g rumbledb-1.18.0-for-spark-3.2.jar serve -p 8001\n"
   ]
  },
  {
   "cell_type": "code",
   "execution_count": 2,
   "id": "ec4ec535",
   "metadata": {},
   "outputs": [
    {
     "name": "stdout",
     "output_type": "stream",
     "text": [
      "env: RUMBLEDB_SERVER=http://localhost:8001/jsoniq?materialization-cap=31000\n"
     ]
    }
   ],
   "source": [
    "# Load the Jupyter notebook extension and configute it\n",
    "\n",
    "%load_ext rumbledb\n",
    "\n",
    "# customize the max materialize size\n",
    "%env RUMBLEDB_SERVER=http://localhost:8001/jsoniq?materialization-cap=31000"
   ]
  },
  {
   "cell_type": "markdown",
   "id": "e87de74c",
   "metadata": {},
   "source": [
    "Check that RumbleDB works in the notebook"
   ]
  },
  {
   "cell_type": "code",
   "execution_count": 3,
   "id": "7c073c0b",
   "metadata": {},
   "outputs": [
    {
     "name": "stdout",
     "output_type": "stream",
     "text": [
      "Took: 0.34796595573425293 ms\n",
      "2\n"
     ]
    }
   ],
   "source": [
    "%%jsoniq\n",
    "\n",
    "1+1"
   ]
  },
  {
   "cell_type": "code",
   "execution_count": 8,
   "id": "d724f96e",
   "metadata": {},
   "outputs": [],
   "source": [
    "data = \"\"\"\n",
    "declare function local:histogram($values, $lo, $hi, $num-bins) {\n",
    "  let $flo := float($lo)\n",
    "  let $fhi := float($hi)\n",
    "  let $width := ($fhi - $flo) div float($num-bins)\n",
    "  let $half-width := $width div 2\n",
    "  let $offset := $flo mod $half-width\n",
    "\n",
    "  return\n",
    "    for $value in $values\n",
    "    let $truncated-value :=\n",
    "      if ($value lt $flo) then $flo - $half-width\n",
    "      else\n",
    "        if ($value gt $fhi) then $fhi + $half-width\n",
    "        else $value - $offset\n",
    "    let $bucket-idx := floor($truncated-value div $width)\n",
    "    let $center := $bucket-idx * $width + $half-width + $offset\n",
    "\n",
    "    group by $center\n",
    "    order by $center\n",
    "    return {\"value\": $center, \"N_events\": count($value)}\n",
    "};\n",
    "\n",
    "let $filtered :=\n",
    "  for $event in parquet-file(\"Run2012BC_DoubleMuParked_Muons.parquet\")\n",
    "    where $event.nMuon = 2 \n",
    "          and $event.Muon_charge[[1]] != $event.Muon_charge[[2]]\n",
    "    let $eta_diff := $event.Muon_eta[[1]] - $event.Muon_eta[[2]]\n",
    "    let $phi_diff := $event.Muon_phi[[1]] - $event.Muon_phi[[2]]\n",
    "    let $cosh := (exp($eta_diff) + exp(-$eta_diff)) div 2\n",
    "    let $invariant-mass :=\n",
    "      sqrt(2 * $event.Muon_pt[[1]] * $event.Muon_pt[[2]] * ($cosh - cos($phi_diff)))      \n",
    "  return $invariant-mass\n",
    "\n",
    "return local:histogram($filtered, 0.25, 300, 30000)\n",
    "\"\"\""
   ]
  },
  {
   "cell_type": "code",
   "execution_count": 9,
   "id": "e9a3f03f",
   "metadata": {},
   "outputs": [
    {
     "name": "stdout",
     "output_type": "stream",
     "text": [
      "CPU times: user 75.2 ms, sys: 8.74 ms, total: 84 ms\n",
      "Wall time: 2min 46s\n"
     ]
    }
   ],
   "source": [
    "# runs the jsoniq code and collects the results in a histogram\n",
    "\n",
    "import json\n",
    "import requests\n",
    "\n",
    "server = \"http://localhost:8001/jsoniq?materialization-cap=31000\"\n",
    "\n",
    "%time histogram = json.loads(requests.post(server, data=data).text)"
   ]
  },
  {
   "cell_type": "code",
   "execution_count": 11,
   "id": "a12e99e2",
   "metadata": {},
   "outputs": [],
   "source": [
    "# Conver the resoults into a Pandas Dataframe\n",
    "\n",
    "import pandas as pd\n",
    "\n",
    "histogram_data_pandas = pd.DataFrame(histogram[\"values\"])"
   ]
  },
  {
   "cell_type": "code",
   "execution_count": 12,
   "id": "012cff14",
   "metadata": {},
   "outputs": [
    {
     "data": {
      "text/html": [
       "<div>\n",
       "<style scoped>\n",
       "    .dataframe tbody tr th:only-of-type {\n",
       "        vertical-align: middle;\n",
       "    }\n",
       "\n",
       "    .dataframe tbody tr th {\n",
       "        vertical-align: top;\n",
       "    }\n",
       "\n",
       "    .dataframe thead th {\n",
       "        text-align: right;\n",
       "    }\n",
       "</style>\n",
       "<table border=\"1\" class=\"dataframe\">\n",
       "  <thead>\n",
       "    <tr style=\"text-align: right;\">\n",
       "      <th></th>\n",
       "      <th>value</th>\n",
       "      <th>N_events</th>\n",
       "    </tr>\n",
       "  </thead>\n",
       "  <tbody>\n",
       "    <tr>\n",
       "      <th>0</th>\n",
       "      <td>0.245004</td>\n",
       "      <td>377932</td>\n",
       "    </tr>\n",
       "    <tr>\n",
       "      <th>1</th>\n",
       "      <td>0.254996</td>\n",
       "      <td>19679</td>\n",
       "    </tr>\n",
       "    <tr>\n",
       "      <th>2</th>\n",
       "      <td>0.264987</td>\n",
       "      <td>19285</td>\n",
       "    </tr>\n",
       "    <tr>\n",
       "      <th>3</th>\n",
       "      <td>0.274979</td>\n",
       "      <td>18972</td>\n",
       "    </tr>\n",
       "    <tr>\n",
       "      <th>4</th>\n",
       "      <td>0.284971</td>\n",
       "      <td>18543</td>\n",
       "    </tr>\n",
       "    <tr>\n",
       "      <th>...</th>\n",
       "      <td>...</td>\n",
       "      <td>...</td>\n",
       "    </tr>\n",
       "    <tr>\n",
       "      <th>27364</th>\n",
       "      <td>299.915060</td>\n",
       "      <td>1</td>\n",
       "    </tr>\n",
       "    <tr>\n",
       "      <th>27365</th>\n",
       "      <td>299.945035</td>\n",
       "      <td>1</td>\n",
       "    </tr>\n",
       "    <tr>\n",
       "      <th>27366</th>\n",
       "      <td>299.965018</td>\n",
       "      <td>1</td>\n",
       "    </tr>\n",
       "    <tr>\n",
       "      <th>27367</th>\n",
       "      <td>299.985002</td>\n",
       "      <td>2</td>\n",
       "    </tr>\n",
       "    <tr>\n",
       "      <th>27368</th>\n",
       "      <td>300.005000</td>\n",
       "      <td>7909</td>\n",
       "    </tr>\n",
       "  </tbody>\n",
       "</table>\n",
       "<p>27369 rows × 2 columns</p>\n",
       "</div>"
      ],
      "text/plain": [
       "            value  N_events\n",
       "0        0.245004    377932\n",
       "1        0.254996     19679\n",
       "2        0.264987     19285\n",
       "3        0.274979     18972\n",
       "4        0.284971     18543\n",
       "...           ...       ...\n",
       "27364  299.915060         1\n",
       "27365  299.945035         1\n",
       "27366  299.965018         1\n",
       "27367  299.985002         2\n",
       "27368  300.005000      7909\n",
       "\n",
       "[27369 rows x 2 columns]"
      ]
     },
     "execution_count": 12,
     "metadata": {},
     "output_type": "execute_result"
    }
   ],
   "source": [
    "histogram_data_pandas"
   ]
  },
  {
   "cell_type": "code",
   "execution_count": 13,
   "id": "f0ece557",
   "metadata": {},
   "outputs": [
    {
     "data": {
      "image/png": "[encoded data removed]",
      "text/plain": [
       "<Figure size 1008x720 with 1 Axes>"
      ]
     },
     "metadata": {},
     "output_type": "display_data"
    }
   ],
   "source": [
    "import matplotlib.pyplot as plt \n",
    "\n",
    "min_val = 0.25\n",
    "max_val = 300\n",
    "num_bins = 30000\n",
    "\n",
    "plt.style.use('seaborn-darkgrid')\n",
    "plt.rcParams.update({'font.size': 20, 'figure.figsize': [14,10]})\n",
    "\n",
    "f, ax = plt.subplots()\n",
    "\n",
    "# cut the first and last bin\n",
    "x = histogram_data_pandas.iloc[1:-1][\"value\"]\n",
    "y = histogram_data_pandas.iloc[1:-1][\"N_events\"]\n",
    "\n",
    "# line plot\n",
    "ax.plot(x, y, '-')\n",
    "\n",
    "# the plot is in log-log axis to better show the peaks\n",
    "ax.set_xscale(\"log\")\n",
    "ax.set_yscale(\"log\")\n",
    "ax.set_xlim(min_val, max_val)\n",
    "ax.set_ylim(1, 6e5)\n",
    "\n",
    "ax.set_xlabel('$m_{dimuon}$ (GeV)')\n",
    "ax.set_ylabel('Number of Events')\n",
    "ax.set_title(\"Distribution of the Dimuon Mass Spectrum\")\n",
    "\n",
    "# Label for the resonances spectrum peaks\n",
    "txt_opts = {'horizontalalignment': 'center',\n",
    "            'verticalalignment': 'center',\n",
    "            'transform': ax.transAxes}\n",
    "\n",
    "plt.text(0.85, 0.75, 'Z', **txt_opts)\n",
    "plt.text(0.55, 0.77, r\"$\\Upsilon$(1,2,3S)\", **txt_opts)\n",
    "plt.text(0.37, 0.95, r\"J/$\\Psi$\", **txt_opts)\n",
    "plt.text(0.40, 0.77, r\"$\\Psi$'\", **txt_opts)\n",
    "plt.text(0.22, 0.80, r\"$\\phi$\", **txt_opts)\n",
    "plt.text(0.16, 0.83, r\"$\\rho,\\omega$\", **txt_opts)\n",
    "plt.text(0.11, 0.78, r\"$\\eta$\", **txt_opts);\n",
    "\n",
    "plt.show()"
   ]
  },
  {
   "cell_type": "code",
   "execution_count": null,
   "id": "91c12a34",
   "metadata": {},
   "outputs": [],
   "source": []
  }
 ],
 "metadata": {
  "kernelspec": {
   "display_name": "Python 3 (ipykernel)",
   "language": "python",
   "name": "python3"
  },
  "language_info": {
   "codemirror_mode": {
    "name": "ipython",
    "version": 3
   },
   "file_extension": ".py",
   "mimetype": "text/x-python",
   "name": "python",
   "nbconvert_exporter": "python",
   "pygments_lexer": "ipython3",
   "version": "3.9.7"
  }
 },
 "nbformat": 4,
 "nbformat_minor": 5
}
