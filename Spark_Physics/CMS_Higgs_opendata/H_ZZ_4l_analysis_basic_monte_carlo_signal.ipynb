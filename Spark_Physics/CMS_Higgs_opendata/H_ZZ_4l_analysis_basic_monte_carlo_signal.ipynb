{
 "cells": [
  {
   "cell_type": "markdown",
   "id": "c97f8c4d",
   "metadata": {},
   "source": [
    "# Higgs Boson Analysis with CMS Open Data\n",
    "This is an example analysis of the Higgs boson detection via the decay channel H &rarr; ZZ* &rarr; 4l  \n",
    "From the decay products measured at the CMS experiment and provided as open data, you will be able to produce a histogram, and from there you can infer the invariant mass of the Higgs boson.  \n",
    "Code: it is based on the original work on [cms opendata notebooks](https://github.com/cms-opendata-analyses/HiggsExample20112012) and this [notebook with RDataFrame implementation](https://root.cern/doc/master/df103__NanoAODHiggsAnalysis_8py.html)  \n",
    "Reference: link to the [original article with CMS Higgs boson discovery](https://inspirehep.net/record/1124338)\n",
    "\n",
    "See also: https://github.com/LucaCanali/Miscellaneous/tree/master/Spark_Physics\n",
    "\n",
    "Author and contact: Luca.Canali@cern.ch  \n",
    "April, 2022"
   ]
  },
  {
   "cell_type": "markdown",
   "id": "22d54a3d",
   "metadata": {},
   "source": [
    "## H &rarr; ZZ* &rarr; 4$\\mu$ - cuts and plot, using Monte Carlo signal data\n",
    "### (a simple step of the broader analsys)"
   ]
  },
  {
   "cell_type": "code",
   "execution_count": 76,
   "id": "38800879",
   "metadata": {},
   "outputs": [],
   "source": [
    "# Run this if you need to install Apache Spark (PySpark)\n",
    "\n",
    "# !pip install pyspark"
   ]
  },
  {
   "cell_type": "code",
   "execution_count": null,
   "id": "bee0e073",
   "metadata": {},
   "outputs": [],
   "source": [
    "# Start the Spark Session\n",
    "# This uses local mode for simplicity\n",
    "# the use of findspark is optional\n",
    "\n",
    "import findspark\n",
    "findspark.init(\"/home/luca/Spark/spark-3.4.0-SNAPSHOT-bin-20220425\")\n",
    "\n",
    "from pyspark.sql import SparkSession\n",
    "spark = (SparkSession.builder\n",
    "         .appName(\"H_ZZ_4Lep\")\n",
    "         .master(\"local[*]\")\n",
    "         .config(\"spark.driver.memory\", \"8g\")\n",
    "         .config(\"spark.sql.parquet.enableNestedColumnVectorizedReader\", \"true\")\n",
    "         .getOrCreate()\n",
    "        )"
   ]
  },
  {
   "cell_type": "code",
   "execution_count": null,
   "id": "5a6d1374",
   "metadata": {},
   "outputs": [],
   "source": [
    "# Run this to download the dataset \n",
    "# See further details at https://github.com/LucaCanali/Miscellaneous/tree/master/Spark_Physics\n",
    "\n",
    "!wget https://sparkdltrigger.web.cern.ch/sparkdltrigger/CMS_Higgs_opendata/SMHiggsToZZTo4L.parquet\n"
   ]
  },
  {
   "cell_type": "code",
   "execution_count": 2,
   "id": "ab108ade",
   "metadata": {},
   "outputs": [
    {
     "name": "stderr",
     "output_type": "stream",
     "text": [
      "                                                                                \r"
     ]
    },
    {
     "name": "stdout",
     "output_type": "stream",
     "text": [
      "root\n",
      " |-- run: integer (nullable = true)\n",
      " |-- luminosityBlock: long (nullable = true)\n",
      " |-- event: decimal(20,0) (nullable = true)\n",
      " |-- PV_npvs: integer (nullable = true)\n",
      " |-- PV_x: float (nullable = true)\n",
      " |-- PV_y: float (nullable = true)\n",
      " |-- PV_z: float (nullable = true)\n",
      " |-- nMuon: long (nullable = true)\n",
      " |-- Muon_pt: array (nullable = true)\n",
      " |    |-- element: float (containsNull = true)\n",
      " |-- Muon_eta: array (nullable = true)\n",
      " |    |-- element: float (containsNull = true)\n",
      " |-- Muon_phi: array (nullable = true)\n",
      " |    |-- element: float (containsNull = true)\n",
      " |-- Muon_mass: array (nullable = true)\n",
      " |    |-- element: float (containsNull = true)\n",
      " |-- Muon_charge: array (nullable = true)\n",
      " |    |-- element: integer (containsNull = true)\n",
      " |-- Muon_pfRelIso03_all: array (nullable = true)\n",
      " |    |-- element: float (containsNull = true)\n",
      " |-- Muon_pfRelIso04_all: array (nullable = true)\n",
      " |    |-- element: float (containsNull = true)\n",
      " |-- Muon_tightId: array (nullable = true)\n",
      " |    |-- element: boolean (containsNull = true)\n",
      " |-- Muon_softId: array (nullable = true)\n",
      " |    |-- element: boolean (containsNull = true)\n",
      " |-- Muon_dxy: array (nullable = true)\n",
      " |    |-- element: float (containsNull = true)\n",
      " |-- Muon_dxyErr: array (nullable = true)\n",
      " |    |-- element: float (containsNull = true)\n",
      " |-- Muon_dz: array (nullable = true)\n",
      " |    |-- element: float (containsNull = true)\n",
      " |-- Muon_dzErr: array (nullable = true)\n",
      " |    |-- element: float (containsNull = true)\n",
      " |-- nElectron: long (nullable = true)\n",
      " |-- Electron_pt: array (nullable = true)\n",
      " |    |-- element: float (containsNull = true)\n",
      " |-- Electron_eta: array (nullable = true)\n",
      " |    |-- element: float (containsNull = true)\n",
      " |-- Electron_phi: array (nullable = true)\n",
      " |    |-- element: float (containsNull = true)\n",
      " |-- Electron_mass: array (nullable = true)\n",
      " |    |-- element: float (containsNull = true)\n",
      " |-- Electron_charge: array (nullable = true)\n",
      " |    |-- element: integer (containsNull = true)\n",
      " |-- Electron_pfRelIso03_all: array (nullable = true)\n",
      " |    |-- element: float (containsNull = true)\n",
      " |-- Electron_dxy: array (nullable = true)\n",
      " |    |-- element: float (containsNull = true)\n",
      " |-- Electron_dxyErr: array (nullable = true)\n",
      " |    |-- element: float (containsNull = true)\n",
      " |-- Electron_dz: array (nullable = true)\n",
      " |    |-- element: float (containsNull = true)\n",
      " |-- Electron_dzErr: array (nullable = true)\n",
      " |    |-- element: float (containsNull = true)\n",
      "\n"
     ]
    }
   ],
   "source": [
    "# Read data with the candidate events\n",
    "# Only Muon events for this reduced-scope notebook\n",
    "\n",
    "path = \"./\"\n",
    "\n",
    "df_MC_events_signal = spark.read.parquet(path + \"SMHiggsToZZTo4L.parquet\")\n",
    "\n",
    "df_MC_events_signal.printSchema()\n"
   ]
  },
  {
   "cell_type": "code",
   "execution_count": 3,
   "id": "6790882f",
   "metadata": {},
   "outputs": [
    {
     "name": "stdout",
     "output_type": "stream",
     "text": [
      "Number of events, MC signal: 299973\n"
     ]
    }
   ],
   "source": [
    "# Count the number of events before cuts (filter)\n",
    "\n",
    "print(f\"Number of events, MC signal: {df_MC_events_signal.count()}\")"
   ]
  },
  {
   "cell_type": "markdown",
   "id": "7c369ad6",
   "metadata": {},
   "source": [
    "### Apply  cuts\n",
    "More details on the cuts (filters applied to the event data) in the reference CMS paper on the [discovery of the Higgs boson](https://arxiv.org/pdf/1207.7235.pdf)"
   ]
  },
  {
   "cell_type": "code",
   "execution_count": 4,
   "id": "5efe0c2a",
   "metadata": {},
   "outputs": [],
   "source": [
    "df_events = df_MC_events_signal.selectExpr(\"\"\"arrays_zip(Muon_charge, Muon_mass, Muon_pt, Muon_phi, Muon_eta, \n",
    "                                      Muon_dxy, Muon_dz, Muon_dxyErr, Muon_dzErr, Muon_pfRelIso04_all) Muon\"\"\",\n",
    "                                 \"nMuon\")"
   ]
  },
  {
   "cell_type": "code",
   "execution_count": 5,
   "id": "dcf6630d",
   "metadata": {},
   "outputs": [
    {
     "name": "stdout",
     "output_type": "stream",
     "text": [
      "root\n",
      " |-- Muon: array (nullable = true)\n",
      " |    |-- element: struct (containsNull = false)\n",
      " |    |    |-- Muon_charge: integer (nullable = true)\n",
      " |    |    |-- Muon_mass: float (nullable = true)\n",
      " |    |    |-- Muon_pt: float (nullable = true)\n",
      " |    |    |-- Muon_phi: float (nullable = true)\n",
      " |    |    |-- Muon_eta: float (nullable = true)\n",
      " |    |    |-- Muon_dxy: float (nullable = true)\n",
      " |    |    |-- Muon_dz: float (nullable = true)\n",
      " |    |    |-- Muon_dxyErr: float (nullable = true)\n",
      " |    |    |-- Muon_dzErr: float (nullable = true)\n",
      " |    |    |-- Muon_pfRelIso04_all: float (nullable = true)\n",
      " |-- nMuon: long (nullable = true)\n",
      "\n"
     ]
    }
   ],
   "source": [
    "df_events.printSchema()"
   ]
  },
  {
   "cell_type": "code",
   "execution_count": 6,
   "id": "bd5c7258",
   "metadata": {},
   "outputs": [],
   "source": [
    "# Apply filters to the input data\n",
    "\n",
    "# Keep only events with at least 4 muons\n",
    "df_events = df_events.filter(\"nMuon >= 4\")\n"
   ]
  },
  {
   "cell_type": "code",
   "execution_count": 7,
   "id": "b29b78e3",
   "metadata": {},
   "outputs": [],
   "source": [
    "# Filter Muon arrays\n",
    "# Filters are detailed in the CMS Higgs bosono paper\n",
    "# See notebook with RDataFrame implementation at https://root.cern/doc/master/df103__NanoAODHiggsAnalysis_8py.html\n",
    "# Article: with CMS Higgs boson discovery](https://inspirehep.net/record/1124338\n",
    "\n",
    "df_events_filtered = df_events.selectExpr(\"\"\"filter(Muon, m ->\n",
    "                        abs(m.Muon_pfRelIso04_all) < 0.40  -- Require good isolation\n",
    "                        and m.Muon_pt > 5                  -- Good muon kinematics\n",
    "                        and abs(m.Muon_eta) < 2.4        \n",
    "                        -- Track close to primary vertex with small uncertainty\n",
    "                        and (m.Muon_dxy * m.Muon_dxy + m.Muon_dz * m.Muon_dz) / (m.Muon_dxyErr * m.Muon_dxyErr + m.Muon_dzErr*m.Muon_dzErr) < 16\n",
    "                        and abs(m.Muon_dxy) < 0.5\n",
    "                        and abs(m.Muon_dz) < 1.0\n",
    "                     ) as Muon\"\"\")\n"
   ]
  },
  {
   "cell_type": "code",
   "execution_count": 8,
   "id": "e481cb25",
   "metadata": {},
   "outputs": [
    {
     "name": "stderr",
     "output_type": "stream",
     "text": [
      "\r",
      "[Stage 4:===================================================>       (7 + 1) / 8]\r"
     ]
    },
    {
     "name": "stdout",
     "output_type": "stream",
     "text": [
      "Number of events after applying cuts: 12279\n"
     ]
    },
    {
     "name": "stderr",
     "output_type": "stream",
     "text": [
      "\r",
      "                                                                                \r"
     ]
    }
   ],
   "source": [
    "# only events with exactly 4 Muons left after the previous cuts\n",
    "df_events_filtered = df_events_filtered.filter(\"size(Muon) == 4\")\n",
    "    \n",
    "# cut on lepton charge\n",
    "# paper: \"selecting two pairs of isolated leptons, each of which is comprised of two leptons with the same flavour and opposite charge\"\n",
    "df_events_4muons = df_events_filtered.filter(\"Muon.Muon_charge[0] + Muon.Muon_charge[1] + Muon.Muon_charge[2] + Muon.Muon_charge[3] == 0\")\n",
    "\n",
    "print(f\"Number of events after applying cuts: {df_events_4muons.count()}\")"
   ]
  },
  {
   "cell_type": "markdown",
   "id": "71d0e2de",
   "metadata": {},
   "source": [
    "### Compute the invariant mass\n",
    "This computes the 4-vectors sum for the 4-lepton system\n",
    "using formulas from special relativity.  \n",
    "See also http://edu.itp.phys.ethz.ch/hs10/ppp1/2010_11_02.pdf\n",
    "and https://en.wikipedia.org/wiki/Invariant_mass"
   ]
  },
  {
   "cell_type": "code",
   "execution_count": 9,
   "id": "c3f37f55",
   "metadata": {},
   "outputs": [
    {
     "name": "stdout",
     "output_type": "stream",
     "text": [
      "+-------------------+-------------------+------------------+------------------+\n",
      "|                 Px|                 Py|                Pz|                 E|\n",
      "+-------------------+-------------------+------------------+------------------+\n",
      "|  5.311811653121631|  9.915075035642875|-46.46428849338781|119.68020418511728|\n",
      "| 22.661705611756854| 13.587090233397214|-76.61472199308764|147.16164198962448|\n",
      "|-27.517601024367103|  -95.9115300600873| 64.09032110424545|171.83558355242639|\n",
      "|-31.820404279871955|  6.468262098449042|-246.5480258533116| 278.6100202584995|\n",
      "|-23.896063904693264|-40.377128320338514|131.70634333785046|  186.063294788725|\n",
      "+-------------------+-------------------+------------------+------------------+\n",
      "only showing top 5 rows\n",
      "\n"
     ]
    }
   ],
   "source": [
    "# This computes the 4-vectors sum for the 4-muon system\n",
    "\n",
    "# convert to cartesian coordinates\n",
    "df_4lep = df_events_4muons.selectExpr(\n",
    "\"Muon.Muon_pt[0] * cos(Muon.Muon_phi[0]) P0x\", \"Muon.Muon_pt[1] * cos(Muon.Muon_phi[1]) P1x\", \"Muon.Muon_pt[2] * cos(Muon.Muon_phi[2]) P2x\", \"Muon.Muon_pt[3] * cos(Muon.Muon_phi[3]) P3x\",\n",
    "\"Muon.Muon_pt[0] * sin(Muon.Muon_phi[0]) P0y\", \"Muon.Muon_pt[1] * sin(Muon.Muon_phi[1]) P1y\", \"Muon.Muon_pt[2] * sin(Muon.Muon_phi[2]) P2y\", \"Muon.Muon_pt[3] * sin(Muon.Muon_phi[3]) P3y\",\n",
    "\"Muon.Muon_pt[0] * sinh(Muon.Muon_eta[0]) P0z\", \"Muon.Muon_pt[1] * sinh(Muon.Muon_eta[1]) P1z\", \"Muon.Muon_pt[2] * sinh(Muon.Muon_eta[2]) P2z\", \"Muon.Muon_pt[3] * sinh(Muon.Muon_eta[3]) P3z\",\n",
    "\"Muon.Muon_mass[0] as Mass\"\n",
    ")\n",
    "\n",
    "\n",
    "# compute energy for each muon\n",
    "df_4lep = df_4lep.selectExpr(\n",
    " \"P0x\", \"P0y\", \"P0z\", \"sqrt(Mass* Mass + P0x*P0x + P0y*P0y + P0z*P0z) as E0\",\n",
    " \"P1x\", \"P1y\", \"P1z\", \"sqrt(Mass* Mass + P1x*P1x + P1y*P1y + P1z*P1z) as E1\",\n",
    " \"P2x\", \"P2y\", \"P2z\", \"sqrt(Mass* Mass + P2x*P2x + P2y*P2y + P2z*P2z) as E2\",\n",
    " \"P3x\", \"P3y\", \"P3z\", \"sqrt(Mass* Mass + P3x*P3x + P3y*P3y + P3z*P3z) as E3\"\n",
    ")\n",
    "\n",
    "# sum energy and momenta over the 4 muons\n",
    "df_4lep = df_4lep.selectExpr(\n",
    " \"P0x + P1x + P2x + P3x as Px\",\n",
    " \"P0y + P1y + P2y + P3y as Py\",\n",
    " \"P0z + P1z + P2z + P3z as Pz\",\n",
    " \"E0 + E1 + E2 + E3 as E\"\n",
    ")\n",
    "\n",
    "df_4lep.show(5)"
   ]
  },
  {
   "cell_type": "code",
   "execution_count": 10,
   "id": "6bcffaed",
   "metadata": {},
   "outputs": [
    {
     "name": "stdout",
     "output_type": "stream",
     "text": [
      "+------------------+\n",
      "|       invmass_GeV|\n",
      "+------------------+\n",
      "| 109.7173510097374|\n",
      "|122.83554585200446|\n",
      "|124.35295955848554|\n",
      "|125.63135672740138|\n",
      "| 122.7666666105827|\n",
      "+------------------+\n",
      "only showing top 5 rows\n",
      "\n"
     ]
    }
   ],
   "source": [
    "# This computes the invariant mass for the 4-muon system\n",
    "\n",
    "df_4lep_invmass = df_4lep.selectExpr(\"sqrt(E * E - ( Px * Px + Py * Py + Pz * Pz)) as invmass_GeV\")\n",
    "\n",
    "df_4lep_invmass.show(5)"
   ]
  },
  {
   "cell_type": "code",
   "execution_count": 17,
   "id": "d8b7e337",
   "metadata": {},
   "outputs": [],
   "source": [
    "# Compute the histogram of invariant mass\n",
    "# The Spark function \"width_bucket\" is used to generate the histogram bucket number\n",
    "# a groupBy operation with count is used to fill the histogram\n",
    "# The result is a histogram with bins value and counts foreach bin (N_events)\n",
    "\n",
    "min_val = 80\n",
    "max_val = 180\n",
    "step = 3.0\n",
    "num_bins = (max_val - min_val) / step\n",
    "\n",
    "histogram_data = ( \n",
    "    df_4lep_invmass\n",
    "        .selectExpr(f\"width_bucket(invmass_GeV, {min_val}, {max_val}, {num_bins}) as bucket\") \n",
    "        .groupBy(\"bucket\")\n",
    "        .count()\n",
    "        .orderBy(\"bucket\")\n",
    "    )\n",
    "\n",
    "# convert bucket number to the corresponding center value of the histogram\n",
    "histogram_data = histogram_data.selectExpr(f\"round({min_val} + (bucket - 1/2) * {step},2) as value\", \"count as N_events\")"
   ]
  },
  {
   "cell_type": "code",
   "execution_count": 18,
   "id": "703b649a",
   "metadata": {},
   "outputs": [
    {
     "name": "stderr",
     "output_type": "stream",
     "text": [
      "\r",
      "[Stage 19:==================================================>       (7 + 1) / 8]\r"
     ]
    },
    {
     "name": "stdout",
     "output_type": "stream",
     "text": [
      "CPU times: user 10.3 ms, sys: 1.03 ms, total: 11.3 ms\n",
      "Wall time: 2.19 s\n"
     ]
    },
    {
     "name": "stderr",
     "output_type": "stream",
     "text": [
      "\r",
      "                                                                                \r"
     ]
    }
   ],
   "source": [
    "# The action toPandas() here triggers the computation.\n",
    "# Histogram data is fetched into the driver as a Pandas Dataframe.\n",
    "\n",
    "%time histogram_data_pandas=histogram_data.toPandas()\n"
   ]
  },
  {
   "cell_type": "code",
   "execution_count": 20,
   "id": "927ff9c0",
   "metadata": {
    "scrolled": false
   },
   "outputs": [
    {
     "data": {
      "image/png": "[encoded data removed]",
      "text/plain": [
       "<Figure size 1008x720 with 1 Axes>"
      ]
     },
     "metadata": {},
     "output_type": "display_data"
    }
   ],
   "source": [
    "# This plots the data histogram with error bars\n",
    "\n",
    "import matplotlib.pyplot as plt \n",
    "\n",
    "plt.style.use('seaborn-darkgrid')\n",
    "plt.rcParams.update({'font.size': 20, 'figure.figsize': [14,10]})\n",
    "\n",
    "f, ax = plt.subplots()\n",
    "\n",
    "# cut the first and last bin\n",
    "x = histogram_data_pandas.iloc[1:-1][\"value\"]\n",
    "y = histogram_data_pandas.iloc[1:-1][\"N_events\"]\n",
    "\n",
    "# scatter plot\n",
    "#ax.plot(x, y, marker='o', color='red', linewidth=0)\n",
    "#ax.errorbar(x, y, err, fmt = 'ro')\n",
    "# histogram with error bars\n",
    "ax.bar(x, y, width = 5.0, capsize = 5, linewidth = 0.5, ecolor='blue', fill=True)\n",
    "\n",
    "ax.set_xlim(min_val-2, max_val)\n",
    "\n",
    "ax.set_xlabel(\"$m_{4\\mu}$ (GeV)\")\n",
    "ax.set_ylabel(f\"Number of Events / bucket_size = {step} GeV\")\n",
    "ax.set_title(\"Distribution of the 4-Muon Invariant Mass\")\n",
    "\n",
    "# Label for the Z ang Higgs spectrum peaks\n",
    "txt_opts = {'horizontalalignment': 'left',\n",
    "            'verticalalignment': 'center',\n",
    "            'transform': ax.transAxes}\n",
    "\n",
    "plt.text(0.48, 0.71, \"Higgs boson, mass = 125 GeV\", **txt_opts)\n",
    "\n",
    "# Add energy and luminosity\n",
    "plt.text(0.60, 0.92, \"CMS open data, for education\", **txt_opts)\n",
    "plt.text(0.60, 0.87, '$\\sqrt{s}$=13 TeV, Monte Carlo data', **txt_opts)\n",
    "\n",
    "plt.show()"
   ]
  },
  {
   "cell_type": "code",
   "execution_count": 12,
   "id": "b27dc159",
   "metadata": {},
   "outputs": [],
   "source": [
    "spark.stop()"
   ]
  },
  {
   "cell_type": "code",
   "execution_count": null,
   "id": "3b4165a5",
   "metadata": {},
   "outputs": [],
   "source": []
  }
 ],
 "metadata": {
  "kernelspec": {
   "display_name": "Python 3 (ipykernel)",
   "language": "python",
   "name": "python3"
  },
  "language_info": {
   "codemirror_mode": {
    "name": "ipython",
    "version": 3
   },
   "file_extension": ".py",
   "mimetype": "text/x-python",
   "name": "python",
   "nbconvert_exporter": "python",
   "pygments_lexer": "ipython3",
   "version": "3.9.7"
  }
 },
 "nbformat": 4,
 "nbformat_minor": 5
}
