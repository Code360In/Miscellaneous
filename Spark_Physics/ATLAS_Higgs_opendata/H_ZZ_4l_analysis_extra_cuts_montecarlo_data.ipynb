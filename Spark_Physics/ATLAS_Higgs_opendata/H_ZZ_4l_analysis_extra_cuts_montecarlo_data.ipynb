{
 "cells": [
  {
   "cell_type": "markdown",
   "id": "c97f8c4d",
   "metadata": {},
   "source": [
    "# Higgs Boson Analysis with ATLAS Open Data\n",
    "This is an example analysis of the Higgs boson detection via the decay channel H &rarr; ZZ* &rarr; 4l  \n",
    "From the decay products measured at the ATLAS experiment and provided as open data, you will be able to produce a histogram, and from there you can infer the invariant mass of the Higgs boson.  \n",
    "Code: it is based on the original work at [ATLAS outreach notebooks](https://github.com/atlas-outreach-data-tools/notebooks-collection-opendata/tree/master/13-TeV-examples/uproot_python)  \n",
    "Data: from the 13TeV [ATLAS opendata](http://opendata.atlas.cern/release/2020/documentation/datasets/files.html)  \n",
    "Physics: See ATLAS paper on the [discovery of the Higgs boson](https://www.sciencedirect.com/science/article/pii/S037026931200857X) (mostly Section 4 and 4.1) \n",
    "\n",
    "See also: https://github.com/LucaCanali/Miscellaneous/tree/master/Spark_Physics  \n",
    "\n",
    "Author and contact: Luca.Canali@cern.ch  \n",
    "March, 2022"
   ]
  },
  {
   "cell_type": "markdown",
   "id": "22d54a3d",
   "metadata": {},
   "source": [
    "## H &rarr; ZZ* &rarr; 4l analsys with extra cuts, using Monte Carlo simulation data"
   ]
  },
  {
   "cell_type": "code",
   "execution_count": 1,
   "id": "38800879",
   "metadata": {},
   "outputs": [],
   "source": [
    "# Run this if you need to install Apache Spark (PySpark)\n",
    "\n",
    "# !pip install pyspark\n",
    "\n",
    "# Install sparkhistogram\n",
    "# Note: if you cannot install the package, create the computeHistogram\n",
    "# function as detailed at the end of this notebook.\n",
    "\n",
    "!pip install sparkhistogram"
   ]
  },
  {
   "cell_type": "code",
   "execution_count": null,
   "id": "5a6d1374",
   "metadata": {},
   "outputs": [],
   "source": [
    "# Run this to download the dataset \n",
    "# It is a small file (81 MB), this exercise is meant mostly to show the Spark API\n",
    "# See further details at https://github.com/LucaCanali/Miscellaneous/tree/master/Spark_Physics\n",
    "\n",
    "!wget https://sparkdltrigger.web.cern.ch/sparkdltrigger/ATLAS_Higgs_opendata/MC_signal_4lep.parquet"
   ]
  },
  {
   "cell_type": "code",
   "execution_count": null,
   "id": "bee0e073",
   "metadata": {},
   "outputs": [],
   "source": [
    "# Start the Spark Session\n",
    "# This uses local mode for simplicity\n",
    "# the use of findspark is optional\n",
    "\n",
    "# import findspark\n",
    "# findspark.init(\"/home/luca/Spark/spark-3.3.0-bin-hadoop3\")\n",
    "\n",
    "from pyspark.sql import SparkSession\n",
    "spark = (SparkSession.builder\n",
    "         .appName(\"H_ZZ_4Lep\")\n",
    "         .master(\"local[*]\")\n",
    "         .getOrCreate()\n",
    "        )"
   ]
  },
  {
   "cell_type": "code",
   "execution_count": 3,
   "id": "ab108ade",
   "metadata": {
    "scrolled": true
   },
   "outputs": [
    {
     "name": "stderr",
     "output_type": "stream",
     "text": [
      "\r",
      "[Stage 0:>                                                          (0 + 1) / 1]\r",
      "\r",
      "                                                                                \r"
     ]
    },
    {
     "name": "stdout",
     "output_type": "stream",
     "text": [
      "root\n",
      " |-- runNumber: integer (nullable = true)\n",
      " |-- eventNumber: integer (nullable = true)\n",
      " |-- channelNumber: integer (nullable = true)\n",
      " |-- mcWeight: float (nullable = true)\n",
      " |-- scaleFactor_PILEUP: float (nullable = true)\n",
      " |-- scaleFactor_ELE: float (nullable = true)\n",
      " |-- scaleFactor_MUON: float (nullable = true)\n",
      " |-- scaleFactor_PHOTON: float (nullable = true)\n",
      " |-- scaleFactor_TAU: float (nullable = true)\n",
      " |-- scaleFactor_BTAG: float (nullable = true)\n",
      " |-- scaleFactor_LepTRIGGER: float (nullable = true)\n",
      " |-- scaleFactor_PhotonTRIGGER: float (nullable = true)\n",
      " |-- trigE: boolean (nullable = true)\n",
      " |-- trigM: boolean (nullable = true)\n",
      " |-- trigP: boolean (nullable = true)\n",
      " |-- lep_n: long (nullable = true)\n",
      " |-- lep_truthMatched: array (nullable = true)\n",
      " |    |-- element: boolean (containsNull = true)\n",
      " |-- lep_trigMatched: array (nullable = true)\n",
      " |    |-- element: boolean (containsNull = true)\n",
      " |-- lep_pt: array (nullable = true)\n",
      " |    |-- element: float (containsNull = true)\n",
      " |-- lep_eta: array (nullable = true)\n",
      " |    |-- element: float (containsNull = true)\n",
      " |-- lep_phi: array (nullable = true)\n",
      " |    |-- element: float (containsNull = true)\n",
      " |-- lep_E: array (nullable = true)\n",
      " |    |-- element: float (containsNull = true)\n",
      " |-- lep_z0: array (nullable = true)\n",
      " |    |-- element: float (containsNull = true)\n",
      " |-- lep_charge: array (nullable = true)\n",
      " |    |-- element: integer (containsNull = true)\n",
      " |-- lep_type: array (nullable = true)\n",
      " |    |-- element: long (containsNull = true)\n",
      " |-- lep_isTightID: array (nullable = true)\n",
      " |    |-- element: boolean (containsNull = true)\n",
      " |-- lep_ptcone30: array (nullable = true)\n",
      " |    |-- element: float (containsNull = true)\n",
      " |-- lep_etcone20: array (nullable = true)\n",
      " |    |-- element: float (containsNull = true)\n",
      " |-- lep_trackd0pvunbiased: array (nullable = true)\n",
      " |    |-- element: float (containsNull = true)\n",
      " |-- lep_tracksigd0pvunbiased: array (nullable = true)\n",
      " |    |-- element: float (containsNull = true)\n",
      " |-- met_et: float (nullable = true)\n",
      " |-- met_phi: float (nullable = true)\n",
      " |-- jet_n: long (nullable = true)\n",
      " |-- jet_pt: array (nullable = true)\n",
      " |    |-- element: float (containsNull = true)\n",
      " |-- jet_eta: array (nullable = true)\n",
      " |    |-- element: float (containsNull = true)\n",
      " |-- jet_phi: array (nullable = true)\n",
      " |    |-- element: float (containsNull = true)\n",
      " |-- jet_E: array (nullable = true)\n",
      " |    |-- element: float (containsNull = true)\n",
      " |-- jet_jvt: array (nullable = true)\n",
      " |    |-- element: float (containsNull = true)\n",
      " |-- jet_trueflav: array (nullable = true)\n",
      " |    |-- element: integer (containsNull = true)\n",
      " |-- jet_truthMatched: array (nullable = true)\n",
      " |    |-- element: boolean (containsNull = true)\n",
      " |-- jet_MV2c10: array (nullable = true)\n",
      " |    |-- element: float (containsNull = true)\n",
      " |-- photon_n: long (nullable = true)\n",
      " |-- photon_truthMatched: array (nullable = true)\n",
      " |    |-- element: boolean (containsNull = true)\n",
      " |-- photon_trigMatched: array (nullable = true)\n",
      " |    |-- element: boolean (containsNull = true)\n",
      " |-- photon_pt: array (nullable = true)\n",
      " |    |-- element: float (containsNull = true)\n",
      " |-- photon_eta: array (nullable = true)\n",
      " |    |-- element: float (containsNull = true)\n",
      " |-- photon_phi: array (nullable = true)\n",
      " |    |-- element: float (containsNull = true)\n",
      " |-- photon_E: array (nullable = true)\n",
      " |    |-- element: float (containsNull = true)\n",
      " |-- photon_isTightID: array (nullable = true)\n",
      " |    |-- element: boolean (containsNull = true)\n",
      " |-- photon_ptcone30: array (nullable = true)\n",
      " |    |-- element: float (containsNull = true)\n",
      " |-- photon_etcone20: array (nullable = true)\n",
      " |    |-- element: float (containsNull = true)\n",
      " |-- photon_convType: array (nullable = true)\n",
      " |    |-- element: integer (containsNull = true)\n",
      " |-- tau_n: long (nullable = true)\n",
      " |-- tau_pt: array (nullable = true)\n",
      " |    |-- element: float (containsNull = true)\n",
      " |-- tau_eta: array (nullable = true)\n",
      " |    |-- element: float (containsNull = true)\n",
      " |-- tau_phi: array (nullable = true)\n",
      " |    |-- element: float (containsNull = true)\n",
      " |-- tau_E: array (nullable = true)\n",
      " |    |-- element: float (containsNull = true)\n",
      " |-- tau_isTightID: array (nullable = true)\n",
      " |    |-- element: boolean (containsNull = true)\n",
      " |-- tau_truthMatched: array (nullable = true)\n",
      " |    |-- element: boolean (containsNull = true)\n",
      " |-- tau_trigMatched: array (nullable = true)\n",
      " |    |-- element: boolean (containsNull = true)\n",
      " |-- tau_nTracks: array (nullable = true)\n",
      " |    |-- element: integer (containsNull = true)\n",
      " |-- tau_BDTid: array (nullable = true)\n",
      " |    |-- element: float (containsNull = true)\n",
      " |-- ditau_m: float (nullable = true)\n",
      " |-- lep_pt_syst: array (nullable = true)\n",
      " |    |-- element: float (containsNull = true)\n",
      " |-- met_et_syst: float (nullable = true)\n",
      " |-- jet_pt_syst: array (nullable = true)\n",
      " |    |-- element: float (containsNull = true)\n",
      " |-- photon_pt_syst: array (nullable = true)\n",
      " |    |-- element: float (containsNull = true)\n",
      " |-- tau_pt_syst: array (nullable = true)\n",
      " |    |-- element: float (containsNull = true)\n",
      " |-- XSection: float (nullable = true)\n",
      " |-- SumWeights: float (nullable = true)\n",
      " |-- largeRjet_n: long (nullable = true)\n",
      " |-- largeRjet_pt: array (nullable = true)\n",
      " |    |-- element: float (containsNull = true)\n",
      " |-- largeRjet_eta: array (nullable = true)\n",
      " |    |-- element: float (containsNull = true)\n",
      " |-- largeRjet_phi: array (nullable = true)\n",
      " |    |-- element: float (containsNull = true)\n",
      " |-- largeRjet_E: array (nullable = true)\n",
      " |    |-- element: float (containsNull = true)\n",
      " |-- largeRjet_m: array (nullable = true)\n",
      " |    |-- element: float (containsNull = true)\n",
      " |-- largeRjet_truthMatched: array (nullable = true)\n",
      " |    |-- element: float (containsNull = true)\n",
      " |-- largeRjet_D2: array (nullable = true)\n",
      " |    |-- element: float (containsNull = true)\n",
      " |-- largeRjet_tau32: array (nullable = true)\n",
      " |    |-- element: float (containsNull = true)\n",
      " |-- largeRjet_pt_syst: array (nullable = true)\n",
      " |    |-- element: float (containsNull = true)\n",
      " |-- tau_charge: array (nullable = true)\n",
      " |    |-- element: integer (containsNull = true)\n",
      " |-- xsec: double (nullable = true)\n",
      " |-- red_eff: double (nullable = true)\n",
      " |-- sumw: double (nullable = true)\n",
      "\n"
     ]
    }
   ],
   "source": [
    "# Read data from Monte Carlo simulation\n",
    "\n",
    "# customize depending on how where you downloaded the datasets\n",
    "data_dir = \"./\"\n",
    "\n",
    "df_events = spark.read.parquet(data_dir + \"MC_signal_4lep.parquet\")\n",
    "\n",
    "df_events.printSchema()\n"
   ]
  },
  {
   "cell_type": "code",
   "execution_count": 4,
   "id": "6790882f",
   "metadata": {},
   "outputs": [
    {
     "name": "stdout",
     "output_type": "stream",
     "text": [
      "Number of events: 385706\n"
     ]
    }
   ],
   "source": [
    "# Count the number of events before cuts (filter)\n",
    "print(f\"Number of events: {df_events.count()}\")"
   ]
  },
  {
   "cell_type": "code",
   "execution_count": 5,
   "id": "ca2ed0c3",
   "metadata": {},
   "outputs": [
    {
     "name": "stderr",
     "output_type": "stream",
     "text": [
      "                                                                                \r"
     ]
    },
    {
     "data": {
      "text/plain": [
       "378760"
      ]
     },
     "execution_count": 5,
     "metadata": {},
     "output_type": "execute_result"
    }
   ],
   "source": [
    "df_lep = df_events.selectExpr(\"\"\"arrays_zip(lep_type, lep_charge, lep_E, lep_pt, lep_phi, lep_eta, lep_z0,\n",
    "                                 lep_etcone20, lep_ptcone30, lep_trackd0pvunbiased, lep_tracksigd0pvunbiased) lep\n",
    "                          \"\"\",)\n",
    "df_lep.filter(\"size(lep) == 4\").count()"
   ]
  },
  {
   "cell_type": "code",
   "execution_count": 6,
   "id": "0219d5a9",
   "metadata": {},
   "outputs": [
    {
     "name": "stderr",
     "output_type": "stream",
     "text": [
      "                                                                                \r"
     ]
    },
    {
     "data": {
      "text/plain": [
       "333373"
      ]
     },
     "execution_count": 6,
     "metadata": {},
     "output_type": "execute_result"
    }
   ],
   "source": [
    "# filter electrons and muons inside the lepton array\n",
    "\n",
    "df_lep_filtered = df_lep.selectExpr(\"\"\"filter(lep, l ->\n",
    "                         (l.lep_type = 11\n",
    "                          and l.lep_pt > 7000.0\n",
    "                          and abs(l.lep_eta) < 2.4\n",
    "                          and l.lep_etcone20/l.lep_pt < 0.3\n",
    "                          and l.lep_ptcone30/l.lep_pt < 0.3\n",
    "                          and abs(l.lep_trackd0pvunbiased) / l.lep_tracksigd0pvunbiased < 5\n",
    "                          and l.lep_z0 * sin (2 * atan(exp(-l.lep_eta)))  < 0.5\n",
    "                         )\n",
    "                         or \n",
    "                         (l.lep_type = 13\n",
    "                          and l.lep_pt > 5000.0\n",
    "                          and abs(l.lep_eta) < 2.5\n",
    "                          and l.lep_etcone20/l.lep_pt < 0.3\n",
    "                          and l.lep_ptcone30/l.lep_pt < 0.3\n",
    "                          and abs(l.lep_trackd0pvunbiased) / l.lep_tracksigd0pvunbiased < 3\n",
    "                          and l.lep_z0 * sin (2 * atan(exp(-l.lep_eta)))  < 0.5\n",
    "                         )\n",
    "                       ) as lep\"\"\")\n",
    "\n",
    "\n",
    "df_lep_filtered.filter(\"size(lep) == 4\").count()"
   ]
  },
  {
   "cell_type": "markdown",
   "id": "7c369ad6",
   "metadata": {},
   "source": [
    "### Apply cuts\n",
    "More details on the cuts (filters applied to the event data) in the reference ATLAS paper on the [discovery of the Higgs boson](https://www.sciencedirect.com/science/article/pii/S037026931200857X) (mostly Section 4 and 4.1) "
   ]
  },
  {
   "cell_type": "code",
   "execution_count": 7,
   "id": "e481cb25",
   "metadata": {},
   "outputs": [
    {
     "name": "stderr",
     "output_type": "stream",
     "text": [
      "\r",
      "[Stage 10:==================================================>       (7 + 1) / 8]\r"
     ]
    },
    {
     "name": "stdout",
     "output_type": "stream",
     "text": [
      "Number of events after applying cuts: 324073\n"
     ]
    },
    {
     "name": "stderr",
     "output_type": "stream",
     "text": [
      "\r",
      "[Stage 10:==========================================================(8 + 0) / 8]\r",
      "\r",
      "                                                                                \r"
     ]
    }
   ],
   "source": [
    "# Apply filters to the input data\n",
    "\n",
    "# only events with 4 leptons in the input data\n",
    "df_lep_filtered = df_lep_filtered.filter(\"size(lep) == 4\")\n",
    "\n",
    "# paper: \"selecting two pairs of isolated leptons, each of which is comprised of two leptons with the same flavour and opposite charge\"\n",
    "\n",
    "# cut on lepton charge\n",
    "df_lep_filtered = df_lep_filtered.filter(\"lep.lep_charge[0] + lep.lep_charge[1] + lep.lep_charge[2] + lep.lep_charge[3] == 0\")\n",
    "\n",
    "# cut on lepton type\n",
    "df_lep_filtered = df_lep_filtered.filter(\"lep.lep_type[0] + lep.lep_type[1] + lep.lep_type[2] + lep.lep_type[3] in (44, 48, 52)\")\n",
    "\n",
    "print(f\"Number of events after applying cuts: {df_lep_filtered.count()}\")"
   ]
  },
  {
   "cell_type": "code",
   "execution_count": 8,
   "id": "5e5b8a48",
   "metadata": {},
   "outputs": [],
   "source": [
    "# order leptons by pt, highest values first\n",
    "df_lep_ordered = df_lep_filtered.selectExpr(\"\"\"array_sort(lep, (left, right) -> \n",
    "       case when left.lep_pt > right.lep_pt then -1 \n",
    "            when left.lep_pt < right.lep_pt then 1\n",
    "            else 0 end) as lep\"\"\")"
   ]
  },
  {
   "cell_type": "code",
   "execution_count": 9,
   "id": "02c26671",
   "metadata": {},
   "outputs": [
    {
     "name": "stderr",
     "output_type": "stream",
     "text": [
      "                                                                                \r"
     ]
    },
    {
     "data": {
      "text/plain": [
       "316323"
      ]
     },
     "execution_count": 9,
     "metadata": {},
     "output_type": "execute_result"
    }
   ],
   "source": [
    "# filter based on the ordered lepton list\n",
    "# filter values accoring to the analysis paper\n",
    "\n",
    "df_lep_ordered_filtered = df_lep_ordered.filter(\"\"\"\n",
    "     lep.lep_pt[0] > 20000.0\n",
    "     and lep.lep_pt[1] > 15000.0\n",
    "     and lep.lep_pt[2] > 10000.0\n",
    "\"\"\")\n",
    "\n",
    "df_lep_ordered_filtered.count()"
   ]
  },
  {
   "cell_type": "code",
   "execution_count": 10,
   "id": "ca1aea99",
   "metadata": {},
   "outputs": [
    {
     "name": "stdout",
     "output_type": "stream",
     "text": [
      "+----------------+--------------------------------------------+\n",
      "|lep_type        |lep_pt                                      |\n",
      "+----------------+--------------------------------------------+\n",
      "|[13, 13, 13, 13]|[51905.457, 41248.57, 16397.67, 7471.2275]  |\n",
      "|[13, 13, 13, 13]|[41430.645, 40307.168, 16133.789, 7481.8574]|\n",
      "|[13, 11, 11, 13]|[33646.71, 27313.271, 20035.95, 16472.64]   |\n",
      "|[13, 11, 13, 11]|[77118.56, 27845.74, 17726.541, 14714.521]  |\n",
      "|[11, 11, 11, 11]|[161909.22, 53367.754, 25596.69, 18864.479] |\n",
      "+----------------+--------------------------------------------+\n",
      "only showing top 5 rows\n",
      "\n"
     ]
    }
   ],
   "source": [
    "df_lep_ordered_filtered.selectExpr(\"lep.lep_type\", \"lep.lep_pt\").show(5, False)"
   ]
  },
  {
   "cell_type": "markdown",
   "id": "61bbb8bf",
   "metadata": {},
   "source": [
    "### Further cuts\n",
    "\n",
    "Paper: The same-flavour and opposite-charge lepton pair with an invariant mass closest to the Z boson mass ($m_Z$) in the quadruplet is referred to as the leading lepton pair. Its invariant mass, denoted by $m_{12}$ , is required to be between 50 GeV and 106 GeV.  \n",
    "The remaining same-flavour, opposite-charge lepton pair is the sub-leading lepton pair. Its invariant mass, $m_{34}$, is required to be in the range $m_{min} < m_{34} < 115 GeV$, where the value of mmin depends on the reconstructed four-lepton invariant mass, $m_{4l}$.  \n",
    "The value of $m_{min}$ varies monotonically from 17.5 GeV at $m_{4l}$ = 120 GeV to 50 GeV at $m_{4l}$ = 190 GeV and is constant above this value.  \n",
    "All possible lepton pairs in the quadruplet that have the same flavour and opposite charge must satisfy $m_{ll} > 5 GeV$ in order to reject backgrounds involving the production and decay of J/ψ mesons."
   ]
  },
  {
   "cell_type": "code",
   "execution_count": 80,
   "id": "d4d5abec",
   "metadata": {},
   "outputs": [],
   "source": [
    "# To do: these extra cuts on leading and sub-leading pair are to be implemented.."
   ]
  },
  {
   "cell_type": "markdown",
   "id": "71d0e2de",
   "metadata": {},
   "source": [
    "### Compute the invariant mass\n",
    "This computes the 4-vectors sum for the 4-lepton system\n",
    "using formulas from special relativity.  \n",
    "See also http://edu.itp.phys.ethz.ch/hs10/ppp1/2010_11_02.pdf\n",
    "and https://en.wikipedia.org/wiki/Invariant_mass"
   ]
  },
  {
   "cell_type": "code",
   "execution_count": 11,
   "id": "1834fc32",
   "metadata": {},
   "outputs": [
    {
     "name": "stdout",
     "output_type": "stream",
     "text": [
      "+------------------+-------------------+------------------+---------+\n",
      "|                Px|                 Py|                Pz|        E|\n",
      "+------------------+-------------------+------------------+---------+\n",
      "|-867.6994198619705|-2279.9000389946814|-99440.67452892396|157946.28|\n",
      "|  8067.13079081967|-13.284619779517016|-92928.31530294346|147034.55|\n",
      "|-1499.920452116341|-330.86533634722036| 50649.90713907084|135251.33|\n",
      "| 89927.65860305948| 58032.758097137645|148712.28174206842| 221039.0|\n",
      "|243065.92162896198| -26371.73737747334| -287895.814088867|397388.06|\n",
      "+------------------+-------------------+------------------+---------+\n",
      "only showing top 5 rows\n",
      "\n",
      "+------------------+\n",
      "|       invmass_GeV|\n",
      "+------------------+\n",
      "|122.68915751101063|\n",
      "| 113.6591678276742|\n",
      "|125.39996029333513|\n",
      "|123.64510277758014|\n",
      "| 123.5182389789679|\n",
      "+------------------+\n",
      "only showing top 5 rows\n",
      "\n"
     ]
    }
   ],
   "source": [
    "# This computes the 4-vectors sum for the 4-lepton system\n",
    "\n",
    "df_4lep = df_lep_filtered.selectExpr(\n",
    "\"lep.lep_pt[0] * cos(lep.lep_phi[0]) + lep.lep_pt[1] * cos(lep.lep_phi[1]) + lep.lep_pt[2] * cos(lep.lep_phi[2]) + lep.lep_pt[3] * cos(lep.lep_phi[3]) as Px\",\n",
    "\"lep.lep_pt[0] * sin(lep.lep_phi[0]) + lep.lep_pt[1] * sin(lep.lep_phi[1]) + lep.lep_pt[2] * sin(lep.lep_phi[2]) + lep.lep_pt[3] * sin(lep.lep_phi[3]) as Py\",\n",
    "\"lep.lep_pt[0] * sinh(lep.lep_eta[0]) + lep.lep_pt[1] * sinh(lep.lep_eta[1]) + lep.lep_pt[2] * sinh(lep.lep_eta[2]) + lep.lep_pt[3] * sinh(lep.lep_eta[3]) as Pz\",\n",
    "\"lep.lep_E[0] + lep.lep_E[1] + lep.lep_E[2] + lep.lep_E[3] as E\"  \n",
    ")\n",
    "\n",
    "df_4lep.show(5)\n",
    "\n",
    "df_4lep_invmass = df_4lep.selectExpr(\"sqrt(E * E - ( Px * Px + Py * Py + Pz * Pz))/1e3 as invmass_GeV\")\n",
    "\n",
    "df_4lep_invmass.show(5)"
   ]
  },
  {
   "cell_type": "code",
   "execution_count": 12,
   "id": "d8b7e337",
   "metadata": {},
   "outputs": [],
   "source": [
    "# This defines the DataFrame transformation to compute the histogram of invariant mass\n",
    "# The result is a histogram with (energy) bin values and event counts foreach bin\n",
    "\n",
    "# Requires sparkhistogram\n",
    "# See https://github.com/LucaCanali/Miscellaneous/blob/master/Spark_Notes/Spark_DataFrame_Histograms.md \n",
    "from sparkhistogram import computeHistogram\n",
    "\n",
    "# histogram parameters\n",
    "min_val = 80\n",
    "max_val = 250\n",
    "num_bins = (max_val - min_val) / 5.0\n",
    "\n",
    "# use the helper function computeHistogram in the package sparkhistogram\n",
    "histogram_data = computeHistogram(df_4lep_invmass, \"invmass_GeV\", min_val, max_val, num_bins) \n"
   ]
  },
  {
   "cell_type": "code",
   "execution_count": 13,
   "id": "703b649a",
   "metadata": {},
   "outputs": [
    {
     "name": "stderr",
     "output_type": "stream",
     "text": [
      "                                                                                \r"
     ]
    },
    {
     "name": "stdout",
     "output_type": "stream",
     "text": [
      "CPU times: user 222 ms, sys: 29.3 ms, total: 252 ms\n",
      "Wall time: 10.3 s\n"
     ]
    }
   ],
   "source": [
    "# The action toPandas() here triggers the computation.\n",
    "# Histogram data is fetched into the driver as a Pandas Dataframe.\n",
    "\n",
    "%time histogram_data_pandas=histogram_data.toPandas()\n"
   ]
  },
  {
   "cell_type": "code",
   "execution_count": 14,
   "id": "158e0813",
   "metadata": {},
   "outputs": [],
   "source": [
    "import numpy as np\n",
    "\n",
    "# Computes statistical error on the data (histogram)\n",
    "histogram_data_stat_errors = np.sqrt(histogram_data_pandas)"
   ]
  },
  {
   "cell_type": "code",
   "execution_count": 15,
   "id": "dfb5c347",
   "metadata": {},
   "outputs": [
    {
     "data": {
      "image/png": "[encoded data removed]",
      "text/plain": [
       "<Figure size 1008x720 with 1 Axes>"
      ]
     },
     "metadata": {},
     "output_type": "display_data"
    }
   ],
   "source": [
    "# This plots the data histogram with error bars\n",
    "\n",
    "import matplotlib.pyplot as plt \n",
    "\n",
    "plt.style.use('seaborn-darkgrid')\n",
    "plt.rcParams.update({'font.size': 20, 'figure.figsize': [14,10]})\n",
    "\n",
    "f, ax = plt.subplots()\n",
    "\n",
    "x = histogram_data_pandas[\"value\"]\n",
    "y = histogram_data_pandas[\"count\"]\n",
    "err = histogram_data_stat_errors[\"count\"]\n",
    "\n",
    "# scatter plot\n",
    "#ax.plot(x, y, marker='o', color='red', linewidth=0)\n",
    "#ax.errorbar(x, y, err, fmt = 'ro')\n",
    "# histogram with error bars\n",
    "ax.bar(x, y, width = 5.0, yerr = err, capsize = 5, linewidth = 0.4, ecolor='blue', fill=True)\n",
    "\n",
    "ax.set_xlim(min_val-2, max_val)\n",
    "\n",
    "ax.set_xlabel('$m_{4lep}$ (GeV)')\n",
    "ax.set_ylabel('Number of Events / bucket_size = 5 GeV')\n",
    "ax.set_title(\"Distribution of the 4-Lepton Invariant Mass\")\n",
    "\n",
    "# Label for the Z ang Higgs spectrum peaks\n",
    "txt_opts = {'horizontalalignment': 'left',\n",
    "            'verticalalignment': 'center',\n",
    "            'transform': ax.transAxes}\n",
    "\n",
    "#plt.text(0.10, 0.86, \"Z boson, mass = 91 GeV\", **txt_opts)\n",
    "plt.text(0.28, 0.70, \"Higgs boson, mass = 125 GeV\", **txt_opts)\n",
    "\n",
    "# Add energy and luminosity\n",
    "plt.text(0.60, 0.92, \"ATLAS open data, for education\", **txt_opts)\n",
    "plt.text(0.60, 0.87, '$\\sqrt{s}$=13 TeV, Monte Carlo data', **txt_opts)\n",
    "\n",
    "plt.show()"
   ]
  },
  {
   "cell_type": "code",
   "execution_count": 16,
   "id": "b27dc159",
   "metadata": {},
   "outputs": [],
   "source": [
    "spark.stop()"
   ]
  },
  {
   "cell_type": "markdown",
   "id": "b3026073",
   "metadata": {},
   "source": [
    "## Note on sparkhistogram\n",
    "\n",
    "Use this to define the computeHistogram function if you cannot pip install sparkhistogram"
   ]
  },
  {
   "cell_type": "code",
   "execution_count": null,
   "id": "0c98d715",
   "metadata": {},
   "outputs": [],
   "source": [
    "def computeHistogram(df: \"DataFrame\", value_col: str, min: float, max: float, bins: int) -> \"DataFrame\":\n",
    "    \"\"\" This is a dataframe function to compute the count/frequecy histogram of a column\n",
    "        \n",
    "        Parameters\n",
    "        ----------\n",
    "        df: the dataframe with the data to compute\n",
    "        value_col: column name on which to compute the histogram\n",
    "        min: minimum value in the histogram\n",
    "        max: maximum value in the histogram\n",
    "        bins: number of histogram buckets to compute\n",
    "        \n",
    "        Output DataFrame\n",
    "        ----------------\n",
    "        bucket: the bucket number, range from 1 to bins (included)\n",
    "        value: midpoint value of the given bucket\n",
    "        count: number of values in the bucket        \n",
    "    \"\"\"\n",
    "    step = (max - min) / bins\n",
    "    # this will be used to fill in for missing buckets, i.e. buckets with no corresponding values\n",
    "    df_buckets = spark.sql(f\"select id+1 as bucket from range({bins})\")\n",
    "    \n",
    "    histdf = (df\n",
    "              .selectExpr(f\"width_bucket({value_col}, {min}, {max}, {bins}) as bucket\")\n",
    "              .groupBy(\"bucket\")\n",
    "              .count()\n",
    "              .join(df_buckets, \"bucket\", \"right_outer\") # add missing buckets and remove buckets out of range\n",
    "              .selectExpr(\"bucket\", f\"{min} + (bucket - 1/2) * {step} as value\", # use center value of the buckets\n",
    "                          \"nvl(count, 0) as count\") # buckets with no values will have a count of 0\n",
    "              .orderBy(\"bucket\")\n",
    "             )\n",
    "    return histdf"
   ]
  }
 ],
 "metadata": {
  "kernelspec": {
   "display_name": "Python 3 (ipykernel)",
   "language": "python",
   "name": "python3"
  },
  "language_info": {
   "codemirror_mode": {
    "name": "ipython",
    "version": 3
   },
   "file_extension": ".py",
   "mimetype": "text/x-python",
   "name": "python",
   "nbconvert_exporter": "python",
   "pygments_lexer": "ipython3",
   "version": "3.9.12"
  }
 },
 "nbformat": 4,
 "nbformat_minor": 5
}
