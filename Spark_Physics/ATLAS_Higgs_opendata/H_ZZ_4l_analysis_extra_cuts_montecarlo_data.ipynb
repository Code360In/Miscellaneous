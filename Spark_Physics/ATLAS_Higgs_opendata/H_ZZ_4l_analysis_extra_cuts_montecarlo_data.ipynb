{
 "cells": [
  {
   "cell_type": "markdown",
   "id": "c97f8c4d",
   "metadata": {},
   "source": [
    "# Higgs Boson Analysis with ATLAS Open Data\n",
    "This is an example analysis of the Higgs boson detection via the decay channel H &rarr; ZZ* &rarr; 4l  \n",
    "From the decay products measured at the ATLAS experiment and provided as open data, you will be able to produce a histogram, and from there you can infer the invariant mass of the Higgs boson.  \n",
    "Code: it is based on the original work at [ATLAS outreach notebooks](https://github.com/atlas-outreach-data-tools/notebooks-collection-opendata/tree/master/13-TeV-examples/uproot_python)  \n",
    "Data: from the 13TeV [ATLAS opendata](http://opendata.atlas.cern/release/2020/documentation/datasets/files.html)  \n",
    "Physics: See ATLAS paper on the [discovery of the Higgs boson](https://www.sciencedirect.com/science/article/pii/S037026931200857X) (mostly Section 4 and 4.1) \n",
    "\n",
    "See also: https://github.com/LucaCanali/Miscellaneous/Spark_Physics\n",
    "\n",
    "Author and contact: Luca.Canali@cern.ch  \n",
    "March, 2022"
   ]
  },
  {
   "cell_type": "markdown",
   "id": "22d54a3d",
   "metadata": {},
   "source": [
    "## H &rarr; ZZ* &rarr; 4l analsys with extra cuts, using Monte Carlo simulation data"
   ]
  },
  {
   "cell_type": "code",
   "execution_count": 1,
   "id": "38800879",
   "metadata": {},
   "outputs": [],
   "source": [
    "# Run this if you need to install Apache Spark (PySpark)\n",
    "\n",
    "# !pip install pyspark"
   ]
  },
  {
   "cell_type": "code",
   "execution_count": null,
   "id": "bee0e073",
   "metadata": {},
   "outputs": [],
   "source": [
    "# Start the Spark Session\n",
    "# This uses local mode for simplicity\n",
    "# the use of findspark is optional\n",
    "\n",
    "# import findspark\n",
    "# findspark.init(\"/home/luca/Spark/spark-3.2.1-bin-hadoop3.2\")\n",
    "\n",
    "from pyspark.sql import SparkSession\n",
    "spark = (SparkSession.builder\n",
    "         .appName(\"H_ZZ_4Lep\")\n",
    "         .master(\"local[*]\")\n",
    "         .config(\"spark.driver.memory\", \"2g\")\n",
    "         .getOrCreate()\n",
    "        )"
   ]
  },
  {
   "cell_type": "code",
   "execution_count": 2,
   "id": "5a6d1374",
   "metadata": {},
   "outputs": [],
   "source": [
    "# Run this to download the dataset \n",
    "# It is a small file (81 MB), this exercise is meant mostly to show the Spark API\n",
    "# See further details at https://github.com/LucaCanali/Miscellaneous/Spark_Physics\n",
    "\n",
    "#!wget https://sparkdltrigger.web.cern.ch/sparkdltrigger/ATLAS_Higgs_opendata/MC_signal_4lep.parquet"
   ]
  },
  {
   "cell_type": "code",
   "execution_count": 3,
   "id": "ab108ade",
   "metadata": {
    "scrolled": true
   },
   "outputs": [
    {
     "name": "stderr",
     "output_type": "stream",
     "text": [
      "\r",
      "[Stage 0:>                                                          (0 + 1) / 1]\r",
      "\r",
      "                                                                                \r"
     ]
    },
    {
     "name": "stdout",
     "output_type": "stream",
     "text": [
      "root\n",
      " |-- runNumber: integer (nullable = true)\n",
      " |-- eventNumber: integer (nullable = true)\n",
      " |-- channelNumber: integer (nullable = true)\n",
      " |-- mcWeight: float (nullable = true)\n",
      " |-- scaleFactor_PILEUP: float (nullable = true)\n",
      " |-- scaleFactor_ELE: float (nullable = true)\n",
      " |-- scaleFactor_MUON: float (nullable = true)\n",
      " |-- scaleFactor_PHOTON: float (nullable = true)\n",
      " |-- scaleFactor_TAU: float (nullable = true)\n",
      " |-- scaleFactor_BTAG: float (nullable = true)\n",
      " |-- scaleFactor_LepTRIGGER: float (nullable = true)\n",
      " |-- scaleFactor_PhotonTRIGGER: float (nullable = true)\n",
      " |-- trigE: boolean (nullable = true)\n",
      " |-- trigM: boolean (nullable = true)\n",
      " |-- trigP: boolean (nullable = true)\n",
      " |-- lep_n: long (nullable = true)\n",
      " |-- lep_truthMatched: array (nullable = true)\n",
      " |    |-- element: boolean (containsNull = true)\n",
      " |-- lep_trigMatched: array (nullable = true)\n",
      " |    |-- element: boolean (containsNull = true)\n",
      " |-- lep_pt: array (nullable = true)\n",
      " |    |-- element: float (containsNull = true)\n",
      " |-- lep_eta: array (nullable = true)\n",
      " |    |-- element: float (containsNull = true)\n",
      " |-- lep_phi: array (nullable = true)\n",
      " |    |-- element: float (containsNull = true)\n",
      " |-- lep_E: array (nullable = true)\n",
      " |    |-- element: float (containsNull = true)\n",
      " |-- lep_z0: array (nullable = true)\n",
      " |    |-- element: float (containsNull = true)\n",
      " |-- lep_charge: array (nullable = true)\n",
      " |    |-- element: integer (containsNull = true)\n",
      " |-- lep_type: array (nullable = true)\n",
      " |    |-- element: long (containsNull = true)\n",
      " |-- lep_isTightID: array (nullable = true)\n",
      " |    |-- element: boolean (containsNull = true)\n",
      " |-- lep_ptcone30: array (nullable = true)\n",
      " |    |-- element: float (containsNull = true)\n",
      " |-- lep_etcone20: array (nullable = true)\n",
      " |    |-- element: float (containsNull = true)\n",
      " |-- lep_trackd0pvunbiased: array (nullable = true)\n",
      " |    |-- element: float (containsNull = true)\n",
      " |-- lep_tracksigd0pvunbiased: array (nullable = true)\n",
      " |    |-- element: float (containsNull = true)\n",
      " |-- met_et: float (nullable = true)\n",
      " |-- met_phi: float (nullable = true)\n",
      " |-- jet_n: long (nullable = true)\n",
      " |-- jet_pt: array (nullable = true)\n",
      " |    |-- element: float (containsNull = true)\n",
      " |-- jet_eta: array (nullable = true)\n",
      " |    |-- element: float (containsNull = true)\n",
      " |-- jet_phi: array (nullable = true)\n",
      " |    |-- element: float (containsNull = true)\n",
      " |-- jet_E: array (nullable = true)\n",
      " |    |-- element: float (containsNull = true)\n",
      " |-- jet_jvt: array (nullable = true)\n",
      " |    |-- element: float (containsNull = true)\n",
      " |-- jet_trueflav: array (nullable = true)\n",
      " |    |-- element: integer (containsNull = true)\n",
      " |-- jet_truthMatched: array (nullable = true)\n",
      " |    |-- element: boolean (containsNull = true)\n",
      " |-- jet_MV2c10: array (nullable = true)\n",
      " |    |-- element: float (containsNull = true)\n",
      " |-- photon_n: long (nullable = true)\n",
      " |-- photon_truthMatched: array (nullable = true)\n",
      " |    |-- element: boolean (containsNull = true)\n",
      " |-- photon_trigMatched: array (nullable = true)\n",
      " |    |-- element: boolean (containsNull = true)\n",
      " |-- photon_pt: array (nullable = true)\n",
      " |    |-- element: float (containsNull = true)\n",
      " |-- photon_eta: array (nullable = true)\n",
      " |    |-- element: float (containsNull = true)\n",
      " |-- photon_phi: array (nullable = true)\n",
      " |    |-- element: float (containsNull = true)\n",
      " |-- photon_E: array (nullable = true)\n",
      " |    |-- element: float (containsNull = true)\n",
      " |-- photon_isTightID: array (nullable = true)\n",
      " |    |-- element: boolean (containsNull = true)\n",
      " |-- photon_ptcone30: array (nullable = true)\n",
      " |    |-- element: float (containsNull = true)\n",
      " |-- photon_etcone20: array (nullable = true)\n",
      " |    |-- element: float (containsNull = true)\n",
      " |-- photon_convType: array (nullable = true)\n",
      " |    |-- element: integer (containsNull = true)\n",
      " |-- tau_n: long (nullable = true)\n",
      " |-- tau_pt: array (nullable = true)\n",
      " |    |-- element: float (containsNull = true)\n",
      " |-- tau_eta: array (nullable = true)\n",
      " |    |-- element: float (containsNull = true)\n",
      " |-- tau_phi: array (nullable = true)\n",
      " |    |-- element: float (containsNull = true)\n",
      " |-- tau_E: array (nullable = true)\n",
      " |    |-- element: float (containsNull = true)\n",
      " |-- tau_isTightID: array (nullable = true)\n",
      " |    |-- element: boolean (containsNull = true)\n",
      " |-- tau_truthMatched: array (nullable = true)\n",
      " |    |-- element: boolean (containsNull = true)\n",
      " |-- tau_trigMatched: array (nullable = true)\n",
      " |    |-- element: boolean (containsNull = true)\n",
      " |-- tau_nTracks: array (nullable = true)\n",
      " |    |-- element: integer (containsNull = true)\n",
      " |-- tau_BDTid: array (nullable = true)\n",
      " |    |-- element: float (containsNull = true)\n",
      " |-- ditau_m: float (nullable = true)\n",
      " |-- lep_pt_syst: array (nullable = true)\n",
      " |    |-- element: float (containsNull = true)\n",
      " |-- met_et_syst: float (nullable = true)\n",
      " |-- jet_pt_syst: array (nullable = true)\n",
      " |    |-- element: float (containsNull = true)\n",
      " |-- photon_pt_syst: array (nullable = true)\n",
      " |    |-- element: float (containsNull = true)\n",
      " |-- tau_pt_syst: array (nullable = true)\n",
      " |    |-- element: float (containsNull = true)\n",
      " |-- XSection: float (nullable = true)\n",
      " |-- SumWeights: float (nullable = true)\n",
      " |-- largeRjet_n: long (nullable = true)\n",
      " |-- largeRjet_pt: array (nullable = true)\n",
      " |    |-- element: float (containsNull = true)\n",
      " |-- largeRjet_eta: array (nullable = true)\n",
      " |    |-- element: float (containsNull = true)\n",
      " |-- largeRjet_phi: array (nullable = true)\n",
      " |    |-- element: float (containsNull = true)\n",
      " |-- largeRjet_E: array (nullable = true)\n",
      " |    |-- element: float (containsNull = true)\n",
      " |-- largeRjet_m: array (nullable = true)\n",
      " |    |-- element: float (containsNull = true)\n",
      " |-- largeRjet_truthMatched: array (nullable = true)\n",
      " |    |-- element: float (containsNull = true)\n",
      " |-- largeRjet_D2: array (nullable = true)\n",
      " |    |-- element: float (containsNull = true)\n",
      " |-- largeRjet_tau32: array (nullable = true)\n",
      " |    |-- element: float (containsNull = true)\n",
      " |-- largeRjet_pt_syst: array (nullable = true)\n",
      " |    |-- element: float (containsNull = true)\n",
      " |-- tau_charge: array (nullable = true)\n",
      " |    |-- element: integer (containsNull = true)\n",
      "\n"
     ]
    }
   ],
   "source": [
    "# Read data from MOnte Carlo simulation\n",
    "df_events = spark.read.parquet(\"/home/luca/Spark/Spark_Physics/H_ZZ_llll/ATLAS_Higgs_opendata/MC_signal_4lep.parquet\")\n",
    "\n",
    "df_events.printSchema()\n"
   ]
  },
  {
   "cell_type": "code",
   "execution_count": 72,
   "id": "6790882f",
   "metadata": {},
   "outputs": [
    {
     "name": "stdout",
     "output_type": "stream",
     "text": [
      "Number of events: 385706\n"
     ]
    }
   ],
   "source": [
    "# Count the number of events before cuts (filter)\n",
    "print(f\"Number of events: {df_events.count()}\")"
   ]
  },
  {
   "cell_type": "code",
   "execution_count": 73,
   "id": "ca2ed0c3",
   "metadata": {},
   "outputs": [
    {
     "name": "stderr",
     "output_type": "stream",
     "text": [
      "                                                                                \r"
     ]
    },
    {
     "data": {
      "text/plain": [
       "378760"
      ]
     },
     "execution_count": 73,
     "metadata": {},
     "output_type": "execute_result"
    }
   ],
   "source": [
    "df_lep = df_events.selectExpr(\"\"\"arrays_zip(lep_type, lep_charge, lep_E, lep_pt, lep_phi, lep_eta, lep_z0,\n",
    "                                 lep_etcone20, lep_ptcone30, lep_trackd0pvunbiased, lep_tracksigd0pvunbiased) lep\n",
    "                          \"\"\",)\n",
    "df_lep.filter(\"size(lep) == 4\").count()"
   ]
  },
  {
   "cell_type": "code",
   "execution_count": 74,
   "id": "0219d5a9",
   "metadata": {},
   "outputs": [
    {
     "name": "stderr",
     "output_type": "stream",
     "text": [
      "                                                                                \r"
     ]
    },
    {
     "data": {
      "text/plain": [
       "333373"
      ]
     },
     "execution_count": 74,
     "metadata": {},
     "output_type": "execute_result"
    }
   ],
   "source": [
    "# filter electrons and muons inside the lepton array\n",
    "\n",
    "df_lep_filtered = df_lep.selectExpr(\"\"\"filter(lep, l ->\n",
    "                         (l.lep_type = 11\n",
    "                          and l.lep_pt > 7000.0\n",
    "                          and abs(l.lep_eta) < 2.4\n",
    "                          and l.lep_etcone20/l.lep_pt < 0.3\n",
    "                          and l.lep_ptcone30/l.lep_pt < 0.3\n",
    "                          and abs(l.lep_trackd0pvunbiased) / l.lep_tracksigd0pvunbiased < 5\n",
    "                          and l.lep_z0 * sin (2 * atan(exp(-l.lep_eta)))  < 0.5\n",
    "                         )\n",
    "                         or \n",
    "                         (l.lep_type = 13\n",
    "                          and l.lep_pt > 5000.0\n",
    "                          and abs(l.lep_eta) < 2.5\n",
    "                          and l.lep_etcone20/l.lep_pt < 0.3\n",
    "                          and l.lep_ptcone30/l.lep_pt < 0.3\n",
    "                          and abs(l.lep_trackd0pvunbiased) / l.lep_tracksigd0pvunbiased < 3\n",
    "                          and l.lep_z0 * sin (2 * atan(exp(-l.lep_eta)))  < 0.5\n",
    "                         )\n",
    "                       ) as lep\"\"\")\n",
    "\n",
    "\n",
    "df_lep_filtered.filter(\"size(lep) == 4\").count()"
   ]
  },
  {
   "cell_type": "markdown",
   "id": "7c369ad6",
   "metadata": {},
   "source": [
    "### Apply cuts\n",
    "More details on the cuts (filters applied to the event data) in the reference ATLAS paper on the [discovery of the Higgs boson](https://www.sciencedirect.com/science/article/pii/S037026931200857X) (mostly Section 4 and 4.1) "
   ]
  },
  {
   "cell_type": "code",
   "execution_count": 75,
   "id": "e481cb25",
   "metadata": {},
   "outputs": [
    {
     "name": "stderr",
     "output_type": "stream",
     "text": [
      "\r",
      "[Stage 103:==========================================>              (3 + 1) / 4]\r"
     ]
    },
    {
     "name": "stdout",
     "output_type": "stream",
     "text": [
      "Number of events after applying cuts: 324073\n"
     ]
    },
    {
     "name": "stderr",
     "output_type": "stream",
     "text": [
      "\r",
      "                                                                                \r"
     ]
    }
   ],
   "source": [
    "# Apply filters to the input data\n",
    "\n",
    "# only events with 4 leptons in the input data\n",
    "df_lep_filtered = df_lep_filtered.filter(\"size(lep) == 4\")\n",
    "\n",
    "# paper: \"selecting two pairs of isolated leptons, each of which is comprised of two leptons with the same flavour and opposite charge\"\n",
    "\n",
    "# cut on lepton charge\n",
    "df_lep_filtered = df_lep_filtered.filter(\"lep.lep_charge[0] + lep.lep_charge[1] + lep.lep_charge[2] + lep.lep_charge[3] == 0\")\n",
    "\n",
    "# cut on lepton type\n",
    "df_lep_filtered = df_lep_filtered.filter(\"lep.lep_type[0] + lep.lep_type[1] + lep.lep_type[2] + lep.lep_type[3] in (44, 48, 52)\")\n",
    "\n",
    "print(f\"Number of events after applying cuts: {df_lep_filtered.count()}\")"
   ]
  },
  {
   "cell_type": "code",
   "execution_count": 77,
   "id": "5e5b8a48",
   "metadata": {},
   "outputs": [],
   "source": [
    "# order leptons by pt, highest values first\n",
    "df_lep_ordered = df_lep_filtered.selectExpr(\"\"\"array_sort(lep, (left, right) -> \n",
    "       case when left.lep_pt > right.lep_pt then -1 \n",
    "            when left.lep_pt < right.lep_pt then 1\n",
    "            else 0 end) as lep\"\"\")"
   ]
  },
  {
   "cell_type": "code",
   "execution_count": 78,
   "id": "02c26671",
   "metadata": {},
   "outputs": [
    {
     "name": "stderr",
     "output_type": "stream",
     "text": [
      "                                                                                \r"
     ]
    },
    {
     "data": {
      "text/plain": [
       "316323"
      ]
     },
     "execution_count": 78,
     "metadata": {},
     "output_type": "execute_result"
    }
   ],
   "source": [
    "# filter based on the ordered lepton list\n",
    "# filter values accoring to the analysis paper\n",
    "\n",
    "df_lep_ordered_filtered = df_lep_ordered.filter(\"\"\"\n",
    "     lep.lep_pt[0] > 20000.0\n",
    "     and lep.lep_pt[1] > 15000.0\n",
    "     and lep.lep_pt[2] > 10000.0\n",
    "\"\"\")\n",
    "\n",
    "df_lep_ordered_filtered.count()"
   ]
  },
  {
   "cell_type": "code",
   "execution_count": 79,
   "id": "ca1aea99",
   "metadata": {},
   "outputs": [
    {
     "name": "stdout",
     "output_type": "stream",
     "text": [
      "+----------------+--------------------------------------------+\n",
      "|lep_type        |lep_pt                                      |\n",
      "+----------------+--------------------------------------------+\n",
      "|[11, 13, 11, 13]|[98138.2, 21995.48, 20338.168, 8456.644]    |\n",
      "|[11, 11, 13, 13]|[52162.59, 43042.38, 24589.73, 16738.777]   |\n",
      "|[11, 11, 13, 13]|[50315.68, 19619.604, 15251.94, 12991.47]   |\n",
      "|[11, 11, 13, 13]|[71746.43, 71310.11, 28126.932, 16158.768]  |\n",
      "|[11, 11, 11, 11]|[38003.594, 29805.818, 19653.143, 12796.849]|\n",
      "+----------------+--------------------------------------------+\n",
      "only showing top 5 rows\n",
      "\n"
     ]
    }
   ],
   "source": [
    "df_lep_ordered_filtered.selectExpr(\"lep.lep_type\", \"lep.lep_pt\").show(5, False)"
   ]
  },
  {
   "cell_type": "markdown",
   "id": "61bbb8bf",
   "metadata": {},
   "source": [
    "### Further cuts\n",
    "\n",
    "Paper: The same-flavour and opposite-charge lepton pair with an invariant mass closest to the Z boson mass ($m_Z$) in the quadruplet is referred to as the leading lepton pair. Its invariant mass, denoted by $m_{12}$ , is required to be between 50 GeV and 106 GeV.  \n",
    "The remaining same-flavour, opposite-charge lepton pair is the sub-leading lepton pair. Its invariant mass, $m_{34}$, is required to be in the range $m_{min} < m_{34} < 115 GeV$, where the value of mmin depends on the reconstructed four-lepton invariant mass, $m_{4l}$.  \n",
    "The value of $m_{min}$ varies monotonically from 17.5 GeV at $m_{4l}$ = 120 GeV to 50 GeV at $m_{4l}$ = 190 GeV and is constant above this value.  \n",
    "All possible lepton pairs in the quadruplet that have the same flavour and opposite charge must satisfy $m_{ll} > 5 GeV$ in order to reject backgrounds involving the production and decay of J/ψ mesons."
   ]
  },
  {
   "cell_type": "code",
   "execution_count": 80,
   "id": "d4d5abec",
   "metadata": {},
   "outputs": [],
   "source": [
    "# These extra cuts on leading and sub-leading pair are to be implemented.."
   ]
  },
  {
   "cell_type": "markdown",
   "id": "71d0e2de",
   "metadata": {},
   "source": [
    "### Compute the invariant mass\n",
    "This computes the 4-vectors sum for the 4-lepton system\n",
    "using formulas from special relativity.  \n",
    "See also http://edu.itp.phys.ethz.ch/hs10/ppp1/2010_11_02.pdf\n",
    "and https://en.wikipedia.org/wiki/Invariant_mass"
   ]
  },
  {
   "cell_type": "code",
   "execution_count": 83,
   "id": "1834fc32",
   "metadata": {},
   "outputs": [
    {
     "name": "stdout",
     "output_type": "stream",
     "text": [
      "+-------------------+-------------------+------------------+---------+\n",
      "|                 Px|                 Py|                Pz|        E|\n",
      "+-------------------+-------------------+------------------+---------+\n",
      "|-56046.088396627296|  77913.48765086698|-76554.35695073805| 171893.5|\n",
      "|-23483.565445262946| -70920.16910657167|187435.31533915762|239070.61|\n",
      "| 3275.1581484401922|   45766.7374848076| 199852.3342201764|238323.92|\n",
      "|-136909.33268754833|-55791.406700789106|28381.304702210127|194419.44|\n",
      "| 33620.366031025165| -52765.36698023943|22455.266146431128|133328.53|\n",
      "+-------------------+-------------------+------------------+---------+\n",
      "only showing top 5 rows\n",
      "\n",
      "+------------------+\n",
      "|       invmass_GeV|\n",
      "+------------------+\n",
      "|120.31263209395189|\n",
      "|128.22484525076982|\n",
      "|121.45786720441916|\n",
      "| 123.0307733894153|\n",
      "|115.57570980821832|\n",
      "+------------------+\n",
      "only showing top 5 rows\n",
      "\n"
     ]
    }
   ],
   "source": [
    "# This computes the 4-vectors sum for the 4-lepton system\n",
    "\n",
    "df_4lep = df_lep_filtered.selectExpr(\n",
    "\"lep.lep_pt[0] * cos(lep.lep_phi[0]) + lep.lep_pt[1] * cos(lep.lep_phi[1]) + lep.lep_pt[2] * cos(lep.lep_phi[2]) + lep.lep_pt[3] * cos(lep.lep_phi[3]) as Px\",\n",
    "\"lep.lep_pt[0] * sin(lep.lep_phi[0]) + lep.lep_pt[1] * sin(lep.lep_phi[1]) + lep.lep_pt[2] * sin(lep.lep_phi[2]) + lep.lep_pt[3] * sin(lep.lep_phi[3]) as Py\",\n",
    "\"lep.lep_pt[0] * sinh(lep.lep_eta[0]) + lep.lep_pt[1] * sinh(lep.lep_eta[1]) + lep.lep_pt[2] * sinh(lep.lep_eta[2]) + lep.lep_pt[3] * sinh(lep.lep_eta[3]) as Pz\",\n",
    "\"lep.lep_E[0] + lep.lep_E[1] + lep.lep_E[2] + lep.lep_E[3] as E\"  \n",
    ")\n",
    "\n",
    "df_4lep.show(5)\n",
    "\n",
    "df_4lep_invmass = df_4lep.selectExpr(\"sqrt(E * E - ( Px * Px + Py * Py + Pz * Pz))/1e3 as invmass_GeV\")\n",
    "\n",
    "df_4lep_invmass.show(5)"
   ]
  },
  {
   "cell_type": "code",
   "execution_count": 85,
   "id": "d8b7e337",
   "metadata": {},
   "outputs": [],
   "source": [
    "# Compute the histogram of invariant mass\n",
    "# The Spark function \"width_bucket\" is used to generate the histogram bucket number\n",
    "# a groupBy operation with count is used to fill the histogram\n",
    "# The result is a histogram with bins value and counts foreach bin (N_events)\n",
    "\n",
    "min_val = 80\n",
    "max_val = 250\n",
    "num_bins = (max_val - min_val) / 5.0\n",
    "step = (max_val - min_val) / num_bins\n",
    "\n",
    "from pyspark.sql.functions import sum\n",
    "\n",
    "histogram_data = ( \n",
    "    df_4lep_invmass\n",
    "        .selectExpr(f\"width_bucket(invmass_GeV, {min_val}, {max_val}, {num_bins}) as bucket\") \n",
    "        .groupBy(\"bucket\")\n",
    "        .count()\n",
    "        .orderBy(\"bucket\")\n",
    "    )\n"
   ]
  },
  {
   "cell_type": "code",
   "execution_count": 86,
   "id": "88882865",
   "metadata": {},
   "outputs": [],
   "source": [
    "# convert bucket number to the corresponding center value of the histogram\n",
    "histogram_data = histogram_data.selectExpr(f\"round({min_val} + (bucket - 1/2) * {step},2) as value\", \"count as N_events\")"
   ]
  },
  {
   "cell_type": "code",
   "execution_count": 87,
   "id": "703b649a",
   "metadata": {},
   "outputs": [
    {
     "name": "stderr",
     "output_type": "stream",
     "text": [
      "\r",
      "[Stage 117:==========================================>              (3 + 1) / 4]\r"
     ]
    },
    {
     "name": "stdout",
     "output_type": "stream",
     "text": [
      "CPU times: user 11.4 ms, sys: 2.95 ms, total: 14.3 ms\n",
      "Wall time: 6.69 s\n"
     ]
    },
    {
     "name": "stderr",
     "output_type": "stream",
     "text": [
      "\r",
      "                                                                                \r"
     ]
    }
   ],
   "source": [
    "# The action toPandas() here triggers the computation.\n",
    "# Histogram data is fetched into the driver as a Pandas Dataframe.\n",
    "\n",
    "%time histogram_data_pandas=histogram_data.toPandas()\n"
   ]
  },
  {
   "cell_type": "code",
   "execution_count": 88,
   "id": "158e0813",
   "metadata": {},
   "outputs": [],
   "source": [
    "import numpy as np\n",
    "\n",
    "# Computes statistical error on the data (histogram)\n",
    "histogram_data_stat_errors = np.sqrt(histogram_data_pandas)"
   ]
  },
  {
   "cell_type": "code",
   "execution_count": 97,
   "id": "dfb5c347",
   "metadata": {},
   "outputs": [
    {
     "data": {
      "image/png": "[encoded data removed]",
      "text/plain": [
       "<Figure size 1008x720 with 1 Axes>"
      ]
     },
     "metadata": {},
     "output_type": "display_data"
    }
   ],
   "source": [
    "# This plots the data histogram with error bars\n",
    "\n",
    "import matplotlib.pyplot as plt \n",
    "\n",
    "plt.style.use('seaborn-darkgrid')\n",
    "plt.rcParams.update({'font.size': 20, 'figure.figsize': [14,10]})\n",
    "\n",
    "f, ax = plt.subplots()\n",
    "\n",
    "# cut the first and last bin\n",
    "x = histogram_data_pandas.iloc[1:-1][\"value\"]\n",
    "y = histogram_data_pandas.iloc[1:-1][\"N_events\"]\n",
    "err = histogram_data_stat_errors[1:-1][\"N_events\"]\n",
    "\n",
    "# scatter plot\n",
    "#ax.plot(x, y, marker='o', color='red', linewidth=0)\n",
    "#ax.errorbar(x, y, err, fmt = 'ro')\n",
    "# histogram with error bars\n",
    "ax.bar(x, y, width = 5.0, yerr = err, capsize = 5, linewidth = 0.4, ecolor='blue', fill=True)\n",
    "\n",
    "ax.set_xlim(min_val-2, max_val)\n",
    "\n",
    "ax.set_xlabel('$m_{4lep}$ (GeV)')\n",
    "ax.set_ylabel('Number of Events / bucket_size = 5 GeV')\n",
    "ax.set_title(\"Distribution of the 4-Lepton Invariant Mass\")\n",
    "\n",
    "# Label for the Z ang Higgs spectrum peaks\n",
    "txt_opts = {'horizontalalignment': 'left',\n",
    "            'verticalalignment': 'center',\n",
    "            'transform': ax.transAxes}\n",
    "\n",
    "#plt.text(0.10, 0.86, \"Z boson, mass = 91 GeV\", **txt_opts)\n",
    "plt.text(0.28, 0.70, \"Higgs boson, mass = 125 GeV\", **txt_opts)\n",
    "\n",
    "# Add energy and luminosity\n",
    "plt.text(0.60, 0.92, \"ATLAS open data, for education\", **txt_opts)\n",
    "plt.text(0.60, 0.87, '$\\sqrt{s}$=13 TeV, Monte Carlo data', **txt_opts)\n",
    "\n",
    "plt.show()"
   ]
  },
  {
   "cell_type": "code",
   "execution_count": null,
   "id": "b27dc159",
   "metadata": {},
   "outputs": [],
   "source": [
    "spark.stop()"
   ]
  },
  {
   "cell_type": "code",
   "execution_count": null,
   "id": "3b4165a5",
   "metadata": {},
   "outputs": [],
   "source": []
  }
 ],
 "metadata": {
  "kernelspec": {
   "display_name": "Python 3 (ipykernel)",
   "language": "python",
   "name": "python3"
  },
  "language_info": {
   "codemirror_mode": {
    "name": "ipython",
    "version": 3
   },
   "file_extension": ".py",
   "mimetype": "text/x-python",
   "name": "python",
   "nbconvert_exporter": "python",
   "pygments_lexer": "ipython3",
   "version": "3.9.7"
  }
 },
 "nbformat": 4,
 "nbformat_minor": 5
}
