{
 "cells": [
  {
   "cell_type": "markdown",
   "id": "c97f8c4d",
   "metadata": {},
   "source": [
    "# Higgs Boson Analysis with ATLAS Open Data\n",
    "This is an example analysis of the Higgs boson detection via the decay channel H &rarr; ZZ* &rarr; 4l  \n",
    "From the decay products measured at the ATLAS experiment and provided as open data, you will be able to produce a histogram, and from there you can infer the invariant mass of the Higgs boson.  \n",
    "Code: it is based on the original work at [ATLAS outreach notebooks](https://github.com/atlas-outreach-data-tools/notebooks-collection-opendata/tree/master/13-TeV-examples/uproot_python)  \n",
    "Data: from the 13TeV [ATLAS opendata](http://opendata.atlas.cern/release/2020/documentation/datasets/files.html)  \n",
    "Physics: See ATLAS paper on the [discovery of the Higgs boson](https://www.sciencedirect.com/science/article/pii/S037026931200857X) (mostly Section 4 and 4.1) \n",
    "\n",
    "See also: https://github.com/LucaCanali/Miscellaneous/tree/master/Spark_Physics\n",
    "\n",
    "Author and contact: Luca.Canali@cern.ch  \n",
    "March, 2022"
   ]
  },
  {
   "cell_type": "markdown",
   "id": "22d54a3d",
   "metadata": {},
   "source": [
    "## H &rarr; ZZ* &rarr; 4l analsys"
   ]
  },
  {
   "cell_type": "code",
   "execution_count": null,
   "id": "38800879",
   "metadata": {},
   "outputs": [],
   "source": [
    "# Run this if you need to install Apache Spark (PySpark)\n",
    "\n",
    "# !pip install pyspark"
   ]
  },
  {
   "cell_type": "code",
   "execution_count": null,
   "id": "bee0e073",
   "metadata": {},
   "outputs": [],
   "source": [
    "# Start the Spark Session\n",
    "# This uses local mode for simplicity\n",
    "# the use of findspark is optional\n",
    "\n",
    "#import findspark\n",
    "# findspark.init(\"/home/luca/Spark/spark-3.2.1-bin-hadoop3.2\")\n",
    "\n",
    "from pyspark.sql import SparkSession\n",
    "spark = (SparkSession.builder\n",
    "         .appName(\"H_ZZ_4Lep\")\n",
    "         .master(\"local[*]\")\n",
    "         .config(\"spark.driver.memory\", \"2g\")\n",
    "         .getOrCreate()\n",
    "        )"
   ]
  },
  {
   "cell_type": "code",
   "execution_count": 3,
   "id": "5a6d1374",
   "metadata": {},
   "outputs": [],
   "source": [
    "# Run this to download the dataset \n",
    "# It is a small file (200 KB), this exercise is meant mostly to show the Spark API\n",
    "# See further details at https://github.com/LucaCanali/Miscellaneous/tree/master/Spark_Physics\n",
    "\n",
    "!wget https://sparkdltrigger.web.cern.ch/sparkdltrigger/ATLAS_Higgs_opendata/Data_4lep.parquet\n"
   ]
  },
  {
   "cell_type": "code",
   "execution_count": 4,
   "id": "ab108ade",
   "metadata": {},
   "outputs": [
    {
     "name": "stderr",
     "output_type": "stream",
     "text": [
      "                                                                                \r"
     ]
    },
    {
     "name": "stdout",
     "output_type": "stream",
     "text": [
      "root\n",
      " |-- runNumber: integer (nullable = true)\n",
      " |-- eventNumber: integer (nullable = true)\n",
      " |-- channelNumber: integer (nullable = true)\n",
      " |-- mcWeight: float (nullable = true)\n",
      " |-- scaleFactor_PILEUP: float (nullable = true)\n",
      " |-- scaleFactor_ELE: float (nullable = true)\n",
      " |-- scaleFactor_MUON: float (nullable = true)\n",
      " |-- scaleFactor_PHOTON: float (nullable = true)\n",
      " |-- scaleFactor_TAU: float (nullable = true)\n",
      " |-- scaleFactor_BTAG: float (nullable = true)\n",
      " |-- scaleFactor_LepTRIGGER: float (nullable = true)\n",
      " |-- scaleFactor_PhotonTRIGGER: float (nullable = true)\n",
      " |-- trigE: boolean (nullable = true)\n",
      " |-- trigM: boolean (nullable = true)\n",
      " |-- trigP: boolean (nullable = true)\n",
      " |-- lep_n: long (nullable = true)\n",
      " |-- lep_truthMatched: array (nullable = true)\n",
      " |    |-- element: boolean (containsNull = true)\n",
      " |-- lep_trigMatched: array (nullable = true)\n",
      " |    |-- element: boolean (containsNull = true)\n",
      " |-- lep_pt: array (nullable = true)\n",
      " |    |-- element: float (containsNull = true)\n",
      " |-- lep_eta: array (nullable = true)\n",
      " |    |-- element: float (containsNull = true)\n",
      " |-- lep_phi: array (nullable = true)\n",
      " |    |-- element: float (containsNull = true)\n",
      " |-- lep_E: array (nullable = true)\n",
      " |    |-- element: float (containsNull = true)\n",
      " |-- lep_z0: array (nullable = true)\n",
      " |    |-- element: float (containsNull = true)\n",
      " |-- lep_charge: array (nullable = true)\n",
      " |    |-- element: integer (containsNull = true)\n",
      " |-- lep_type: array (nullable = true)\n",
      " |    |-- element: long (containsNull = true)\n",
      " |-- lep_isTightID: array (nullable = true)\n",
      " |    |-- element: boolean (containsNull = true)\n",
      " |-- lep_ptcone30: array (nullable = true)\n",
      " |    |-- element: float (containsNull = true)\n",
      " |-- lep_etcone20: array (nullable = true)\n",
      " |    |-- element: float (containsNull = true)\n",
      " |-- lep_trackd0pvunbiased: array (nullable = true)\n",
      " |    |-- element: float (containsNull = true)\n",
      " |-- lep_tracksigd0pvunbiased: array (nullable = true)\n",
      " |    |-- element: float (containsNull = true)\n",
      " |-- met_et: float (nullable = true)\n",
      " |-- met_phi: float (nullable = true)\n",
      " |-- jet_n: long (nullable = true)\n",
      " |-- jet_pt: array (nullable = true)\n",
      " |    |-- element: float (containsNull = true)\n",
      " |-- jet_eta: array (nullable = true)\n",
      " |    |-- element: float (containsNull = true)\n",
      " |-- jet_phi: array (nullable = true)\n",
      " |    |-- element: float (containsNull = true)\n",
      " |-- jet_E: array (nullable = true)\n",
      " |    |-- element: float (containsNull = true)\n",
      " |-- jet_jvt: array (nullable = true)\n",
      " |    |-- element: float (containsNull = true)\n",
      " |-- jet_trueflav: array (nullable = true)\n",
      " |    |-- element: integer (containsNull = true)\n",
      " |-- jet_truthMatched: array (nullable = true)\n",
      " |    |-- element: boolean (containsNull = true)\n",
      " |-- jet_MV2c10: array (nullable = true)\n",
      " |    |-- element: float (containsNull = true)\n",
      " |-- photon_n: long (nullable = true)\n",
      " |-- photon_truthMatched: array (nullable = true)\n",
      " |    |-- element: boolean (containsNull = true)\n",
      " |-- photon_trigMatched: array (nullable = true)\n",
      " |    |-- element: boolean (containsNull = true)\n",
      " |-- photon_pt: array (nullable = true)\n",
      " |    |-- element: float (containsNull = true)\n",
      " |-- photon_eta: array (nullable = true)\n",
      " |    |-- element: float (containsNull = true)\n",
      " |-- photon_phi: array (nullable = true)\n",
      " |    |-- element: float (containsNull = true)\n",
      " |-- photon_E: array (nullable = true)\n",
      " |    |-- element: float (containsNull = true)\n",
      " |-- photon_isTightID: array (nullable = true)\n",
      " |    |-- element: boolean (containsNull = true)\n",
      " |-- photon_ptcone30: array (nullable = true)\n",
      " |    |-- element: float (containsNull = true)\n",
      " |-- photon_etcone20: array (nullable = true)\n",
      " |    |-- element: float (containsNull = true)\n",
      " |-- photon_convType: array (nullable = true)\n",
      " |    |-- element: integer (containsNull = true)\n",
      " |-- tau_n: long (nullable = true)\n",
      " |-- tau_pt: array (nullable = true)\n",
      " |    |-- element: float (containsNull = true)\n",
      " |-- tau_eta: array (nullable = true)\n",
      " |    |-- element: float (containsNull = true)\n",
      " |-- tau_phi: array (nullable = true)\n",
      " |    |-- element: float (containsNull = true)\n",
      " |-- tau_E: array (nullable = true)\n",
      " |    |-- element: float (containsNull = true)\n",
      " |-- tau_isTightID: array (nullable = true)\n",
      " |    |-- element: boolean (containsNull = true)\n",
      " |-- tau_truthMatched: array (nullable = true)\n",
      " |    |-- element: boolean (containsNull = true)\n",
      " |-- tau_trigMatched: array (nullable = true)\n",
      " |    |-- element: boolean (containsNull = true)\n",
      " |-- tau_nTracks: array (nullable = true)\n",
      " |    |-- element: integer (containsNull = true)\n",
      " |-- tau_BDTid: array (nullable = true)\n",
      " |    |-- element: float (containsNull = true)\n",
      " |-- ditau_m: float (nullable = true)\n",
      " |-- lep_pt_syst: array (nullable = true)\n",
      " |    |-- element: float (containsNull = true)\n",
      " |-- met_et_syst: float (nullable = true)\n",
      " |-- jet_pt_syst: array (nullable = true)\n",
      " |    |-- element: float (containsNull = true)\n",
      " |-- photon_pt_syst: array (nullable = true)\n",
      " |    |-- element: float (containsNull = true)\n",
      " |-- tau_pt_syst: array (nullable = true)\n",
      " |    |-- element: float (containsNull = true)\n",
      " |-- XSection: float (nullable = true)\n",
      " |-- SumWeights: float (nullable = true)\n",
      " |-- largeRjet_n: long (nullable = true)\n",
      " |-- largeRjet_pt: array (nullable = true)\n",
      " |    |-- element: float (containsNull = true)\n",
      " |-- largeRjet_eta: array (nullable = true)\n",
      " |    |-- element: float (containsNull = true)\n",
      " |-- largeRjet_phi: array (nullable = true)\n",
      " |    |-- element: float (containsNull = true)\n",
      " |-- largeRjet_E: array (nullable = true)\n",
      " |    |-- element: float (containsNull = true)\n",
      " |-- largeRjet_m: array (nullable = true)\n",
      " |    |-- element: float (containsNull = true)\n",
      " |-- largeRjet_truthMatched: array (nullable = true)\n",
      " |    |-- element: float (containsNull = true)\n",
      " |-- largeRjet_D2: array (nullable = true)\n",
      " |    |-- element: float (containsNull = true)\n",
      " |-- largeRjet_tau32: array (nullable = true)\n",
      " |    |-- element: float (containsNull = true)\n",
      " |-- largeRjet_pt_syst: array (nullable = true)\n",
      " |    |-- element: float (containsNull = true)\n",
      " |-- tau_charge: array (nullable = true)\n",
      " |    |-- element: integer (containsNull = true)\n",
      "\n"
     ]
    }
   ],
   "source": [
    "# Read data with the candidate events\n",
    "df_events = spark.read.parquet(\"Data_4lep.parquet\")\n",
    "\n",
    "df_events.printSchema()\n"
   ]
  },
  {
   "cell_type": "code",
   "execution_count": 5,
   "id": "6790882f",
   "metadata": {},
   "outputs": [
    {
     "name": "stdout",
     "output_type": "stream",
     "text": [
      "Number of events: 832\n"
     ]
    }
   ],
   "source": [
    "# Count the number of events before cuts (filter)\n",
    "print(f\"Number of events: {df_events.count()}\")"
   ]
  },
  {
   "cell_type": "markdown",
   "id": "7c369ad6",
   "metadata": {},
   "source": [
    "### Apply basic cuts\n",
    "More details on the cuts (filters applied to the event data) in the reference ATLAS paper on the [discovery of the Higgs boson](https://www.sciencedirect.com/science/article/pii/S037026931200857X) (mostly Section 4 and 4.1) "
   ]
  },
  {
   "cell_type": "code",
   "execution_count": 7,
   "id": "e481cb25",
   "metadata": {},
   "outputs": [
    {
     "name": "stdout",
     "output_type": "stream",
     "text": [
      "Number of events after applying cuts: 507\n"
     ]
    }
   ],
   "source": [
    "# Apply filters to the input data\n",
    "# only events with 4 leptons in the input data\n",
    "\n",
    "# cut on lepton charge\n",
    "# paper: \"selecting two pairs of isolated leptons, each of which is comprised of two leptons with the same flavour and opposite charge\"\n",
    "df_events = df_events.filter(\"lep_charge[0] + lep_charge[1] + lep_charge[2] + lep_charge[3] == 0\")\n",
    "\n",
    "# cut on lepton type\n",
    "# paper: \"selecting two pairs of isolated leptons, each of which is comprised of two leptons with the same flavour and opposite charge\"\n",
    "df_events = df_events.filter(\"lep_type[0] + lep_type[1] + lep_type[2] + lep_type[3] in (44, 48, 52)\")\n",
    "\n",
    "print(f\"Number of events after applying cuts: {df_events.count()}\")"
   ]
  },
  {
   "cell_type": "markdown",
   "id": "71d0e2de",
   "metadata": {},
   "source": [
    "### Compute the invariant mass\n",
    "This computes the 4-vectors sum for the 4-lepton system\n",
    "using formulas from special relativity.  \n",
    "See also http://edu.itp.phys.ethz.ch/hs10/ppp1/2010_11_02.pdf\n",
    "and https://en.wikipedia.org/wiki/Invariant_mass"
   ]
  },
  {
   "cell_type": "code",
   "execution_count": 8,
   "id": "1834fc32",
   "metadata": {},
   "outputs": [
    {
     "name": "stdout",
     "output_type": "stream",
     "text": [
      "+-------------------+-------------------+-------------------+---------+\n",
      "|                 Px|                 Py|                 Pz|        E|\n",
      "+-------------------+-------------------+-------------------+---------+\n",
      "| -5549.313396878235|-170444.05334022344|-15746.091731533503|309954.88|\n",
      "|  42207.49382671445| 130573.00201274469| -47275.43779472515|294242.06|\n",
      "|-1688.5786930973281| 12019.559647988772|-184350.58119043778|255493.97|\n",
      "|-24986.255307382246| -16563.56023125274|  586515.1288275808| 655824.6|\n",
      "| -25158.89812267374|-26052.317345542066|  649866.7138738859| 689542.3|\n",
      "+-------------------+-------------------+-------------------+---------+\n",
      "only showing top 5 rows\n",
      "\n",
      "+------------------+\n",
      "|       invmass_GeV|\n",
      "+------------------+\n",
      "| 258.3449524588402|\n",
      "| 255.9543720735489|\n",
      "| 176.4786439391845|\n",
      "| 291.9028801340375|\n",
      "|227.66237283516355|\n",
      "+------------------+\n",
      "only showing top 5 rows\n",
      "\n"
     ]
    }
   ],
   "source": [
    "# This computes the 4-vectors sum for the 4-lepton system\n",
    "\n",
    "df_4lep = df_events.selectExpr(\n",
    "\"lep_pt[0] * cos(lep_phi[0]) + lep_pt[1] * cos(lep_phi[1]) + lep_pt[2] * cos(lep_phi[2]) + lep_pt[3] * cos(lep_phi[3]) as Px\",\n",
    "\"lep_pt[0] * sin(lep_phi[0]) + lep_pt[1] * sin(lep_phi[1]) + lep_pt[2] * sin(lep_phi[2]) + lep_pt[3] * sin(lep_phi[3]) as Py\",\n",
    "\"lep_pt[0] * sinh(lep_eta[0]) + lep_pt[1] * sinh(lep_eta[1]) + lep_pt[2] * sinh(lep_eta[2]) + lep_pt[3] * sinh(lep_eta[3]) as Pz\",\n",
    "\"lep_E[0] + lep_E[1] + lep_E[2] + lep_E[3] as E\"    \n",
    ")\n",
    "\n",
    "df_4lep.show(5)\n",
    "\n",
    "df_4lep_invmass = df_4lep.selectExpr(\"sqrt(E * E - ( Px * Px + Py * Py + Pz * Pz))/1e3 as invmass_GeV\")\n",
    "\n",
    "df_4lep_invmass.show(5)"
   ]
  },
  {
   "cell_type": "code",
   "execution_count": 9,
   "id": "d8b7e337",
   "metadata": {},
   "outputs": [],
   "source": [
    "# Compute the histogram of invariant mass\n",
    "# The Spark function \"width_bucket\" is used to generate the histogram bucket number\n",
    "# a groupBy operation with count is used to fill the histogram\n",
    "# The result is a histogram with bins value and counts foreach bin (N_events)\n",
    "\n",
    "min_val = 80\n",
    "max_val = 250\n",
    "num_bins = (max_val - min_val) / 5.0\n",
    "step = (max_val - min_val) / num_bins\n",
    "\n",
    "histogram_data = ( \n",
    "    df_4lep_invmass\n",
    "        .selectExpr(f\"width_bucket(invmass_GeV, {min_val}, {max_val}, {num_bins}) as bucket\") \n",
    "        .groupBy(\"bucket\")\n",
    "        .count()\n",
    "        .orderBy(\"bucket\")\n",
    "    )\n",
    "\n",
    "# convert bucket number to the corresponding center value of the histogram\n",
    "histogram_data = histogram_data.selectExpr(f\"round({min_val} + (bucket - 1/2) * {step},2) as value\", \"count as N_events\")"
   ]
  },
  {
   "cell_type": "code",
   "execution_count": 10,
   "id": "703b649a",
   "metadata": {},
   "outputs": [
    {
     "name": "stdout",
     "output_type": "stream",
     "text": [
      "CPU times: user 267 ms, sys: 43.1 ms, total: 310 ms\n",
      "Wall time: 1.09 s\n"
     ]
    }
   ],
   "source": [
    "# The action toPandas() here triggers the computation.\n",
    "# Histogram data is fetched into the driver as a Pandas Dataframe.\n",
    "\n",
    "%time histogram_data_pandas=histogram_data.toPandas()\n"
   ]
  },
  {
   "cell_type": "code",
   "execution_count": 11,
   "id": "158e0813",
   "metadata": {},
   "outputs": [],
   "source": [
    "import numpy as np\n",
    "\n",
    "# Computes statistical error on the data (histogram)\n",
    "histogram_data_stat_errors = np.sqrt(histogram_data_pandas)"
   ]
  },
  {
   "cell_type": "code",
   "execution_count": 12,
   "id": "927ff9c0",
   "metadata": {
    "scrolled": false
   },
   "outputs": [
    {
     "data": {
      "image/png": "[encoded data removed]",
      "text/plain": [
       "<Figure size 1008x720 with 1 Axes>"
      ]
     },
     "metadata": {},
     "output_type": "display_data"
    }
   ],
   "source": [
    "# This plots the data histogram with error bars\n",
    "\n",
    "import matplotlib.pyplot as plt \n",
    "\n",
    "plt.style.use('seaborn-darkgrid')\n",
    "plt.rcParams.update({'font.size': 20, 'figure.figsize': [14,10]})\n",
    "\n",
    "f, ax = plt.subplots()\n",
    "\n",
    "# cut the first and last bin\n",
    "x = histogram_data_pandas.iloc[1:-1][\"value\"]\n",
    "y = histogram_data_pandas.iloc[1:-1][\"N_events\"]\n",
    "err = histogram_data_stat_errors[1:-1][\"N_events\"]\n",
    "\n",
    "# scatter plot\n",
    "ax.plot(x, y, marker='o', color='red', linewidth=0)\n",
    "#ax.errorbar(x, y, err, fmt = 'ro')\n",
    "# histogram with error bars\n",
    "ax.bar(x, y, width = 5.0, yerr = err, capsize = 5, linewidth = 0.2, ecolor='blue', fill=False)\n",
    "\n",
    "ax.set_xlim(min_val-2, max_val)\n",
    "\n",
    "ax.set_xlabel('$m_{4lep}$ (GeV)')\n",
    "ax.set_ylabel('Number of Events / bucket_size = 5 GeV')\n",
    "ax.set_title(\"Distribution of the 4-Lepton Invariant Mass\")\n",
    "\n",
    "# Label for the Z ang Higgs spectrum peaks\n",
    "txt_opts = {'horizontalalignment': 'left',\n",
    "            'verticalalignment': 'center',\n",
    "            'transform': ax.transAxes}\n",
    "\n",
    "plt.text(0.10, 0.86, \"Z boson, mass = 91 GeV\", **txt_opts)\n",
    "plt.text(0.27, 0.55, \"Higgs boson, mass = 125 GeV\", **txt_opts)\n",
    "\n",
    "# Add energy and luminosity\n",
    "plt.text(0.60, 0.92, \"ATLAS open data, for education\", **txt_opts)\n",
    "plt.text(0.60, 0.87, '$\\sqrt{s}$=13 TeV,$\\int$L dt = 10 fb$^{-1}$', **txt_opts)\n",
    "\n",
    "plt.show()"
   ]
  },
  {
   "cell_type": "code",
   "execution_count": 11,
   "id": "b27dc159",
   "metadata": {},
   "outputs": [],
   "source": [
    "spark.stop()"
   ]
  },
  {
   "cell_type": "code",
   "execution_count": null,
   "id": "3b4165a5",
   "metadata": {},
   "outputs": [],
   "source": []
  }
 ],
 "metadata": {
  "kernelspec": {
   "display_name": "Python 3 (ipykernel)",
   "language": "python",
   "name": "python3"
  },
  "language_info": {
   "codemirror_mode": {
    "name": "ipython",
    "version": 3
   },
   "file_extension": ".py",
   "mimetype": "text/x-python",
   "name": "python",
   "nbconvert_exporter": "python",
   "pygments_lexer": "ipython3",
   "version": "3.9.7"
  }
 },
 "nbformat": 4,
 "nbformat_minor": 5
}
