{
 "cells": [
  {
   "cell_type": "markdown",
   "id": "38491234",
   "metadata": {},
   "source": [
    "# HEP Benchmark Query Q8\n",
    "\n",
    "This follows the [IRIS-HEP benchmark](https://github.com/iris-hep/adl-benchmarks-index)\n",
    "and the article [Evaluating Query Languages and Systems for High-Energy Physics Data](https://arxiv.org/abs/2104.12615)\n",
    "and provides implementations of the benchmark tasks using Apache Spark.\n",
    "\n",
    "The workload and data:\n",
    "  - Benchmark jobs are implemented follwing [IRIS-HEP benchmark](https://github.com/iris-hep/adl-benchmarks-index)\n",
    "  - The input data is a series of events from CMS opendata\n",
    "  - The job output is typically a histogram \n",
    "  - See also https://github.com/LucaCanali/Miscellaneous/tree/master/Spark_Physics\n",
    "\n",
    "Author and contact: Luca.Canali@cern.ch  \n",
    "February, 2022"
   ]
  },
  {
   "cell_type": "code",
   "execution_count": null,
   "id": "b5a25fca",
   "metadata": {},
   "outputs": [],
   "source": [
    "# Start the Spark Session\n",
    "# This uses local mode for simplicity\n",
    "# The use of findspark is optional\n",
    "\n",
    "import findspark\n",
    "findspark.init(\"/home/luca/Spark/spark-3.2.1-bin-hadoop3.2\")\n",
    "\n",
    "from pyspark.sql import SparkSession\n",
    "spark = (SparkSession.builder\n",
    "         .appName(\"HEP benchmark\")\n",
    "         .master(\"local[4]\")\n",
    "         .config(\"spark.driver.memory\", \"4g\")\n",
    "         .config(\"spark.jars\", \"./scalaudf_2.12-0.1.jar\")  # jar with the Scala UDFs\n",
    "         .config(\"spark.jars.packages\", \"net.jafama:jafama:2.3.2\")  # Faster math library for Scala UDFs\n",
    "         .config(\"spark.sql.orc.enableNestedColumnVectorizedReader\", \"true\")\n",
    "         .getOrCreate()\n",
    "        )\n"
   ]
  },
  {
   "cell_type": "code",
   "execution_count": 2,
   "id": "e00f87ee",
   "metadata": {
    "scrolled": true
   },
   "outputs": [
    {
     "name": "stdout",
     "output_type": "stream",
     "text": [
      "root\n",
      " |-- run: integer (nullable = true)\n",
      " |-- luminosityBlock: long (nullable = true)\n",
      " |-- event: long (nullable = true)\n",
      " |-- HLT_IsoMu24_eta2p1: boolean (nullable = true)\n",
      " |-- HLT_IsoMu24: boolean (nullable = true)\n",
      " |-- HLT_IsoMu17_eta2p1_LooseIsoPFTau20: boolean (nullable = true)\n",
      " |-- PV_npvs: integer (nullable = true)\n",
      " |-- PV_x: float (nullable = true)\n",
      " |-- PV_y: float (nullable = true)\n",
      " |-- PV_z: float (nullable = true)\n",
      " |-- nMuon: long (nullable = true)\n",
      " |-- Muon_pt: array (nullable = true)\n",
      " |    |-- element: float (containsNull = true)\n",
      " |-- Muon_eta: array (nullable = true)\n",
      " |    |-- element: float (containsNull = true)\n",
      " |-- Muon_phi: array (nullable = true)\n",
      " |    |-- element: float (containsNull = true)\n",
      " |-- Muon_mass: array (nullable = true)\n",
      " |    |-- element: float (containsNull = true)\n",
      " |-- Muon_charge: array (nullable = true)\n",
      " |    |-- element: integer (containsNull = true)\n",
      " |-- Muon_pfRelIso03_all: array (nullable = true)\n",
      " |    |-- element: float (containsNull = true)\n",
      " |-- Muon_pfRelIso04_all: array (nullable = true)\n",
      " |    |-- element: float (containsNull = true)\n",
      " |-- Muon_tightId: array (nullable = true)\n",
      " |    |-- element: boolean (containsNull = true)\n",
      " |-- Muon_softId: array (nullable = true)\n",
      " |    |-- element: boolean (containsNull = true)\n",
      " |-- Muon_dxy: array (nullable = true)\n",
      " |    |-- element: float (containsNull = true)\n",
      " |-- Muon_dxyErr: array (nullable = true)\n",
      " |    |-- element: float (containsNull = true)\n",
      " |-- Muon_dz: array (nullable = true)\n",
      " |    |-- element: float (containsNull = true)\n",
      " |-- Muon_dzErr: array (nullable = true)\n",
      " |    |-- element: float (containsNull = true)\n",
      " |-- Muon_jetIdx: array (nullable = true)\n",
      " |    |-- element: integer (containsNull = true)\n",
      " |-- Muon_genPartIdx: array (nullable = true)\n",
      " |    |-- element: integer (containsNull = true)\n",
      " |-- nElectron: long (nullable = true)\n",
      " |-- Electron_pt: array (nullable = true)\n",
      " |    |-- element: float (containsNull = true)\n",
      " |-- Electron_eta: array (nullable = true)\n",
      " |    |-- element: float (containsNull = true)\n",
      " |-- Electron_phi: array (nullable = true)\n",
      " |    |-- element: float (containsNull = true)\n",
      " |-- Electron_mass: array (nullable = true)\n",
      " |    |-- element: float (containsNull = true)\n",
      " |-- Electron_charge: array (nullable = true)\n",
      " |    |-- element: integer (containsNull = true)\n",
      " |-- Electron_pfRelIso03_all: array (nullable = true)\n",
      " |    |-- element: float (containsNull = true)\n",
      " |-- Electron_dxy: array (nullable = true)\n",
      " |    |-- element: float (containsNull = true)\n",
      " |-- Electron_dxyErr: array (nullable = true)\n",
      " |    |-- element: float (containsNull = true)\n",
      " |-- Electron_dz: array (nullable = true)\n",
      " |    |-- element: float (containsNull = true)\n",
      " |-- Electron_dzErr: array (nullable = true)\n",
      " |    |-- element: float (containsNull = true)\n",
      " |-- Electron_cutBasedId: array (nullable = true)\n",
      " |    |-- element: boolean (containsNull = true)\n",
      " |-- Electron_pfId: array (nullable = true)\n",
      " |    |-- element: boolean (containsNull = true)\n",
      " |-- Electron_jetIdx: array (nullable = true)\n",
      " |    |-- element: integer (containsNull = true)\n",
      " |-- Electron_genPartIdx: array (nullable = true)\n",
      " |    |-- element: integer (containsNull = true)\n",
      " |-- nTau: long (nullable = true)\n",
      " |-- Tau_pt: array (nullable = true)\n",
      " |    |-- element: float (containsNull = true)\n",
      " |-- Tau_eta: array (nullable = true)\n",
      " |    |-- element: float (containsNull = true)\n",
      " |-- Tau_phi: array (nullable = true)\n",
      " |    |-- element: float (containsNull = true)\n",
      " |-- Tau_mass: array (nullable = true)\n",
      " |    |-- element: float (containsNull = true)\n",
      " |-- Tau_charge: array (nullable = true)\n",
      " |    |-- element: integer (containsNull = true)\n",
      " |-- Tau_decayMode: array (nullable = true)\n",
      " |    |-- element: integer (containsNull = true)\n",
      " |-- Tau_relIso_all: array (nullable = true)\n",
      " |    |-- element: float (containsNull = true)\n",
      " |-- Tau_jetIdx: array (nullable = true)\n",
      " |    |-- element: integer (containsNull = true)\n",
      " |-- Tau_genPartIdx: array (nullable = true)\n",
      " |    |-- element: integer (containsNull = true)\n",
      " |-- Tau_idDecayMode: array (nullable = true)\n",
      " |    |-- element: boolean (containsNull = true)\n",
      " |-- Tau_idIsoRaw: array (nullable = true)\n",
      " |    |-- element: float (containsNull = true)\n",
      " |-- Tau_idIsoVLoose: array (nullable = true)\n",
      " |    |-- element: boolean (containsNull = true)\n",
      " |-- Tau_idIsoLoose: array (nullable = true)\n",
      " |    |-- element: boolean (containsNull = true)\n",
      " |-- Tau_idIsoMedium: array (nullable = true)\n",
      " |    |-- element: boolean (containsNull = true)\n",
      " |-- Tau_idIsoTight: array (nullable = true)\n",
      " |    |-- element: boolean (containsNull = true)\n",
      " |-- Tau_idAntiEleLoose: array (nullable = true)\n",
      " |    |-- element: boolean (containsNull = true)\n",
      " |-- Tau_idAntiEleMedium: array (nullable = true)\n",
      " |    |-- element: boolean (containsNull = true)\n",
      " |-- Tau_idAntiEleTight: array (nullable = true)\n",
      " |    |-- element: boolean (containsNull = true)\n",
      " |-- Tau_idAntiMuLoose: array (nullable = true)\n",
      " |    |-- element: boolean (containsNull = true)\n",
      " |-- Tau_idAntiMuMedium: array (nullable = true)\n",
      " |    |-- element: boolean (containsNull = true)\n",
      " |-- Tau_idAntiMuTight: array (nullable = true)\n",
      " |    |-- element: boolean (containsNull = true)\n",
      " |-- nPhoton: long (nullable = true)\n",
      " |-- Photon_pt: array (nullable = true)\n",
      " |    |-- element: float (containsNull = true)\n",
      " |-- Photon_eta: array (nullable = true)\n",
      " |    |-- element: float (containsNull = true)\n",
      " |-- Photon_phi: array (nullable = true)\n",
      " |    |-- element: float (containsNull = true)\n",
      " |-- Photon_mass: array (nullable = true)\n",
      " |    |-- element: float (containsNull = true)\n",
      " |-- Photon_charge: array (nullable = true)\n",
      " |    |-- element: integer (containsNull = true)\n",
      " |-- Photon_pfRelIso03_all: array (nullable = true)\n",
      " |    |-- element: float (containsNull = true)\n",
      " |-- Photon_jetIdx: array (nullable = true)\n",
      " |    |-- element: integer (containsNull = true)\n",
      " |-- Photon_genPartIdx: array (nullable = true)\n",
      " |    |-- element: integer (containsNull = true)\n",
      " |-- MET_pt: float (nullable = true)\n",
      " |-- MET_phi: float (nullable = true)\n",
      " |-- MET_sumet: float (nullable = true)\n",
      " |-- MET_significance: float (nullable = true)\n",
      " |-- MET_CovXX: float (nullable = true)\n",
      " |-- MET_CovXY: float (nullable = true)\n",
      " |-- MET_CovYY: float (nullable = true)\n",
      " |-- nJet: long (nullable = true)\n",
      " |-- Jet_pt: array (nullable = true)\n",
      " |    |-- element: float (containsNull = true)\n",
      " |-- Jet_eta: array (nullable = true)\n",
      " |    |-- element: float (containsNull = true)\n",
      " |-- Jet_phi: array (nullable = true)\n",
      " |    |-- element: float (containsNull = true)\n",
      " |-- Jet_mass: array (nullable = true)\n",
      " |    |-- element: float (containsNull = true)\n",
      " |-- Jet_puId: array (nullable = true)\n",
      " |    |-- element: boolean (containsNull = true)\n",
      " |-- Jet_btag: array (nullable = true)\n",
      " |    |-- element: float (containsNull = true)\n",
      "\n"
     ]
    },
    {
     "name": "stderr",
     "output_type": "stream",
     "text": [
      "[Stage 0:=================================================>     (108 + 4) / 121]\r"
     ]
    },
    {
     "name": "stdout",
     "output_type": "stream",
     "text": [
      "Number of events: 53446198\n"
     ]
    },
    {
     "name": "stderr",
     "output_type": "stream",
     "text": [
      "\r",
      "                                                                                \r"
     ]
    }
   ],
   "source": [
    "# Read data for the benchmark tasks\n",
    "# download data as detailed at https://github.com/LucaCanali/Miscellaneous/tree/master/Spark_Physics\n",
    "\n",
    "path = \"/home/luca/HEP_benchmark/\"\n",
    "input_data = \"Run2012B_SingleMu.orc\"\n",
    "\n",
    "df_events = spark.read.orc(path + input_data)\n",
    "\n",
    "df_events.printSchema()\n",
    "\n",
    "print(f\"Number of events: {df_events.count()}\")"
   ]
  },
  {
   "cell_type": "markdown",
   "id": "00e91ad0",
   "metadata": {},
   "source": [
    "# Benchmark task Q8\n",
    "\n",
    "For events with at least three light leptons and a same-flavor opposite-charge light lepton pair, find such a pair that has the invariant mass closest to 91.2 GeV in each event and plot the transverse mass of the system consisting of the missing tranverse momentum and the highest-$𝑝_𝑇$ light lepton not in this pair."
   ]
  },
  {
   "cell_type": "markdown",
   "id": "af9c0059",
   "metadata": {},
   "source": [
    "## Implementation: Filter in Spark, process in Scala UDF"
   ]
  },
  {
   "cell_type": "code",
   "execution_count": 3,
   "id": "3be3add3",
   "metadata": {},
   "outputs": [
    {
     "name": "stdout",
     "output_type": "stream",
     "text": [
      "root\n",
      " |-- Muon: array (nullable = true)\n",
      " |    |-- element: struct (containsNull = false)\n",
      " |    |    |-- Muon_pt: float (nullable = true)\n",
      " |    |    |-- Muon_eta: float (nullable = true)\n",
      " |    |    |-- Muon_phi: float (nullable = true)\n",
      " |    |    |-- Muon_mass: float (nullable = true)\n",
      " |    |    |-- Muon_charge: integer (nullable = true)\n",
      " |-- Electron: array (nullable = true)\n",
      " |    |-- element: struct (containsNull = false)\n",
      " |    |    |-- Electron_pt: float (nullable = true)\n",
      " |    |    |-- Electron_eta: float (nullable = true)\n",
      " |    |    |-- Electron_phi: float (nullable = true)\n",
      " |    |    |-- Electron_Mass: float (nullable = true)\n",
      " |    |    |-- Electron_charge: integer (nullable = true)\n",
      " |-- MET_pt: float (nullable = true)\n",
      " |-- MET_phi: float (nullable = true)\n",
      "\n"
     ]
    }
   ],
   "source": [
    "# Select 3-Jet events and group Jet parameters together\n",
    "\n",
    "df_events_q8 = ( df_events\n",
    "                  .selectExpr(\"arrays_zip(Muon_pt, Muon_eta, Muon_phi, Muon_mass, Muon_charge) as Muon\",\n",
    "                              \"arrays_zip(Electron_pt, Electron_eta, Electron_phi, Electron_Mass, Electron_charge) as Electron\",\n",
    "                              \"MET_pt\", \"MET_phi\")\n",
    "                  .filter(\"nMuon + nElectron >= 3\")\n",
    "               )\n",
    "                \n",
    "df_events_q8.printSchema()"
   ]
  },
  {
   "cell_type": "code",
   "execution_count": 4,
   "id": "4be56dd7",
   "metadata": {},
   "outputs": [],
   "source": [
    "# Register the Scala UDF\n",
    "from pyspark.sql.types import FloatType\n",
    "\n",
    "spark.udf.registerJavaFunction(\"diLeptonMt\", \"ch.cern.udf.diLeptonMt\", FloatType())"
   ]
  },
  {
   "cell_type": "code",
   "execution_count": 5,
   "id": "c0907fc1",
   "metadata": {
    "scrolled": false
   },
   "outputs": [
    {
     "name": "stdout",
     "output_type": "stream",
     "text": [
      "root\n",
      " |-- transverse_mass: float (nullable = true)\n",
      "\n",
      "+---------------+\n",
      "|transverse_mass|\n",
      "+---------------+\n",
      "|25.692127      |\n",
      "|-1.0           |\n",
      "|19.70266       |\n",
      "|54.478092      |\n",
      "|3.6868792      |\n",
      "+---------------+\n",
      "only showing top 5 rows\n",
      "\n"
     ]
    }
   ],
   "source": [
    "q8 = df_events_q8.selectExpr(\"diLeptonMt(Muon, Electron, MET_pt, MET_phi) as transverse_mass\")\n",
    "\n",
    "q8.printSchema()\n",
    "q8.show(5, False)"
   ]
  },
  {
   "cell_type": "code",
   "execution_count": 6,
   "id": "57962cfc",
   "metadata": {},
   "outputs": [],
   "source": [
    "# compute the histogram of the transverse mass\n",
    "\n",
    "min_val = 0\n",
    "max_val = 200\n",
    "num_bins = 100\n",
    "step = (max_val - min_val) / num_bins\n",
    "\n",
    "histogram_data = ( \n",
    "    q8\n",
    "        .selectExpr(f\"width_bucket(transverse_mass, {min_val}, {max_val}, {num_bins}) as bucket\") \n",
    "        .groupBy(\"bucket\")\n",
    "        .count()\n",
    "        .orderBy(\"bucket\")\n",
    "    )\n",
    "\n",
    "# convert bucket number to the corresponding dimoun mass value\n",
    "histogram_data = histogram_data.selectExpr(f\"round({min_val} + (bucket - 1/2) * {step},2) as value\", \"count as N_events\")\n"
   ]
  },
  {
   "cell_type": "code",
   "execution_count": 7,
   "id": "6f9367e7",
   "metadata": {
    "scrolled": false
   },
   "outputs": [
    {
     "name": "stderr",
     "output_type": "stream",
     "text": [
      "                                                                                \r"
     ]
    },
    {
     "name": "stdout",
     "output_type": "stream",
     "text": [
      "CPU times: user 266 ms, sys: 42.2 ms, total: 308 ms\n",
      "Wall time: 21.9 s\n"
     ]
    }
   ],
   "source": [
    "%time histogram_data_pandas=histogram_data.toPandas()\n"
   ]
  },
  {
   "cell_type": "code",
   "execution_count": 8,
   "id": "3027a4c4",
   "metadata": {},
   "outputs": [
    {
     "data": {
      "image/png": "[encoded data removed]",
      "text/plain": [
       "<Figure size 1008x720 with 1 Axes>"
      ]
     },
     "metadata": {},
     "output_type": "display_data"
    }
   ],
   "source": [
    "import matplotlib.pyplot as plt \n",
    "plt.style.use('seaborn-darkgrid')\n",
    "plt.rcParams.update({'font.size': 20, 'figure.figsize': [14,10]})\n",
    "\n",
    "# cut the first and last bin\n",
    "x = histogram_data_pandas.iloc[1:-1][\"value\"]\n",
    "y = histogram_data_pandas.iloc[1:-1][\"N_events\"]\n",
    "\n",
    "# line plot\n",
    "f, ax = plt.subplots()\n",
    "ax.plot(x, y, '-')\n",
    "\n",
    "ax.set_xlabel('Transverse mass (GeV)')\n",
    "ax.set_ylabel('Number of Events')\n",
    "ax.set_title(\"Distribution of transverse mass\")\n",
    "ax.set_ylim([0,300000])\n",
    "\n",
    "plt.show()"
   ]
  },
  {
   "cell_type": "code",
   "execution_count": 9,
   "id": "fda93189",
   "metadata": {},
   "outputs": [],
   "source": [
    "spark.stop()"
   ]
  },
  {
   "cell_type": "code",
   "execution_count": null,
   "id": "f0acc1eb",
   "metadata": {},
   "outputs": [],
   "source": []
  }
 ],
 "metadata": {
  "kernelspec": {
   "display_name": "Python 3 (ipykernel)",
   "language": "python",
   "name": "python3"
  },
  "language_info": {
   "codemirror_mode": {
    "name": "ipython",
    "version": 3
   },
   "file_extension": ".py",
   "mimetype": "text/x-python",
   "name": "python",
   "nbconvert_exporter": "python",
   "pygments_lexer": "ipython3",
   "version": "3.9.7"
  }
 },
 "nbformat": 4,
 "nbformat_minor": 5
}
