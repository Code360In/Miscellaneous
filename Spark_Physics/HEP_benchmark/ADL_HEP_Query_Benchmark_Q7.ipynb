{
 "cells": [
  {
   "cell_type": "markdown",
   "id": "38491234",
   "metadata": {},
   "source": [
    "# HEP Benchmark Query Q7\n",
    "\n",
    "This follows the [IRIS-HEP benchmark](https://github.com/iris-hep/adl-benchmarks-index)\n",
    "and the article [Evaluating Query Languages and Systems for High-Energy Physics Data](https://arxiv.org/abs/2104.12615)\n",
    "and provides implementations of the benchmark tasks using Apache Spark.\n",
    "\n",
    "The workload and data:\n",
    "  - Benchmark jobs are implemented follwing [IRIS-HEP benchmark](https://github.com/iris-hep/adl-benchmarks-index)\n",
    "  - The input data is a series of events from CMS opendata\n",
    "  - The job output is typically a histogram \n",
    "  - See also https://github.com/LucaCanali/Miscellaneous/Spark_Physics\n",
    "\n",
    "Author and contact: Luca.Canali@cern.ch\n",
    "February, 2022\n"
   ]
  },
  {
   "cell_type": "code",
   "execution_count": null,
   "id": "b5a25fca",
   "metadata": {},
   "outputs": [],
   "source": [
    "# Start the Spark Session\n",
    "# This uses local mode for simplicity\n",
    "# The use of findspark is optional\n",
    "\n",
    "import findspark\n",
    "findspark.init(\"/home/luca/Spark/spark-3.2.1-bin-hadoop3.2\")\n",
    "\n",
    "from pyspark.sql import SparkSession\n",
    "spark = (SparkSession.builder\n",
    "         .appName(\"HEP benchmark\")\n",
    "         .master(\"local[4]\")\n",
    "         .config(\"spark.driver.memory\", \"4g\")\n",
    "         .config(\"spark.sql.orc.enableNestedColumnVectorizedReader\", \"true\")\n",
    "         .getOrCreate()\n",
    "        )\n"
   ]
  },
  {
   "cell_type": "code",
   "execution_count": 2,
   "id": "e00f87ee",
   "metadata": {
    "scrolled": true
   },
   "outputs": [
    {
     "name": "stdout",
     "output_type": "stream",
     "text": [
      "root\n",
      " |-- run: integer (nullable = true)\n",
      " |-- luminosityBlock: long (nullable = true)\n",
      " |-- event: long (nullable = true)\n",
      " |-- HLT_IsoMu24_eta2p1: boolean (nullable = true)\n",
      " |-- HLT_IsoMu24: boolean (nullable = true)\n",
      " |-- HLT_IsoMu17_eta2p1_LooseIsoPFTau20: boolean (nullable = true)\n",
      " |-- PV_npvs: integer (nullable = true)\n",
      " |-- PV_x: float (nullable = true)\n",
      " |-- PV_y: float (nullable = true)\n",
      " |-- PV_z: float (nullable = true)\n",
      " |-- nMuon: long (nullable = true)\n",
      " |-- Muon_pt: array (nullable = true)\n",
      " |    |-- element: float (containsNull = true)\n",
      " |-- Muon_eta: array (nullable = true)\n",
      " |    |-- element: float (containsNull = true)\n",
      " |-- Muon_phi: array (nullable = true)\n",
      " |    |-- element: float (containsNull = true)\n",
      " |-- Muon_mass: array (nullable = true)\n",
      " |    |-- element: float (containsNull = true)\n",
      " |-- Muon_charge: array (nullable = true)\n",
      " |    |-- element: integer (containsNull = true)\n",
      " |-- Muon_pfRelIso03_all: array (nullable = true)\n",
      " |    |-- element: float (containsNull = true)\n",
      " |-- Muon_pfRelIso04_all: array (nullable = true)\n",
      " |    |-- element: float (containsNull = true)\n",
      " |-- Muon_tightId: array (nullable = true)\n",
      " |    |-- element: boolean (containsNull = true)\n",
      " |-- Muon_softId: array (nullable = true)\n",
      " |    |-- element: boolean (containsNull = true)\n",
      " |-- Muon_dxy: array (nullable = true)\n",
      " |    |-- element: float (containsNull = true)\n",
      " |-- Muon_dxyErr: array (nullable = true)\n",
      " |    |-- element: float (containsNull = true)\n",
      " |-- Muon_dz: array (nullable = true)\n",
      " |    |-- element: float (containsNull = true)\n",
      " |-- Muon_dzErr: array (nullable = true)\n",
      " |    |-- element: float (containsNull = true)\n",
      " |-- Muon_jetIdx: array (nullable = true)\n",
      " |    |-- element: integer (containsNull = true)\n",
      " |-- Muon_genPartIdx: array (nullable = true)\n",
      " |    |-- element: integer (containsNull = true)\n",
      " |-- nElectron: long (nullable = true)\n",
      " |-- Electron_pt: array (nullable = true)\n",
      " |    |-- element: float (containsNull = true)\n",
      " |-- Electron_eta: array (nullable = true)\n",
      " |    |-- element: float (containsNull = true)\n",
      " |-- Electron_phi: array (nullable = true)\n",
      " |    |-- element: float (containsNull = true)\n",
      " |-- Electron_mass: array (nullable = true)\n",
      " |    |-- element: float (containsNull = true)\n",
      " |-- Electron_charge: array (nullable = true)\n",
      " |    |-- element: integer (containsNull = true)\n",
      " |-- Electron_pfRelIso03_all: array (nullable = true)\n",
      " |    |-- element: float (containsNull = true)\n",
      " |-- Electron_dxy: array (nullable = true)\n",
      " |    |-- element: float (containsNull = true)\n",
      " |-- Electron_dxyErr: array (nullable = true)\n",
      " |    |-- element: float (containsNull = true)\n",
      " |-- Electron_dz: array (nullable = true)\n",
      " |    |-- element: float (containsNull = true)\n",
      " |-- Electron_dzErr: array (nullable = true)\n",
      " |    |-- element: float (containsNull = true)\n",
      " |-- Electron_cutBasedId: array (nullable = true)\n",
      " |    |-- element: boolean (containsNull = true)\n",
      " |-- Electron_pfId: array (nullable = true)\n",
      " |    |-- element: boolean (containsNull = true)\n",
      " |-- Electron_jetIdx: array (nullable = true)\n",
      " |    |-- element: integer (containsNull = true)\n",
      " |-- Electron_genPartIdx: array (nullable = true)\n",
      " |    |-- element: integer (containsNull = true)\n",
      " |-- nTau: long (nullable = true)\n",
      " |-- Tau_pt: array (nullable = true)\n",
      " |    |-- element: float (containsNull = true)\n",
      " |-- Tau_eta: array (nullable = true)\n",
      " |    |-- element: float (containsNull = true)\n",
      " |-- Tau_phi: array (nullable = true)\n",
      " |    |-- element: float (containsNull = true)\n",
      " |-- Tau_mass: array (nullable = true)\n",
      " |    |-- element: float (containsNull = true)\n",
      " |-- Tau_charge: array (nullable = true)\n",
      " |    |-- element: integer (containsNull = true)\n",
      " |-- Tau_decayMode: array (nullable = true)\n",
      " |    |-- element: integer (containsNull = true)\n",
      " |-- Tau_relIso_all: array (nullable = true)\n",
      " |    |-- element: float (containsNull = true)\n",
      " |-- Tau_jetIdx: array (nullable = true)\n",
      " |    |-- element: integer (containsNull = true)\n",
      " |-- Tau_genPartIdx: array (nullable = true)\n",
      " |    |-- element: integer (containsNull = true)\n",
      " |-- Tau_idDecayMode: array (nullable = true)\n",
      " |    |-- element: boolean (containsNull = true)\n",
      " |-- Tau_idIsoRaw: array (nullable = true)\n",
      " |    |-- element: float (containsNull = true)\n",
      " |-- Tau_idIsoVLoose: array (nullable = true)\n",
      " |    |-- element: boolean (containsNull = true)\n",
      " |-- Tau_idIsoLoose: array (nullable = true)\n",
      " |    |-- element: boolean (containsNull = true)\n",
      " |-- Tau_idIsoMedium: array (nullable = true)\n",
      " |    |-- element: boolean (containsNull = true)\n",
      " |-- Tau_idIsoTight: array (nullable = true)\n",
      " |    |-- element: boolean (containsNull = true)\n",
      " |-- Tau_idAntiEleLoose: array (nullable = true)\n",
      " |    |-- element: boolean (containsNull = true)\n",
      " |-- Tau_idAntiEleMedium: array (nullable = true)\n",
      " |    |-- element: boolean (containsNull = true)\n",
      " |-- Tau_idAntiEleTight: array (nullable = true)\n",
      " |    |-- element: boolean (containsNull = true)\n",
      " |-- Tau_idAntiMuLoose: array (nullable = true)\n",
      " |    |-- element: boolean (containsNull = true)\n",
      " |-- Tau_idAntiMuMedium: array (nullable = true)\n",
      " |    |-- element: boolean (containsNull = true)\n",
      " |-- Tau_idAntiMuTight: array (nullable = true)\n",
      " |    |-- element: boolean (containsNull = true)\n",
      " |-- nPhoton: long (nullable = true)\n",
      " |-- Photon_pt: array (nullable = true)\n",
      " |    |-- element: float (containsNull = true)\n",
      " |-- Photon_eta: array (nullable = true)\n",
      " |    |-- element: float (containsNull = true)\n",
      " |-- Photon_phi: array (nullable = true)\n",
      " |    |-- element: float (containsNull = true)\n",
      " |-- Photon_mass: array (nullable = true)\n",
      " |    |-- element: float (containsNull = true)\n",
      " |-- Photon_charge: array (nullable = true)\n",
      " |    |-- element: integer (containsNull = true)\n",
      " |-- Photon_pfRelIso03_all: array (nullable = true)\n",
      " |    |-- element: float (containsNull = true)\n",
      " |-- Photon_jetIdx: array (nullable = true)\n",
      " |    |-- element: integer (containsNull = true)\n",
      " |-- Photon_genPartIdx: array (nullable = true)\n",
      " |    |-- element: integer (containsNull = true)\n",
      " |-- MET_pt: float (nullable = true)\n",
      " |-- MET_phi: float (nullable = true)\n",
      " |-- MET_sumet: float (nullable = true)\n",
      " |-- MET_significance: float (nullable = true)\n",
      " |-- MET_CovXX: float (nullable = true)\n",
      " |-- MET_CovXY: float (nullable = true)\n",
      " |-- MET_CovYY: float (nullable = true)\n",
      " |-- nJet: long (nullable = true)\n",
      " |-- Jet_pt: array (nullable = true)\n",
      " |    |-- element: float (containsNull = true)\n",
      " |-- Jet_eta: array (nullable = true)\n",
      " |    |-- element: float (containsNull = true)\n",
      " |-- Jet_phi: array (nullable = true)\n",
      " |    |-- element: float (containsNull = true)\n",
      " |-- Jet_mass: array (nullable = true)\n",
      " |    |-- element: float (containsNull = true)\n",
      " |-- Jet_puId: array (nullable = true)\n",
      " |    |-- element: boolean (containsNull = true)\n",
      " |-- Jet_btag: array (nullable = true)\n",
      " |    |-- element: float (containsNull = true)\n",
      "\n"
     ]
    },
    {
     "name": "stderr",
     "output_type": "stream",
     "text": [
      "[Stage 0:====================================>                   (79 + 4) / 121]\r"
     ]
    },
    {
     "name": "stdout",
     "output_type": "stream",
     "text": [
      "Number of events: 53446198\n"
     ]
    },
    {
     "name": "stderr",
     "output_type": "stream",
     "text": [
      "\r",
      "                                                                                \r"
     ]
    }
   ],
   "source": [
    "# Read data for the benchmark tasks\n",
    "# download data as detailed at https://github.com/LucaCanali/Miscellaneous/Spark_Physics\n",
    "\n",
    "path = \"/home/luca/HEP_benchmark/\"\n",
    "input_data = \"Run2012B_SingleMu.orc\"\n",
    "\n",
    "df_events = spark.read.orc(path + input_data)\n",
    "\n",
    "df_events.printSchema()\n",
    "\n",
    "print(f\"Number of events: {df_events.count()}\")"
   ]
  },
  {
   "cell_type": "markdown",
   "id": "e2ec6bb2",
   "metadata": {},
   "source": [
    "# Q7 - Solution 1/2: USe the explode function\n",
    "Plot the scalar sum in each event of the 𝑝𝑇 of the jets with\n",
    "$𝑝_𝑇$ > 30 GeV that are not within 0.4 in Δ𝑅 of any light\n",
    "lepton (i.e., electron or muon) with $𝑝_𝑇$ > 10 GeV.\n"
   ]
  },
  {
   "cell_type": "code",
   "execution_count": 3,
   "id": "09ce3174",
   "metadata": {},
   "outputs": [
    {
     "data": {
      "text/plain": [
       "'3.141592653589793'"
      ]
     },
     "execution_count": 3,
     "metadata": {},
     "output_type": "execute_result"
    }
   ],
   "source": [
    "import math\n",
    "pi = str(math.pi)\n",
    "pi"
   ]
  },
  {
   "cell_type": "code",
   "execution_count": 4,
   "id": "f5621780",
   "metadata": {},
   "outputs": [
    {
     "name": "stdout",
     "output_type": "stream",
     "text": [
      "root\n",
      " |-- event: long (nullable = true)\n",
      " |-- Jet: array (nullable = true)\n",
      " |    |-- element: struct (containsNull = false)\n",
      " |    |    |-- Jet_pt: float (nullable = true)\n",
      " |    |    |-- Jet_eta: float (nullable = true)\n",
      " |    |    |-- Jet_phi: float (nullable = true)\n",
      " |-- Electron: array (nullable = true)\n",
      " |    |-- element: struct (containsNull = false)\n",
      " |    |    |-- Electron_pt: float (nullable = true)\n",
      " |    |    |-- Electron_eta: float (nullable = true)\n",
      " |    |    |-- Electron_phi: float (nullable = true)\n",
      " |-- Muon: array (nullable = true)\n",
      " |    |-- element: struct (containsNull = false)\n",
      " |    |    |-- Muon_pt: float (nullable = true)\n",
      " |    |    |-- Muon_eta: float (nullable = true)\n",
      " |    |    |-- Muon_phi: float (nullable = true)\n",
      "\n"
     ]
    }
   ],
   "source": [
    "# Select and packs the components for\n",
    "# Jet_pt, which contains arrays of jet measurements\n",
    "# Electrons and Muons\n",
    "\n",
    "df_events_q7 = df_events.selectExpr(\"event\",\n",
    "                                    \"arrays_zip(Jet_pt, Jet_eta, Jet_phi) as Jet\",\n",
    "                                    \"arrays_zip(Electron_pt, Electron_eta, Electron_phi) as Electron\",\n",
    "                                    \"arrays_zip(Muon_pt, Muon_eta, Muon_phi) as Muon\")\n",
    "df_events_q7.printSchema()\n"
   ]
  },
  {
   "cell_type": "code",
   "execution_count": 5,
   "id": "7ba338af",
   "metadata": {},
   "outputs": [
    {
     "name": "stdout",
     "output_type": "stream",
     "text": [
      "+---------+------------------------------------+--------+--------------------------------------+\n",
      "|event    |j                                   |Electron|Muon                                  |\n",
      "+---------+------------------------------------+--------+--------------------------------------+\n",
      "|174546626|{28.03698, -2.573142, -0.0039507723}|[]      |[{41.292233, -0.61345077, 0.91725355}]|\n",
      "|174546626|{20.425129, -0.6191127, 2.44285}    |[]      |[{41.292233, -0.61345077, 0.91725355}]|\n",
      "|174546626|{18.646175, 2.5256636, 1.2553711}   |[]      |[{41.292233, -0.61345077, 0.91725355}]|\n",
      "|174546626|{17.995762, -3.8685246, 1.146259}   |[]      |[{41.292233, -0.61345077, 0.91725355}]|\n",
      "|174546626|{17.04349, -3.4595842, 2.2116172}   |[]      |[{41.292233, -0.61345077, 0.91725355}]|\n",
      "+---------+------------------------------------+--------+--------------------------------------+\n",
      "only showing top 5 rows\n",
      "\n"
     ]
    }
   ],
   "source": [
    "# Explode the Jet values (from array elements ot table rows)\n",
    "\n",
    "df_events_q7_w1 = df_events_q7.selectExpr(\"event\", \"explode(Jet) as j\", \"Electron\", \"Muon\")\n",
    "\n",
    "df_events_q7_w1.show(5, False)"
   ]
  },
  {
   "cell_type": "code",
   "execution_count": 6,
   "id": "dc70c614",
   "metadata": {},
   "outputs": [],
   "source": [
    "# This is not a real UDF, but just a string function that implements\n",
    "# the dimuon mass formula\n",
    "\n",
    "def DeltaR_macro(p0_eta: str, p0_phi: str, p1_eta: str, p1_phi: str) -> str:\n",
    "    result = f\"sqrt( pow( ({p0_eta} - {p1_eta}), 2) + pow( ({p0_phi} - {p1_phi} + {pi}) % (2 * {pi}) - {pi}, 2) )\"\n",
    "    return result"
   ]
  },
  {
   "cell_type": "code",
   "execution_count": 7,
   "id": "8256f43b",
   "metadata": {},
   "outputs": [
    {
     "data": {
      "text/plain": [
       "'sqrt( pow( (j.Jet_eta - j.Jet_phi), 2) + pow( (e.Electron_eta - e.Electron_phi + 3.141592653589793) % (2 * 3.141592653589793) - 3.141592653589793, 2) )'"
      ]
     },
     "execution_count": 7,
     "metadata": {},
     "output_type": "execute_result"
    }
   ],
   "source": [
    "# example of use:\n",
    "\n",
    "f\"{DeltaR_macro('j.Jet_eta', 'e.Electron_eta', 'j.Jet_phi', 'e.Electron_phi')}\""
   ]
  },
  {
   "cell_type": "code",
   "execution_count": 8,
   "id": "44729569",
   "metadata": {},
   "outputs": [],
   "source": [
    "# Filter the events\n",
    "# - only Jets with pt > 30 GeV\n",
    "#  not in .4 in Δ𝑅 of any light lepton (i.e., electron or muon)\n",
    "# additional filter on leptons: 𝑝𝑇 > 10 GeV\n",
    "\n",
    "df_events_q7_w2 = df_events_q7_w1.filter(f\"\"\"\n",
    "j.Jet_pt > 30\n",
    "and not exists( Electron, e -> e.Electron_pt > 10\n",
    "                and {DeltaR_macro('j.Jet_eta', 'e.Electron_eta', 'j.Jet_phi', 'e.Electron_phi')} < 0.4\n",
    "              )                    \n",
    "and not exists( Muon, mu -> mu.Muon_pt > 10\n",
    "                and {DeltaR_macro('j.Jet_eta', 'mu.Muon_eta', 'j.Jet_phi', 'mu.Muon_phi')} < 0.4\n",
    "              )\n",
    "\"\"\")"
   ]
  },
  {
   "cell_type": "code",
   "execution_count": 9,
   "id": "f75cf033",
   "metadata": {},
   "outputs": [],
   "source": [
    "# Compute the sum of Jet_pt per event\n",
    "\n",
    "from pyspark.sql.functions import sum\n",
    "\n",
    "q7 = df_events_q7_w2.groupBy(\"event\").agg(sum(\"j.Jet_pt\").alias(\"summed_jet_pt\"))\n"
   ]
  },
  {
   "cell_type": "code",
   "execution_count": 10,
   "id": "47a4de6e",
   "metadata": {},
   "outputs": [],
   "source": [
    "# Compute the histogram of Jet_pt\n",
    "# The Spark function \"width_bucket\" is used to generate the histogram bucket number\n",
    "# a groupBy operation with count is used to fill the histogram\n",
    "# The result is a histogram with bins value and counts foreach bin (N_events)\n",
    "\n",
    "min_val = 15\n",
    "max_val = 200\n",
    "num_bins = 100\n",
    "step = (max_val - min_val) / num_bins\n",
    "\n",
    "histogram_data = ( \n",
    "    q7\n",
    "        .selectExpr(f\"width_bucket(summed_jet_pt, {min_val}, {max_val}, {num_bins}) as bucket\") \n",
    "        .groupBy(\"bucket\")\n",
    "        .count()\n",
    "        .orderBy(\"bucket\")\n",
    "    )\n",
    "\n",
    "# convert bucket number to the corresponding dimoun mass value\n",
    "histogram_data = histogram_data.selectExpr(f\"round({min_val} + (bucket - 1) * {step},2) as value\", \"count as N_events\")\n"
   ]
  },
  {
   "cell_type": "code",
   "execution_count": 11,
   "id": "a6d6d8ab",
   "metadata": {},
   "outputs": [
    {
     "name": "stderr",
     "output_type": "stream",
     "text": [
      "22/03/03 10:22:18 WARN RowBasedKeyValueBatch: Calling spill() on RowBasedKeyValueBatch. Will not spill but return 0.\n",
      "22/03/03 10:22:19 WARN RowBasedKeyValueBatch: Calling spill() on RowBasedKeyValueBatch. Will not spill but return 0.\n",
      "22/03/03 10:22:19 WARN RowBasedKeyValueBatch: Calling spill() on RowBasedKeyValueBatch. Will not spill but return 0.\n",
      "22/03/03 10:22:19 WARN RowBasedKeyValueBatch: Calling spill() on RowBasedKeyValueBatch. Will not spill but return 0.\n",
      "                                                                                \r"
     ]
    },
    {
     "name": "stdout",
     "output_type": "stream",
     "text": [
      "CPU times: user 286 ms, sys: 45.3 ms, total: 331 ms\n",
      "Wall time: 45.4 s\n"
     ]
    }
   ],
   "source": [
    "# The action toPandas() here triggers the computation.\n",
    "# Histogram data is fetched into the driver as a Pandas Dataframe.\n",
    "\n",
    "%time histogram_data_pandas=histogram_data.toPandas()\n"
   ]
  },
  {
   "cell_type": "code",
   "execution_count": 12,
   "id": "2764f680",
   "metadata": {},
   "outputs": [
    {
     "data": {
      "image/png": "[encoded data removed]",
      "text/plain": [
       "<Figure size 1008x720 with 1 Axes>"
      ]
     },
     "metadata": {},
     "output_type": "display_data"
    }
   ],
   "source": [
    "import matplotlib.pyplot as plt \n",
    "plt.style.use('seaborn-darkgrid')\n",
    "plt.rcParams.update({'font.size': 20, 'figure.figsize': [14,10]})\n",
    "\n",
    "# cut the first and last bin\n",
    "x = histogram_data_pandas.iloc[1:-1][\"value\"]\n",
    "y = histogram_data_pandas.iloc[1:-1][\"N_events\"]\n",
    "\n",
    "# line plot\n",
    "f, ax = plt.subplots()\n",
    "ax.plot(x, y, '-')\n",
    "\n",
    "ax.set_xlabel('Jet_$p_T$ (GeV)')\n",
    "ax.set_ylabel('Number of Events')\n",
    "ax.set_title(\"Distribution of Sum Jet_$p_T$ \")\n",
    "\n",
    "plt.show()"
   ]
  },
  {
   "cell_type": "code",
   "execution_count": null,
   "id": "6d450bf2",
   "metadata": {},
   "outputs": [],
   "source": []
  },
  {
   "cell_type": "markdown",
   "id": "e48048b8",
   "metadata": {},
   "source": [
    "# Q7 - Solution 2: Use Spark higher order functions for array processing\n",
    "Plot the scalar sum in each event of the 𝑝𝑇 of the jets with\n",
    "$𝑝_𝑇$ > 30 GeV that are not within 0.4 in Δ𝑅 of any light\n",
    "lepton (i.e., electron or muon) with $𝑝_𝑇$ > 10 GeV.\n"
   ]
  },
  {
   "cell_type": "code",
   "execution_count": 13,
   "id": "99ba3190",
   "metadata": {},
   "outputs": [
    {
     "name": "stdout",
     "output_type": "stream",
     "text": [
      "root\n",
      " |-- event: long (nullable = true)\n",
      " |-- Jet: array (nullable = true)\n",
      " |    |-- element: struct (containsNull = false)\n",
      " |    |    |-- Jet_pt: float (nullable = true)\n",
      " |    |    |-- Jet_eta: float (nullable = true)\n",
      " |    |    |-- Jet_phi: float (nullable = true)\n",
      " |-- Electron: array (nullable = true)\n",
      " |    |-- element: struct (containsNull = false)\n",
      " |    |    |-- Electron_pt: float (nullable = true)\n",
      " |    |    |-- Electron_eta: float (nullable = true)\n",
      " |    |    |-- Electron_phi: float (nullable = true)\n",
      " |-- Muon: array (nullable = true)\n",
      " |    |-- element: struct (containsNull = false)\n",
      " |    |    |-- Muon_pt: float (nullable = true)\n",
      " |    |    |-- Muon_eta: float (nullable = true)\n",
      " |    |    |-- Muon_phi: float (nullable = true)\n",
      "\n"
     ]
    }
   ],
   "source": [
    "# Select and packs the components for\n",
    "# Jet_pt, which contains arrays of jet measurements\n",
    "# Electrons and Muons\n",
    "\n",
    "df_events_q7 = df_events.selectExpr(\"event\",\n",
    "                                    \"arrays_zip(Jet_pt, Jet_eta, Jet_phi) as Jet\",\n",
    "                                    \"arrays_zip(Electron_pt, Electron_eta, Electron_phi) as Electron\",\n",
    "                                    \"arrays_zip(Muon_pt, Muon_eta, Muon_phi) as Muon\")\n",
    "df_events_q7.printSchema()\n",
    "#df_events_q7.show(10, False)"
   ]
  },
  {
   "cell_type": "code",
   "execution_count": 14,
   "id": "a2328504",
   "metadata": {},
   "outputs": [],
   "source": [
    "# This is not a real UDF, but just a string function that implements\n",
    "# the dimuon mass formula\n",
    "\n",
    "def DeltaR_macro(p0_eta: str, p0_phi: str, p1_eta: str, p1_phi: str) -> str:\n",
    "    result = f\"sqrt( pow( ({p0_eta} - {p1_eta}), 2) + pow( ({p0_phi} - {p1_phi} + {pi}) % (2 * {pi}) - {pi}, 2) )\"\n",
    "    return result"
   ]
  },
  {
   "cell_type": "code",
   "execution_count": 15,
   "id": "219ea36f",
   "metadata": {},
   "outputs": [],
   "source": [
    "# Filter the events\n",
    "# - only Jets with pt > 30 GeV\n",
    "#  not in .4 in Δ𝑅 of any light lepton (i.e., electron or muon)\n",
    "# additional filter on leptons: 𝑝𝑇 > 10 GeV\n",
    "\n",
    "q7_filtered = df_events_q7.selectExpr(\"event\", f\"\"\"\n",
    "filter(Jet, j -> j.Jet_pt > 30\n",
    "       and not exists( Electron, e -> e.Electron_pt > 10\n",
    "                       and {DeltaR_macro('j.Jet_eta', 'e.Electron_eta', 'j.Jet_phi', 'e.Electron_phi')} < 0.4\n",
    "                     )\n",
    "       and not exists( Muon, mu -> mu.Muon_pt > 10\n",
    "                       and {DeltaR_macro('j.Jet_eta', 'mu.Muon_eta', 'j.Jet_phi', 'mu.Muon_phi')} < 0.4\n",
    "                     )\n",
    ") Jet_Filtered\n",
    "\"\"\")"
   ]
  },
  {
   "cell_type": "code",
   "execution_count": 16,
   "id": "bd0dc24c",
   "metadata": {},
   "outputs": [
    {
     "name": "stdout",
     "output_type": "stream",
     "text": [
      "root\n",
      " |-- event: long (nullable = true)\n",
      " |-- summed_jet_pt: float (nullable = true)\n",
      "\n",
      "+---------+-------------+\n",
      "|event    |summed_jet_pt|\n",
      "+---------+-------------+\n",
      "|174634270|44.719715    |\n",
      "|174663998|69.16882     |\n",
      "|174711732|218.39832    |\n",
      "|174768173|30.949333    |\n",
      "|174913239|205.90196    |\n",
      "+---------+-------------+\n",
      "only showing top 5 rows\n",
      "\n"
     ]
    }
   ],
   "source": [
    "# Compute the sum of Jet_pt \n",
    "# This uses Spark's higher order function for array processing\n",
    "# The sum is pushed as a reduce operation into Jet_pt arrays\n",
    "\n",
    "q7 = q7_filtered.selectExpr(\"event\", \"aggregate(Jet_Filtered.Jet_pt, 0.0f, (acc, j) -> acc + j) as summed_jet_pt\").filter(\"summed_jet_pt>0.0\")\n",
    "\n",
    "q7.printSchema()\n",
    "q7.show(5, False)"
   ]
  },
  {
   "cell_type": "code",
   "execution_count": 17,
   "id": "530f625a",
   "metadata": {},
   "outputs": [],
   "source": [
    "# Compute the histogram of Jet_pt\n",
    "# The Spark function \"width_bucket\" is used to generate the histogram bucket number\n",
    "# a groupBy operation with count is used to fill the histogram\n",
    "# The result is a histogram with bins value and counts foreach bin (N_events)\n",
    "\n",
    "min_val = 15\n",
    "max_val = 200\n",
    "num_bins = 100\n",
    "step = (max_val - min_val) / num_bins\n",
    "\n",
    "histogram_data = ( \n",
    "    q7\n",
    "        .selectExpr(f\"width_bucket(summed_jet_pt, {min_val}, {max_val}, {num_bins}) as bucket\") \n",
    "        .groupBy(\"bucket\")\n",
    "        .count()\n",
    "        .orderBy(\"bucket\")\n",
    "    )\n",
    "\n",
    "# convert bucket number to the corresponding dimoun mass value\n",
    "histogram_data = histogram_data.selectExpr(f\"round({min_val} + (bucket - 1) * {step},2) as value\", \"count as N_events\")\n"
   ]
  },
  {
   "cell_type": "code",
   "execution_count": 18,
   "id": "f268ba7c",
   "metadata": {},
   "outputs": [
    {
     "name": "stderr",
     "output_type": "stream",
     "text": [
      "[Stage 18:=====================================================>(119 + 2) / 121]\r"
     ]
    },
    {
     "name": "stdout",
     "output_type": "stream",
     "text": [
      "CPU times: user 124 ms, sys: 20 ms, total: 145 ms\n",
      "Wall time: 2min 17s\n"
     ]
    },
    {
     "name": "stderr",
     "output_type": "stream",
     "text": [
      "\r",
      "                                                                                \r"
     ]
    }
   ],
   "source": [
    "# The action toPandas() here triggers the computation.\n",
    "# Histogram data is fetched into the driver as a Pandas Dataframe.\n",
    "\n",
    "%time histogram_data_pandas=histogram_data.toPandas()\n"
   ]
  },
  {
   "cell_type": "code",
   "execution_count": 19,
   "id": "3d8750cd",
   "metadata": {},
   "outputs": [
    {
     "data": {
      "image/png": "[encoded data removed]",
      "text/plain": [
       "<Figure size 1008x720 with 1 Axes>"
      ]
     },
     "metadata": {},
     "output_type": "display_data"
    }
   ],
   "source": [
    "import matplotlib.pyplot as plt \n",
    "plt.style.use('seaborn-darkgrid')\n",
    "plt.rcParams.update({'font.size': 20, 'figure.figsize': [14,10]})\n",
    "\n",
    "# cut the first and last bin\n",
    "x = histogram_data_pandas.iloc[1:-1][\"value\"]\n",
    "y = histogram_data_pandas.iloc[1:-1][\"N_events\"]\n",
    "\n",
    "# line plot\n",
    "f, ax = plt.subplots()\n",
    "ax.plot(x, y, '-')\n",
    "\n",
    "ax.set_xlabel('Jet_$p_T$ (GeV)')\n",
    "ax.set_ylabel('Number of Events')\n",
    "ax.set_title(\"Distribution of Sum Jet_$p_T$ \")\n",
    "\n",
    "plt.show()"
   ]
  },
  {
   "cell_type": "code",
   "execution_count": 20,
   "id": "d04bbda1",
   "metadata": {},
   "outputs": [],
   "source": [
    "spark.stop()"
   ]
  },
  {
   "cell_type": "code",
   "execution_count": null,
   "id": "c5a44a39",
   "metadata": {},
   "outputs": [],
   "source": []
  }
 ],
 "metadata": {
  "kernelspec": {
   "display_name": "Python 3 (ipykernel)",
   "language": "python",
   "name": "python3"
  },
  "language_info": {
   "codemirror_mode": {
    "name": "ipython",
    "version": 3
   },
   "file_extension": ".py",
   "mimetype": "text/x-python",
   "name": "python",
   "nbconvert_exporter": "python",
   "pygments_lexer": "ipython3",
   "version": "3.9.7"
  }
 },
 "nbformat": 4,
 "nbformat_minor": 5
}
