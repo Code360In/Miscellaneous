{
 "cells": [
  {
   "cell_type": "markdown",
   "id": "c97f8c4d",
   "metadata": {},
   "source": [
    "# Histogram of the Dimuon Mass Spectrum\n",
    "\n",
    "This computes a \"Hello World\" of particle physics analysys and is intended as a technology demonstrator.  \n",
    "The input is a series of candidate muon events and the output of the job is a histogram of the dimuon mass spectrum where several peaks can be identified corresponding to well-know particles and resonances.  \n",
    "\n",
    "Implementation: this is implemented with PySpark 3.3-SNAPSHOT, showcasing the newly introduced mapInPandas, with Python libraries: awkward array and vector.\n",
    "\n",
    "References: the computation is based on https://root.cern.ch/doc/master/df102__NanoAODDimuonAnalysis_8C.html and CERN open data from the CMS collaboraiton linked there. For reference, another and different version of this computation using Spark for scaling is at https://swan-gallery.web.cern.ch/notebooks/apache_spark1/NanoAODDimuonAnalysis-PyRDF-Spark.html\n",
    "\n",
    "Luca Canali in collaboration with Jim Pivarski\n",
    "January 2022"
   ]
  },
  {
   "cell_type": "markdown",
   "id": "753dee5d",
   "metadata": {},
   "source": [
    "## Dataset preparation\n",
    "This steps takes the CERN openadata dataset and prepares it.  \n",
    "The preparation is a conversion from the ROOT data format (a data format used in High Energy Physics) to Apache Parquet.  \n",
    "This is done using Laurelin, an open source library. Laurelin at the time of this writing could only work with Spark 2.x  "
   ]
  },
  {
   "cell_type": "markdown",
   "id": "daf5fc9b",
   "metadata": {},
   "source": [
    "```\n",
    "# Use laurelin to convert root to parquet format\n",
    "# laurelin 1.1.1 does not work with Spark 3.x, we will use Spark 2.4\n",
    "# Note Spark 2.4.8 does not work with Python 3.8, use earlier Python versions for this part\n",
    "\n",
    "# I have use spark-shell to run the conversion, it can be done with pyspark too.\n",
    "\n",
    "bin/spark-shell --master local[*] --packages edu.vanderbilt.accre:laurelin:1.1.1 --driver-memory 16g\n",
    "\n",
    "// The input is a file in ROOT format, download it from CERN opedata:\n",
    "// https://eospublic.cern.ch//eos/opendata/cms/derived-data/AOD2NanoAODOutreachTool/Run2012BC_DoubleMuParked_Muons.root\n",
    "\n",
    "val df=spark.read.format(\"root\").option(\"tree\", \"Events\").load(\"/home/luca/DoubleMuParked/Run2012BC_DoubleMuParked_Muons.root\")\n",
    "\n",
    "// compact to 1 file and write\n",
    "df.coalesce(1).write.mode(\"overwrite\").parquet(\"/home/luca/DoubleMuParked/Run2012BC_DoubleMuParked_Muons.parquet\")\n",
    "\n",
    "```"
   ]
  },
  {
   "cell_type": "markdown",
   "id": "22d54a3d",
   "metadata": {},
   "source": [
    "## Dimuon mass spectrum calculation"
   ]
  },
  {
   "cell_type": "code",
   "execution_count": 1,
   "id": "bee0e073",
   "metadata": {},
   "outputs": [
    {
     "name": "stderr",
     "output_type": "stream",
     "text": [
      "Setting default log level to \"WARN\".\n",
      "To adjust logging level use sc.setLogLevel(newLevel). For SparkR, use setLogLevel(newLevel).\n"
     ]
    },
    {
     "name": "stdout",
     "output_type": "stream",
     "text": [
      "22/01/28 16:24:24 WARN NativeCodeLoader: Unable to load native-hadoop library for your platform... using builtin-java classes where applicable\n",
      "22/01/28 16:24:25 WARN Utils: Service 'SparkUI' could not bind on port 4040. Attempting port 4041.\n"
     ]
    }
   ],
   "source": [
    "import findspark\n",
    "findspark.init(\"/home/luca/Spark/spark-3.3.0-SNAPSHOT-bin-spark_21220128\")\n",
    "\n",
    "# custom Python if needed\n",
    "#import os\n",
    "#os.environ['PYSPARK_PYTHON']=\"....\"\n",
    "\n",
    "from pyspark.sql import SparkSession\n",
    "spark = SparkSession.builder \\\n",
    "        .appName(\"dimuon mass\")  \\\n",
    "        .master(\"local[4]\") \\\n",
    "        .config(\"spark.driver.memory\", \"2g\") \\\n",
    "        .getOrCreate()"
   ]
  },
  {
   "cell_type": "code",
   "execution_count": 2,
   "id": "ab108ade",
   "metadata": {},
   "outputs": [
    {
     "name": "stderr",
     "output_type": "stream",
     "text": [
      "\r",
      "[Stage 0:>                                                          (0 + 1) / 1]\r",
      "\r",
      "                                                                                \r"
     ]
    },
    {
     "name": "stdout",
     "output_type": "stream",
     "text": [
      "root\n",
      " |-- nMuon: long (nullable = true)\n",
      " |-- Muon_pt: array (nullable = true)\n",
      " |    |-- element: float (containsNull = true)\n",
      " |-- Muon_eta: array (nullable = true)\n",
      " |    |-- element: float (containsNull = true)\n",
      " |-- Muon_phi: array (nullable = true)\n",
      " |    |-- element: float (containsNull = true)\n",
      " |-- Muon_mass: array (nullable = true)\n",
      " |    |-- element: float (containsNull = true)\n",
      " |-- Muon_charge: array (nullable = true)\n",
      " |    |-- element: integer (containsNull = true)\n",
      "\n",
      "Number of events: 61540413\n"
     ]
    }
   ],
   "source": [
    "# Read data with the muon candidate events\n",
    "\n",
    "path = \"/home/luca/DoubleMuParked/\"\n",
    "\n",
    "df_muons = spark.read.parquet(path + \"Run2012BC_DoubleMuParked_Muons.parquet\")\n",
    "\n",
    "df_muons.printSchema()\n",
    "\n",
    "print(f\"Number of events: {df_muons.count()}\")"
   ]
  },
  {
   "cell_type": "code",
   "execution_count": 3,
   "id": "72aaece0",
   "metadata": {},
   "outputs": [
    {
     "name": "stderr",
     "output_type": "stream",
     "text": [
      "[Stage 4:=================================================>       (13 + 2) / 15]\r"
     ]
    },
    {
     "name": "stdout",
     "output_type": "stream",
     "text": [
      "Number of events after filter selection: 24067843\n"
     ]
    },
    {
     "name": "stderr",
     "output_type": "stream",
     "text": [
      "\r",
      "[Stage 4:=====================================================>   (14 + 1) / 15]\r",
      "\r",
      "                                                                                \r"
     ]
    }
   ],
   "source": [
    "# Apply the filters to select:\n",
    "#    events with 2 muons\n",
    "#    the 2 muons have different charge\n",
    "\n",
    "df_muons = df_muons.filter(\"nMuon==2\").filter(\"Muon_charge[0] != Muon_charge[1]\")\n",
    "\n",
    "# add the column Dimuon_mass to the DataFrame\n",
    "# it will be used as output column, to work around the limitation that \n",
    "# mapInArrow needs to have the same input and output schema.\n",
    "df_muons = df_muons.selectExpr(\"Muon_pt\", \"Muon_eta\",\"Muon_phi\", \"Muon_mass\", \"float(0.0) as Dimuon_mass\")\n",
    "\n",
    "print(f\"Number of events after filter selection: {df_muons.count()}\")"
   ]
  },
  {
   "cell_type": "code",
   "execution_count": 4,
   "id": "dfe62b49",
   "metadata": {},
   "outputs": [
    {
     "name": "stdout",
     "output_type": "stream",
     "text": [
      "+----------------------+-------------------------+------------------------+------------------------+-----------+\n",
      "|Muon_pt               |Muon_eta                 |Muon_phi                |Muon_mass               |Dimuon_mass|\n",
      "+----------------------+-------------------------+------------------------+------------------------+-----------+\n",
      "|[10.53849, 16.327097] |[-0.42778006, 0.34922507]|[-0.2747921, 2.5397813] |[0.10565837, 0.10565837]|0.0        |\n",
      "|[57.6067, 53.04508]   |[-0.5320893, -1.0041686] |[-0.07179804, 3.0895152]|[0.10565837, 0.10565837]|0.0        |\n",
      "|[11.319675, 23.906353]|[-0.77165854, -0.700997] |[-2.2452729, -2.1809616]|[0.10565837, 0.10565837]|0.0        |\n",
      "|[10.193569, 14.204061]|[0.44180685, 0.70211726] |[0.67785203, -2.034401] |[0.10565837, 0.10565837]|0.0        |\n",
      "|[11.470704, 3.4690065]|[2.341742, 2.3523731]    |[3.1309705, 3.0211737]  |[0.10565837, 0.10565837]|0.0        |\n",
      "+----------------------+-------------------------+------------------------+------------------------+-----------+\n",
      "only showing top 5 rows\n",
      "\n"
     ]
    }
   ],
   "source": [
    "df_muons.show(5, False)"
   ]
  },
  {
   "cell_type": "code",
   "execution_count": 5,
   "id": "de92225e",
   "metadata": {},
   "outputs": [],
   "source": [
    "import awkward as ak\n",
    "import vector\n",
    "\n",
    "# This is where the dimuon mass is computed\n",
    "# the candidate muon events and summed as 4-vectors in the Pt, eta, phi, m space\n",
    "# and the invarian mass is computed\n",
    "# we use awkward arrray and vector libraries, serializing directly with arrow\n",
    "def UDF_dimuonmass(iterator):\n",
    "    vector.register_awkward()\n",
    "    for batch in iterator:\n",
    "        chunk = ak.from_arrow(batch)\n",
    "        muons = ak.zip({\"pt\": chunk.Muon_pt, \"eta\": chunk.Muon_eta, \"phi\": chunk.Muon_phi, \"mass\": chunk.Muon_mass}, with_name=\"Momentum4D\")\n",
    "        mu0 = muons[:, 0]\n",
    "        mu1 = muons[:, 1]\n",
    "        dimuon_mass = (mu0 + mu1).mass\n",
    "        out = ak.zip({\"Muon_pt\": chunk.Muon_pt, \"Muon_eta\": chunk.Muon_eta, \"Muon_phi\": chunk.Muon_phi, \"Muon_mass\": chunk.Muon_mass, \"Dimuon_mass\": dimuon_mass }, depth_limit=1)\n",
    "        # out = ak.zip({\"Muon_pt\": None, \"Muon_eta\": None, \"Muon_phi\": None, \"Muon_mass\": None, \"Dimoun_mass\": dimuon_mass }, depth_limit=1)\n",
    "        yield from ak.to_arrow_table(out).to_batches()"
   ]
  },
  {
   "cell_type": "code",
   "execution_count": 6,
   "id": "0c58d2e1",
   "metadata": {},
   "outputs": [],
   "source": [
    "# apply the UDF with arrow to compute the dimuon mass spectrum\n",
    "\n",
    "df_with_dimuonmass = df_muons.mapInArrow(UDF_dimuonmass, df_muons.schema)"
   ]
  },
  {
   "cell_type": "code",
   "execution_count": 7,
   "id": "f6fb8048",
   "metadata": {},
   "outputs": [
    {
     "name": "stderr",
     "output_type": "stream",
     "text": [
      "\r",
      "[Stage 8:>                                                          (0 + 1) / 1]\r"
     ]
    },
    {
     "name": "stdout",
     "output_type": "stream",
     "text": [
      "+----------------------+-------------------------+------------------------+------------------------+-----------+\n",
      "|Muon_pt               |Muon_eta                 |Muon_phi                |Muon_mass               |Dimuon_mass|\n",
      "+----------------------+-------------------------+------------------------+------------------------+-----------+\n",
      "|[10.53849, 16.327097] |[-0.42778006, 0.34922507]|[-0.2747921, 2.5397813] |[0.10565837, 0.10565837]|27.915491  |\n",
      "|[57.6067, 53.04508]   |[-0.5320893, -1.0041686] |[-0.07179804, 3.0895152]|[0.10565837, 0.10565837]|113.645424 |\n",
      "|[11.319675, 23.906353]|[-0.77165854, -0.700997] |[-2.2452729, -2.1809616]|[0.10565837, 0.10565837]|1.5878798  |\n",
      "|[10.193569, 14.204061]|[0.44180685, 0.70211726] |[0.67785203, -2.034401] |[0.10565837, 0.10565837]|23.723238  |\n",
      "|[11.470704, 3.4690065]|[2.341742, 2.3523731]    |[3.1309705, 3.0211737]  |[0.10565837, 0.10565837]|0.75032544 |\n",
      "+----------------------+-------------------------+------------------------+------------------------+-----------+\n",
      "only showing top 5 rows\n",
      "\n"
     ]
    },
    {
     "name": "stderr",
     "output_type": "stream",
     "text": [
      "\r",
      "                                                                                \r"
     ]
    }
   ],
   "source": [
    "# small sample of the computation\n",
    "df_with_dimuonmass.show(5, False)\n"
   ]
  },
  {
   "cell_type": "code",
   "execution_count": 8,
   "id": "cea0616b",
   "metadata": {},
   "outputs": [],
   "source": [
    "# compute the histogram\n",
    "\n",
    "min_val = 0.40\n",
    "max_val = 200\n",
    "num_bins = 30000\n",
    "step = (max_val - min_val) / num_bins\n",
    "\n",
    "histogram_data = ( \n",
    "    df_with_dimuonmass\n",
    "        .where(f\"Dimuon_mass between {min_val} and {max_val}\")\n",
    "        .selectExpr(f\"width_bucket(Dimuon_mass, {min_val}, {max_val}, {num_bins}) as bucket\") \n",
    "        .groupBy(\"bucket\")\n",
    "        .count()\n",
    "        .orderBy(\"bucket\")\n",
    "    )\n",
    "\n",
    "# convert bucket number to the corresponding dimoun mass value\n",
    "histogram_data = histogram_data.selectExpr(f\"round({min_val} + (bucket - 1) * {step},2) as value\", \"count as N_events\")\n"
   ]
  },
  {
   "cell_type": "code",
   "execution_count": 9,
   "id": "1467e316",
   "metadata": {},
   "outputs": [
    {
     "name": "stderr",
     "output_type": "stream",
     "text": [
      "                                                                                \r"
     ]
    },
    {
     "name": "stdout",
     "output_type": "stream",
     "text": [
      "CPU times: user 159 ms, sys: 10.6 ms, total: 170 ms\n",
      "Wall time: 1min 27s\n"
     ]
    }
   ],
   "source": [
    "%%time\n",
    "\n",
    "# The action toPandas() here triggers the computation.\n",
    "# Histogram data is fetched into the driver.\n",
    "\n",
    "histogram_data_pandas=histogram_data.toPandas()"
   ]
  },
  {
   "cell_type": "code",
   "execution_count": 10,
   "id": "d3efe373",
   "metadata": {},
   "outputs": [
    {
     "data": {
      "text/plain": [
       "value       29772\n",
       "N_events    29772\n",
       "dtype: int64"
      ]
     },
     "execution_count": 10,
     "metadata": {},
     "output_type": "execute_result"
    }
   ],
   "source": [
    "histogram_data_pandas.count()"
   ]
  },
  {
   "cell_type": "markdown",
   "id": "924a7912",
   "metadata": {},
   "source": [
    "## Histogram plotting\n",
    "Histogram of the dimuon mass spectrum where several peaks can be identified corresponding to well-know particles and resonances"
   ]
  },
  {
   "cell_type": "code",
   "execution_count": 11,
   "id": "994856ef",
   "metadata": {
    "scrolled": false
   },
   "outputs": [
    {
     "data": {
      "image/png": "[encoded data removed]",
      "text/plain": [
       "<Figure size 1152x720 with 1 Axes>"
      ]
     },
     "metadata": {},
     "output_type": "display_data"
    }
   ],
   "source": [
    "# %matplotlib notebook\n",
    "import matplotlib.pyplot as plt \n",
    "plt.style.use('seaborn-darkgrid')\n",
    "plt.rcParams.update({'font.size': 20, 'figure.figsize': [16,10]})\n",
    "\n",
    "# histogram_data_pandas is a pandas dataframe containing the bins value and counts foreach bin\n",
    "# the plot is in log-log axis to better show the peaks\n",
    "ax = histogram_data_pandas.plot(x='value', y='N_events', kind='line', label='$N_{events}$', loglog=True,\n",
    "                                alpha=0.6, linewidth=2.0)\n",
    "\n",
    "ax.set_xlabel('$m_{dimuon}$')\n",
    "ax.set_ylabel('Number of Events')\n",
    "ax.set_title(\"Distribution of the Dimuon Mass Spectrum\")\n",
    "\n",
    "plt.show()"
   ]
  },
  {
   "cell_type": "code",
   "execution_count": null,
   "id": "5c6179a8",
   "metadata": {},
   "outputs": [],
   "source": []
  }
 ],
 "metadata": {
  "kernelspec": {
   "display_name": "Python 3 (ipykernel)",
   "language": "python",
   "name": "python3"
  },
  "language_info": {
   "codemirror_mode": {
    "name": "ipython",
    "version": 3
   },
   "file_extension": ".py",
   "mimetype": "text/x-python",
   "name": "python",
   "nbconvert_exporter": "python",
   "pygments_lexer": "ipython3",
   "version": "3.9.7"
  }
 },
 "nbformat": 4,
 "nbformat_minor": 5
}
