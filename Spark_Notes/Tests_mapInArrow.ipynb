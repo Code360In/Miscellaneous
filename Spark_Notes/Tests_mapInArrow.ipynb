{
 "cells": [
  {
   "cell_type": "markdown",
   "id": "9c72076c",
   "metadata": {},
   "source": [
    "# Tests of PySpark UDF with mapInArrow vs. mapInPandas"
   ]
  },
  {
   "cell_type": "code",
   "execution_count": 1,
   "id": "57985ab1",
   "metadata": {},
   "outputs": [
    {
     "name": "stderr",
     "output_type": "stream",
     "text": [
      "Setting default log level to \"WARN\".\n",
      "To adjust logging level use sc.setLogLevel(newLevel). For SparkR, use setLogLevel(newLevel).\n"
     ]
    },
    {
     "name": "stdout",
     "output_type": "stream",
     "text": [
      "22/01/31 21:11:05 WARN NativeCodeLoader: Unable to load native-hadoop library for your platform... using builtin-java classes where applicable\n"
     ]
    }
   ],
   "source": [
    "# This is a new feature, candidate from Spark 3.3.0\n",
    "# See https://issues.apache.org/jira/browse/SPARK-37227\n",
    "\n",
    "import findspark\n",
    "findspark.init(\"/home/luca/Spark/spark-3.3.0-SNAPSHOT-bin-spark_21220128\")\n",
    "\n",
    "# use only 1 core to make performance comparisons easier/cleaner\n",
    "\n",
    "from pyspark.sql import SparkSession\n",
    "spark = SparkSession.builder \\\n",
    "        .appName(\"dimuon mass\")  \\\n",
    "        .master(\"local[1]\") \\\n",
    "        .config(\"spark.driver.memory\", \"2g\") \\\n",
    "        .getOrCreate()"
   ]
  },
  {
   "cell_type": "markdown",
   "id": "c2cfe47f",
   "metadata": {},
   "source": [
    "## Dataset preparation"
   ]
  },
  {
   "cell_type": "code",
   "execution_count": 2,
   "id": "9682c921",
   "metadata": {},
   "outputs": [],
   "source": [
    "# simple tests: create data from memory\n",
    "\n",
    "# We use array as this is where converting to pandas is slow\n",
    "\n",
    "df = spark.sql(\"select Array(rand(),rand(),rand()) col3 from range(1e8)\")\n"
   ]
  },
  {
   "cell_type": "code",
   "execution_count": 3,
   "id": "0325fbcf",
   "metadata": {},
   "outputs": [
    {
     "name": "stderr",
     "output_type": "stream",
     "text": [
      "\r",
      "[Stage 0:>                                                          (0 + 1) / 1]\r"
     ]
    },
    {
     "name": "stdout",
     "output_type": "stream",
     "text": [
      "CPU times: user 4.2 ms, sys: 539 µs, total: 4.74 ms\n",
      "Wall time: 5.63 s\n"
     ]
    },
    {
     "name": "stderr",
     "output_type": "stream",
     "text": [
      "\r",
      "                                                                                \r"
     ]
    }
   ],
   "source": [
    "%%time\n",
    "# write to a noop source\n",
    "# this is to test the speed of processing the dataframe with no additional operations\n",
    "\n",
    "df.write.format(\"noop\").mode(\"overwrite\").save()"
   ]
  },
  {
   "cell_type": "markdown",
   "id": "05ab6a52",
   "metadata": {},
   "source": [
    "## mapInPAndas tests"
   ]
  },
  {
   "cell_type": "markdown",
   "id": "224d99dd",
   "metadata": {},
   "source": [
    "### Test 1 - dummy UDF"
   ]
  },
  {
   "cell_type": "code",
   "execution_count": 4,
   "id": "ff98c7d9",
   "metadata": {},
   "outputs": [
    {
     "name": "stderr",
     "output_type": "stream",
     "text": [
      "\r",
      "[Stage 1:>                                                          (0 + 1) / 1]\r"
     ]
    },
    {
     "name": "stdout",
     "output_type": "stream",
     "text": [
      "CPU times: user 190 ms, sys: 28.6 ms, total: 218 ms\n",
      "Wall time: 44.8 s\n"
     ]
    },
    {
     "name": "stderr",
     "output_type": "stream",
     "text": [
      "\r",
      "                                                                                \r"
     ]
    }
   ],
   "source": [
    "%%time \n",
    "  \n",
    "# A dummy UDF that just returns the input data\n",
    "def UDF_dummy(iterator):\n",
    "    for batch in iterator:\n",
    "        yield batch\n",
    "\n",
    "df.mapInPandas(UDF_dummy, df.schema).write.format(\"noop\").mode(\"overwrite\").save()"
   ]
  },
  {
   "cell_type": "markdown",
   "id": "b2dacbb4",
   "metadata": {},
   "source": [
    "### Test 2: square the array with mapInPandas"
   ]
  },
  {
   "cell_type": "code",
   "execution_count": 5,
   "id": "b5edfeb3",
   "metadata": {},
   "outputs": [
    {
     "name": "stderr",
     "output_type": "stream",
     "text": [
      "[Stage 2:>                                                          (0 + 1) / 1]\r"
     ]
    },
    {
     "name": "stdout",
     "output_type": "stream",
     "text": [
      "CPU times: user 23.1 ms, sys: 2.11 ms, total: 25.2 ms\n",
      "Wall time: 1min 34s\n"
     ]
    },
    {
     "name": "stderr",
     "output_type": "stream",
     "text": [
      "\r",
      "                                                                                \r"
     ]
    }
   ],
   "source": [
    "%%time \n",
    "\n",
    "# UDF function that squares the input\n",
    "def UDF_pandas_square(iterator):\n",
    "    for batch in iterator:\n",
    "        yield batch*batch\n",
    "        \n",
    "df.mapInPandas(UDF_pandas_square, df.schema).write.format(\"noop\").mode(\"overwrite\").save()"
   ]
  },
  {
   "cell_type": "markdown",
   "id": "5a86834b",
   "metadata": {},
   "source": [
    "## mapInArrow tests"
   ]
  },
  {
   "cell_type": "markdown",
   "id": "79665e77",
   "metadata": {},
   "source": [
    "### Test 3: dummy UDF using mapInArrow"
   ]
  },
  {
   "cell_type": "code",
   "execution_count": 6,
   "id": "23400f99",
   "metadata": {},
   "outputs": [
    {
     "name": "stderr",
     "output_type": "stream",
     "text": [
      "\r",
      "[Stage 3:>                                                          (0 + 1) / 1]\r"
     ]
    },
    {
     "name": "stdout",
     "output_type": "stream",
     "text": [
      "CPU times: user 9.33 ms, sys: 2 ms, total: 11.3 ms\n",
      "Wall time: 23.7 s\n"
     ]
    },
    {
     "name": "stderr",
     "output_type": "stream",
     "text": [
      "\r",
      "                                                                                \r"
     ]
    }
   ],
   "source": [
    "%%time \n",
    "\n",
    "# A dummy UDF that just returns the input data\n",
    "def UDF_dummy(iterator):\n",
    "    for batch in iterator:\n",
    "        yield batch\n",
    "        \n",
    "df.mapInArrow(UDF_dummy, df.schema).write.format(\"noop\").mode(\"overwrite\").save() "
   ]
  },
  {
   "cell_type": "code",
   "execution_count": 7,
   "id": "db98b363",
   "metadata": {},
   "outputs": [],
   "source": [
    "### Test 4: dummy UDF using mapInArrow and awkward array"
   ]
  },
  {
   "cell_type": "code",
   "execution_count": 12,
   "id": "3f7ab4ef",
   "metadata": {},
   "outputs": [
    {
     "name": "stderr",
     "output_type": "stream",
     "text": [
      "\r",
      "[Stage 7:>                                                          (0 + 1) / 1]\r"
     ]
    },
    {
     "name": "stdout",
     "output_type": "stream",
     "text": [
      "CPU times: user 18.5 ms, sys: 2.55 ms, total: 21 ms\n",
      "Wall time: 19.5 s\n"
     ]
    },
    {
     "name": "stderr",
     "output_type": "stream",
     "text": [
      "\r",
      "                                                                                \r"
     ]
    }
   ],
   "source": [
    "%%time\n",
    "\n",
    "# this requires pip install awkward\n",
    "import awkward as ak\n",
    "\n",
    "# a dummy UDF that convert back and forth to awkward arrays\n",
    "# it just returns the input data\n",
    "def UDF_dummy_with_awkward_array(iterator):\n",
    "    for batch in iterator:\n",
    "        b = ak.from_arrow(batch)\n",
    "        yield from ak.to_arrow_table(b).to_batches()\n",
    "\n",
    "df.mapInArrow(UDF_dummy_with_awkward_array, df.schema).write.format(\"noop\").mode(\"overwrite\").save()"
   ]
  },
  {
   "cell_type": "markdown",
   "id": "8c49b2aa",
   "metadata": {},
   "source": [
    "### Test 5: square the array using awkward array"
   ]
  },
  {
   "cell_type": "code",
   "execution_count": 13,
   "id": "6ef09eb4",
   "metadata": {
    "scrolled": false
   },
   "outputs": [
    {
     "name": "stderr",
     "output_type": "stream",
     "text": [
      "\r",
      "[Stage 8:>                                                          (0 + 1) / 1]\r"
     ]
    },
    {
     "name": "stdout",
     "output_type": "stream",
     "text": [
      "CPU times: user 17.7 ms, sys: 2.06 ms, total: 19.8 ms\n",
      "Wall time: 21.3 s\n"
     ]
    },
    {
     "name": "stderr",
     "output_type": "stream",
     "text": [
      "\r",
      "                                                                                \r"
     ]
    }
   ],
   "source": [
    "%%time\n",
    "\n",
    "import awkward as ak\n",
    "import numpy as np\n",
    "\n",
    "def UDF_awkward_array_square(iterator):\n",
    "    for batch in iterator:\n",
    "        b = ak.from_arrow(batch)\n",
    "        b2 = ak.zip({\"col3\": np.square(b[\"col3\"])}, depth_limit=1)\n",
    "        yield from ak.to_arrow_table(b2).to_batches()\n",
    "\n",
    "df.mapInArrow(UDF_awkward_array_square, df.schema).write.format(\"noop\").mode(\"overwrite\").save()"
   ]
  },
  {
   "cell_type": "markdown",
   "id": "243325d0",
   "metadata": {},
   "source": [
    "## DataFrame API with higher-order functions"
   ]
  },
  {
   "cell_type": "markdown",
   "id": "75f7a052",
   "metadata": {},
   "source": [
    "### Square the array using Spark higher order function for array processing"
   ]
  },
  {
   "cell_type": "code",
   "execution_count": 10,
   "id": "8815fc29",
   "metadata": {},
   "outputs": [
    {
     "name": "stderr",
     "output_type": "stream",
     "text": [
      "\r",
      "[Stage 5:>                                                          (0 + 1) / 1]\r"
     ]
    },
    {
     "name": "stdout",
     "output_type": "stream",
     "text": [
      "CPU times: user 4.99 ms, sys: 4.24 ms, total: 9.22 ms\n",
      "Wall time: 18.7 s\n"
     ]
    },
    {
     "name": "stderr",
     "output_type": "stream",
     "text": [
      "\r",
      "                                                                                \r"
     ]
    }
   ],
   "source": [
    "%%time\n",
    "\n",
    "df2 = df.selectExpr(\"transform(col3, x -> x * x) as col3_squared\")\n",
    "\n",
    "df2.write.format(\"noop\").mode(\"overwrite\").save()\n"
   ]
  },
  {
   "cell_type": "code",
   "execution_count": null,
   "id": "213361e5",
   "metadata": {},
   "outputs": [],
   "source": []
  }
 ],
 "metadata": {
  "kernelspec": {
   "display_name": "Python 3 (ipykernel)",
   "language": "python",
   "name": "python3"
  },
  "language_info": {
   "codemirror_mode": {
    "name": "ipython",
    "version": 3
   },
   "file_extension": ".py",
   "mimetype": "text/x-python",
   "name": "python",
   "nbconvert_exporter": "python",
   "pygments_lexer": "ipython3",
   "version": "3.9.7"
  }
 },
 "nbformat": 4,
 "nbformat_minor": 5
}
