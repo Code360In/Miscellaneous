{
 "cells": [
  {
   "cell_type": "markdown",
   "id": "4ef0bd1e",
   "metadata": {},
   "source": [
    "# Weighted histograms with the Apache Spark DataFrame API \n",
    "\n",
    "This provides and example of how to generate weighted histograms using the Spark DataFrame API.  \n",
    "A weighted histogram is a generalization of a frequency histogram. It takes into account weights for each value entry. When all weights are set to 1, the weighted histogram is a frequency/count histogram.  \n",
    "Disambiguation: we refer here to computing histograms of the DataFrame data, rather than histograms of the columns statistics used by the cost based optimizer.   "
   ]
  },
  {
   "cell_type": "code",
   "execution_count": null,
   "id": "2a042155",
   "metadata": {},
   "outputs": [],
   "source": [
    "# Start the Spark Session\n",
    "# This uses local mode for simplicity\n",
    "# the use of findspark is optional\n",
    "\n",
    "# install pyspark if needed\n",
    "# ! pip install pyspark\n",
    "\n",
    "# import findspark\n",
    "# findspark.init(\"/home/luca/Spark/spark-3.3.0-bin-hadoop3\")\n",
    "\n",
    "from pyspark.sql import SparkSession\n",
    "spark = (SparkSession.builder\n",
    "         .appName(\"PySpark histograms\")\n",
    "         .master(\"local[*]\")\n",
    "         .getOrCreate()\n",
    "        )"
   ]
  },
  {
   "cell_type": "markdown",
   "id": "dffc821f",
   "metadata": {},
   "source": [
    "## Generate a DataFrame with toy data for demo purposes"
   ]
  },
  {
   "cell_type": "code",
   "execution_count": 2,
   "id": "e9cedda1",
   "metadata": {},
   "outputs": [
    {
     "name": "stdout",
     "output_type": "stream",
     "text": [
      "+------------------+-------------------+\n",
      "|      random_value|             weight|\n",
      "+------------------+-------------------+\n",
      "|1.4207335464797133|0.24909057521664535|\n",
      "|   28.332185796207| 0.3578315443426291|\n",
      "|35.723647283875394| 0.3591395211139339|\n",
      "| 31.40224866468887| 0.6105959208250227|\n",
      "|60.990188101279166|0.10255912075785512|\n",
      "+------------------+-------------------+\n",
      "only showing top 5 rows\n",
      "\n"
     ]
    }
   ],
   "source": [
    "num_events = 100\n",
    "scale = 100\n",
    "seed1 = 4242\n",
    "seed2 = 4243\n",
    "\n",
    "df = spark.sql(f\"\"\"\n",
    "select random({seed1}) * {scale} as random_value,\n",
    "       random({seed2}) as weight \n",
    "from range({num_events})\n",
    "\"\"\")\n",
    "\n",
    "df.show(5)"
   ]
  },
  {
   "cell_type": "markdown",
   "id": "01c8bb02",
   "metadata": {},
   "source": [
    "## Compute the weighted histogram"
   ]
  },
  {
   "cell_type": "code",
   "execution_count": null,
   "id": "da8ca8f4",
   "metadata": {},
   "outputs": [],
   "source": [
    "# import the computeWeightedHistogram function \n",
    "# see implementation details at: \n",
    "# https://github.com/LucaCanali/Miscellaneous/blob/master/Spark_Notes/Spark_Histograms/python/sparkhistogram/histogram.py\n",
    "\n",
    "# requires the package sparkhistogram\n",
    "! pip install sparkhistogram\n",
    "\n",
    "from sparkhistogram import computeWeightedHistogram\n"
   ]
  },
  {
   "cell_type": "code",
   "execution_count": 4,
   "id": "4ab4f221",
   "metadata": {},
   "outputs": [
    {
     "name": "stdout",
     "output_type": "stream",
     "text": [
      "+------+-----+------------------+\n",
      "|bucket|value|      weighted_sum|\n",
      "+------+-----+------------------+\n",
      "|     1|-15.0|               0.0|\n",
      "|     2| -5.0|               0.0|\n",
      "|     3|  5.0|2.3311284945146147|\n",
      "|     4| 15.0| 4.076542801479973|\n",
      "|     5| 25.0|  8.18499877878322|\n",
      "|     6| 35.0| 5.270321110145988|\n",
      "|     7| 45.0| 5.581395504223541|\n",
      "|     8| 55.0|3.4259555156362604|\n",
      "|     9| 65.0| 3.160802943654561|\n",
      "|    10| 75.0| 7.896726387145422|\n",
      "|    11| 85.0| 4.783329763967291|\n",
      "+------+-----+------------------+\n",
      "\n"
     ]
    }
   ],
   "source": [
    "# Compute the histogram using the computeWeightedHistogram function\n",
    "\n",
    "histogram = computeWeightedHistogram(df, \"random_value\", \"weight\", -20, 90, 11)\n",
    "\n",
    "# Alternative syntax: compute the histogram using transform on the DataFrame\n",
    "# requires Spark 3.3.0 or higher\n",
    "# histogram = df.transform(computeWeightedHistogram, \"random_value\", \"weight\", -20, 90, 11)\n",
    "\n",
    "# this triggers the computation as show() is an action\n",
    "histogram.show()"
   ]
  },
  {
   "cell_type": "code",
   "execution_count": 5,
   "id": "cf1cb2be",
   "metadata": {},
   "outputs": [
    {
     "data": {
      "text/html": [
       "<div>\n",
       "<style scoped>\n",
       "    .dataframe tbody tr th:only-of-type {\n",
       "        vertical-align: middle;\n",
       "    }\n",
       "\n",
       "    .dataframe tbody tr th {\n",
       "        vertical-align: top;\n",
       "    }\n",
       "\n",
       "    .dataframe thead th {\n",
       "        text-align: right;\n",
       "    }\n",
       "</style>\n",
       "<table border=\"1\" class=\"dataframe\">\n",
       "  <thead>\n",
       "    <tr style=\"text-align: right;\">\n",
       "      <th></th>\n",
       "      <th>bucket</th>\n",
       "      <th>value</th>\n",
       "      <th>weighted_sum</th>\n",
       "    </tr>\n",
       "  </thead>\n",
       "  <tbody>\n",
       "    <tr>\n",
       "      <th>0</th>\n",
       "      <td>1</td>\n",
       "      <td>-15.0</td>\n",
       "      <td>0.000000</td>\n",
       "    </tr>\n",
       "    <tr>\n",
       "      <th>1</th>\n",
       "      <td>2</td>\n",
       "      <td>-5.0</td>\n",
       "      <td>0.000000</td>\n",
       "    </tr>\n",
       "    <tr>\n",
       "      <th>2</th>\n",
       "      <td>3</td>\n",
       "      <td>5.0</td>\n",
       "      <td>2.331128</td>\n",
       "    </tr>\n",
       "    <tr>\n",
       "      <th>3</th>\n",
       "      <td>4</td>\n",
       "      <td>15.0</td>\n",
       "      <td>4.076543</td>\n",
       "    </tr>\n",
       "    <tr>\n",
       "      <th>4</th>\n",
       "      <td>5</td>\n",
       "      <td>25.0</td>\n",
       "      <td>8.184999</td>\n",
       "    </tr>\n",
       "    <tr>\n",
       "      <th>5</th>\n",
       "      <td>6</td>\n",
       "      <td>35.0</td>\n",
       "      <td>5.270321</td>\n",
       "    </tr>\n",
       "    <tr>\n",
       "      <th>6</th>\n",
       "      <td>7</td>\n",
       "      <td>45.0</td>\n",
       "      <td>5.581396</td>\n",
       "    </tr>\n",
       "    <tr>\n",
       "      <th>7</th>\n",
       "      <td>8</td>\n",
       "      <td>55.0</td>\n",
       "      <td>3.425956</td>\n",
       "    </tr>\n",
       "    <tr>\n",
       "      <th>8</th>\n",
       "      <td>9</td>\n",
       "      <td>65.0</td>\n",
       "      <td>3.160803</td>\n",
       "    </tr>\n",
       "    <tr>\n",
       "      <th>9</th>\n",
       "      <td>10</td>\n",
       "      <td>75.0</td>\n",
       "      <td>7.896726</td>\n",
       "    </tr>\n",
       "    <tr>\n",
       "      <th>10</th>\n",
       "      <td>11</td>\n",
       "      <td>85.0</td>\n",
       "      <td>4.783330</td>\n",
       "    </tr>\n",
       "  </tbody>\n",
       "</table>\n",
       "</div>"
      ],
      "text/plain": [
       "    bucket  value  weighted_sum\n",
       "0        1  -15.0      0.000000\n",
       "1        2   -5.0      0.000000\n",
       "2        3    5.0      2.331128\n",
       "3        4   15.0      4.076543\n",
       "4        5   25.0      8.184999\n",
       "5        6   35.0      5.270321\n",
       "6        7   45.0      5.581396\n",
       "7        8   55.0      3.425956\n",
       "8        9   65.0      3.160803\n",
       "9       10   75.0      7.896726\n",
       "10      11   85.0      4.783330"
      ]
     },
     "execution_count": 5,
     "metadata": {},
     "output_type": "execute_result"
    }
   ],
   "source": [
    "# Fetch the histogram data into a Pandas DataFrame for visualization\n",
    "# At this stage data is reduced to a small number of rows (one row per bin)\n",
    "# so it can be easily handled by one machine\n",
    "\n",
    "# toPandas() is an action and triggers the computation\n",
    "hist_pandasDF = histogram.toPandas()\n",
    "\n",
    "hist_pandasDF"
   ]
  },
  {
   "cell_type": "markdown",
   "id": "b8df4f38",
   "metadata": {},
   "source": [
    "## Histogram plotting\n",
    "This plots the weighted histogram: wheighted sum of the number of per bin."
   ]
  },
  {
   "cell_type": "code",
   "execution_count": 6,
   "id": "dc760726",
   "metadata": {},
   "outputs": [
    {
     "data": {
      "image/png": "[encoded data removed]",
      "text/plain": [
       "<Figure size 1008x720 with 1 Axes>"
      ]
     },
     "metadata": {},
     "output_type": "display_data"
    }
   ],
   "source": [
    "import matplotlib.pyplot as plt \n",
    "plt.style.use('seaborn-darkgrid')\n",
    "plt.rcParams.update({'font.size': 20, 'figure.figsize': [14,10]})\n",
    "\n",
    "f, ax = plt.subplots()\n",
    "\n",
    "# histogram data\n",
    "x = hist_pandasDF[\"value\"]\n",
    "y = hist_pandasDF[\"weighted_sum\"]\n",
    "\n",
    "# bar plot\n",
    "ax.bar(x, y, width = 3.0, color='red')\n",
    "\n",
    "ax.set_xlabel('Bucket values')\n",
    "ax.set_ylabel('Sum of the weights (weighted count)')\n",
    "ax.set_title(\"Distribution of event weight sums\")\n",
    "\n",
    "# Label for the resonances spectrum peaks\n",
    "txt_opts = {'horizontalalignment': 'center',\n",
    "            'verticalalignment': 'center',\n",
    "            'transform': ax.transAxes}\n",
    "\n",
    "plt.show()"
   ]
  },
  {
   "cell_type": "code",
   "execution_count": 7,
   "id": "9f4216cb",
   "metadata": {},
   "outputs": [],
   "source": [
    "spark.stop()"
   ]
  },
  {
   "cell_type": "markdown",
   "id": "029c76cf",
   "metadata": {},
   "source": [
    "##  Note added\n",
    "Use this to define the computeWeightedHistogram function if you cannot pip install sparkhistogram"
   ]
  },
  {
   "cell_type": "code",
   "execution_count": null,
   "id": "8c0ee054",
   "metadata": {},
   "outputs": [],
   "source": [
    "from pyspark.sql.functions import sum\n",
    "\n",
    "def computeWeightedHistogram(df: \"DataFrame\", value_col: str, weight_col: str,\n",
    "                             min: int, max: int, bins: int) -> \"DataFrame\":\n",
    "    \"\"\" This is a dataframe function to compute the weighted histogram of a DataFrame column.\n",
    "        A weighted histogram is a generalization of a frequency histogram.\n",
    "        \n",
    "        Parameters\n",
    "        ----------\n",
    "        df: the dataframe with the data to compute\n",
    "        value_col: column name on which to compute the histogram\n",
    "                   the column needs to be of numeric type\n",
    "        weight_col: numeric-type column with the weights, \n",
    "                    the bucket value is computed as sum of weights.\n",
    "                    If all weight are set to 1, you get a frequency histogram\n",
    "        min: minimum value in the histogram\n",
    "        max: maximum value in the histogram\n",
    "        bins: number of histogram buckets to compute\n",
    "        \n",
    "        Output DataFrame\n",
    "        ----------------\n",
    "        bucket: the bucket number, range from 1 to bins (included)\n",
    "        value: midpoint value of the given bucket\n",
    "        count: weighted sum of the number of values in the bucket        \n",
    "    \"\"\"\n",
    "    step = (max - min) / bins\n",
    "    # this will be used to fill in for missing buckets, i.e. buckets with no corresponding values\n",
    "    df_buckets = spark.sql(f\"select id+1 as bucket from range({bins})\")\n",
    "    \n",
    "    histdf = (df\n",
    "              .selectExpr(f\"width_bucket({value_col}, {min}, {max}, {bins}) as bucket\", \"weight\")\n",
    "              .groupBy(\"bucket\")\n",
    "              .agg(sum(f\"{weight_col}\").alias(\"weighted_sum\"))  # sum the weights on the weight_col\n",
    "              .join(df_buckets, \"bucket\", \"right_outer\") # add missing buckets and remove buckets out of range\n",
    "              .selectExpr(\"bucket\", f\"{min} + (bucket - 1/2) * {step} as value\", # use center value of the buckets\n",
    "                          \"nvl(weighted_sum, 0) as weighted_sum\") # buckets with no values will have a sum of 0\n",
    "              .orderBy(\"bucket\")\n",
    "             )\n",
    "    return histdf\n"
   ]
  },
  {
   "cell_type": "code",
   "execution_count": null,
   "id": "a69922d9",
   "metadata": {},
   "outputs": [],
   "source": []
  }
 ],
 "metadata": {
  "kernelspec": {
   "display_name": "Python 3 (ipykernel)",
   "language": "python",
   "name": "python3"
  },
  "language_info": {
   "codemirror_mode": {
    "name": "ipython",
    "version": 3
   },
   "file_extension": ".py",
   "mimetype": "text/x-python",
   "name": "python",
   "nbconvert_exporter": "python",
   "pygments_lexer": "ipython3",
   "version": "3.9.12"
  }
 },
 "nbformat": 4,
 "nbformat_minor": 5
}
