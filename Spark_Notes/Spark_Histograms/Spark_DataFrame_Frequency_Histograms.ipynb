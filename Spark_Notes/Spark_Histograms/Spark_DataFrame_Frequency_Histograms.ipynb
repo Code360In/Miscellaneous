{
 "cells": [
  {
   "cell_type": "markdown",
   "id": "d1e5c581",
   "metadata": {},
   "source": [
    "# How to generate histograms using the Apache Spark DataFrame API\n",
    "\n",
    "This provides and example of how to generate frequency histograms using the Spark DataFrame API.  \n",
    "Disambiguation: we refer here to computing histograms of the DataFrame data, rather than histograms of the columns statistics used by the cost based optimizer.   \n"
   ]
  },
  {
   "cell_type": "code",
   "execution_count": null,
   "id": "21b3415a",
   "metadata": {},
   "outputs": [],
   "source": [
    "# Start the Spark Session\n",
    "# This uses local mode for simplicity\n",
    "# the use of findspark is optional\n",
    "\n",
    "# install pyspark if needed\n",
    "# ! pip install pyspark\n",
    "\n",
    "# import findspark\n",
    "# findspark.init(\"/home/luca/Spark/spark-3.3.0-bin-hadoop3\")\n",
    "\n",
    "from pyspark.sql import SparkSession\n",
    "spark = (SparkSession.builder\n",
    "         .appName(\"PySpark histograms\")\n",
    "         .master(\"local[*]\")\n",
    "         .getOrCreate()\n",
    "        )"
   ]
  },
  {
   "cell_type": "markdown",
   "id": "a35e44aa",
   "metadata": {},
   "source": [
    "## Generate a DataFrame with toy data for demo purposes"
   ]
  },
  {
   "cell_type": "code",
   "execution_count": 2,
   "id": "9427360c",
   "metadata": {},
   "outputs": [
    {
     "name": "stdout",
     "output_type": "stream",
     "text": [
      "+------------------+\n",
      "|      random_value|\n",
      "+------------------+\n",
      "|1.4207335464797133|\n",
      "|   28.332185796207|\n",
      "|35.723647283875394|\n",
      "| 31.40224866468887|\n",
      "|60.990188101279166|\n",
      "+------------------+\n",
      "only showing top 5 rows\n",
      "\n"
     ]
    }
   ],
   "source": [
    "num_events = 100\n",
    "scale = 100\n",
    "seed = 4242\n",
    "\n",
    "df = spark.sql(f\"select random({seed}) * {scale} as random_value from range({num_events})\")\n",
    "\n",
    "df.show(5)"
   ]
  },
  {
   "cell_type": "markdown",
   "id": "c02a6030",
   "metadata": {},
   "source": [
    "## Compute the histogram"
   ]
  },
  {
   "cell_type": "code",
   "execution_count": null,
   "id": "d216d5c3",
   "metadata": {},
   "outputs": [],
   "source": [
    "# import the computeHistogram function \n",
    "# see implementation details at: \n",
    "# https://github.com/LucaCanali/Miscellaneous/blob/master/Spark_Notes/Spark_Histograms/python/sparkhistogram/histogram.py\n",
    "\n",
    "# requires the package sparkhistogram\n",
    "! pip install sparkhistogram\n",
    "\n",
    "from sparkhistogram import computeHistogram\n"
   ]
  },
  {
   "cell_type": "code",
   "execution_count": 4,
   "id": "d4de8828",
   "metadata": {},
   "outputs": [
    {
     "name": "stdout",
     "output_type": "stream",
     "text": [
      "+------+-----+-----+\n",
      "|bucket|value|count|\n",
      "+------+-----+-----+\n",
      "|     1|-15.0|    0|\n",
      "|     2| -5.0|    0|\n",
      "|     3|  5.0|    6|\n",
      "|     4| 15.0|   10|\n",
      "|     5| 25.0|   15|\n",
      "|     6| 35.0|   12|\n",
      "|     7| 45.0|    9|\n",
      "|     8| 55.0|    7|\n",
      "|     9| 65.0|   10|\n",
      "|    10| 75.0|   16|\n",
      "|    11| 85.0|    7|\n",
      "+------+-----+-----+\n",
      "\n"
     ]
    }
   ],
   "source": [
    "# Compute the histogram using the computeHistogram function\n",
    "\n",
    "histogram = computeHistogram(df, \"random_value\", -20, 90, 11)\n",
    "\n",
    "# Alternative syntax: compute the histogram using transform on the DataFrame\n",
    "# requires Spark 3.3.0 or higher\n",
    "# histogram = df.transform(computeHistogram, \"random_value\", -20, 90, 11)\n",
    "\n",
    "# this triggers the computation as show() is an action\n",
    "histogram.show()"
   ]
  },
  {
   "cell_type": "code",
   "execution_count": 5,
   "id": "e4c9b2e2",
   "metadata": {},
   "outputs": [
    {
     "data": {
      "text/html": [
       "<div>\n",
       "<style scoped>\n",
       "    .dataframe tbody tr th:only-of-type {\n",
       "        vertical-align: middle;\n",
       "    }\n",
       "\n",
       "    .dataframe tbody tr th {\n",
       "        vertical-align: top;\n",
       "    }\n",
       "\n",
       "    .dataframe thead th {\n",
       "        text-align: right;\n",
       "    }\n",
       "</style>\n",
       "<table border=\"1\" class=\"dataframe\">\n",
       "  <thead>\n",
       "    <tr style=\"text-align: right;\">\n",
       "      <th></th>\n",
       "      <th>bucket</th>\n",
       "      <th>value</th>\n",
       "      <th>count</th>\n",
       "    </tr>\n",
       "  </thead>\n",
       "  <tbody>\n",
       "    <tr>\n",
       "      <th>0</th>\n",
       "      <td>1</td>\n",
       "      <td>-15.0</td>\n",
       "      <td>0</td>\n",
       "    </tr>\n",
       "    <tr>\n",
       "      <th>1</th>\n",
       "      <td>2</td>\n",
       "      <td>-5.0</td>\n",
       "      <td>0</td>\n",
       "    </tr>\n",
       "    <tr>\n",
       "      <th>2</th>\n",
       "      <td>3</td>\n",
       "      <td>5.0</td>\n",
       "      <td>6</td>\n",
       "    </tr>\n",
       "    <tr>\n",
       "      <th>3</th>\n",
       "      <td>4</td>\n",
       "      <td>15.0</td>\n",
       "      <td>10</td>\n",
       "    </tr>\n",
       "    <tr>\n",
       "      <th>4</th>\n",
       "      <td>5</td>\n",
       "      <td>25.0</td>\n",
       "      <td>15</td>\n",
       "    </tr>\n",
       "    <tr>\n",
       "      <th>5</th>\n",
       "      <td>6</td>\n",
       "      <td>35.0</td>\n",
       "      <td>12</td>\n",
       "    </tr>\n",
       "    <tr>\n",
       "      <th>6</th>\n",
       "      <td>7</td>\n",
       "      <td>45.0</td>\n",
       "      <td>9</td>\n",
       "    </tr>\n",
       "    <tr>\n",
       "      <th>7</th>\n",
       "      <td>8</td>\n",
       "      <td>55.0</td>\n",
       "      <td>7</td>\n",
       "    </tr>\n",
       "    <tr>\n",
       "      <th>8</th>\n",
       "      <td>9</td>\n",
       "      <td>65.0</td>\n",
       "      <td>10</td>\n",
       "    </tr>\n",
       "    <tr>\n",
       "      <th>9</th>\n",
       "      <td>10</td>\n",
       "      <td>75.0</td>\n",
       "      <td>16</td>\n",
       "    </tr>\n",
       "    <tr>\n",
       "      <th>10</th>\n",
       "      <td>11</td>\n",
       "      <td>85.0</td>\n",
       "      <td>7</td>\n",
       "    </tr>\n",
       "  </tbody>\n",
       "</table>\n",
       "</div>"
      ],
      "text/plain": [
       "    bucket  value  count\n",
       "0        1  -15.0      0\n",
       "1        2   -5.0      0\n",
       "2        3    5.0      6\n",
       "3        4   15.0     10\n",
       "4        5   25.0     15\n",
       "5        6   35.0     12\n",
       "6        7   45.0      9\n",
       "7        8   55.0      7\n",
       "8        9   65.0     10\n",
       "9       10   75.0     16\n",
       "10      11   85.0      7"
      ]
     },
     "execution_count": 5,
     "metadata": {},
     "output_type": "execute_result"
    }
   ],
   "source": [
    "# Fetch the histogram data into a Pandas DataFrame for visualization\n",
    "# At this stage data is reduced to a small number of rows (one row per bin)\n",
    "# so it can be easily handled by the local machine/driver\n",
    "\n",
    "# toPandas() is an action and triggers the computation\n",
    "hist_pandasDF = histogram.toPandas()\n",
    "\n",
    "hist_pandasDF"
   ]
  },
  {
   "cell_type": "code",
   "execution_count": 6,
   "id": "2c670866",
   "metadata": {},
   "outputs": [
    {
     "data": {
      "text/html": [
       "<div>\n",
       "<style scoped>\n",
       "    .dataframe tbody tr th:only-of-type {\n",
       "        vertical-align: middle;\n",
       "    }\n",
       "\n",
       "    .dataframe tbody tr th {\n",
       "        vertical-align: top;\n",
       "    }\n",
       "\n",
       "    .dataframe thead th {\n",
       "        text-align: right;\n",
       "    }\n",
       "</style>\n",
       "<table border=\"1\" class=\"dataframe\">\n",
       "  <thead>\n",
       "    <tr style=\"text-align: right;\">\n",
       "      <th></th>\n",
       "      <th>bucket</th>\n",
       "      <th>value</th>\n",
       "      <th>count</th>\n",
       "      <th>frequency</th>\n",
       "    </tr>\n",
       "  </thead>\n",
       "  <tbody>\n",
       "    <tr>\n",
       "      <th>0</th>\n",
       "      <td>1</td>\n",
       "      <td>-15.0</td>\n",
       "      <td>0</td>\n",
       "      <td>0.000000</td>\n",
       "    </tr>\n",
       "    <tr>\n",
       "      <th>1</th>\n",
       "      <td>2</td>\n",
       "      <td>-5.0</td>\n",
       "      <td>0</td>\n",
       "      <td>0.000000</td>\n",
       "    </tr>\n",
       "    <tr>\n",
       "      <th>2</th>\n",
       "      <td>3</td>\n",
       "      <td>5.0</td>\n",
       "      <td>6</td>\n",
       "      <td>0.065217</td>\n",
       "    </tr>\n",
       "    <tr>\n",
       "      <th>3</th>\n",
       "      <td>4</td>\n",
       "      <td>15.0</td>\n",
       "      <td>10</td>\n",
       "      <td>0.108696</td>\n",
       "    </tr>\n",
       "    <tr>\n",
       "      <th>4</th>\n",
       "      <td>5</td>\n",
       "      <td>25.0</td>\n",
       "      <td>15</td>\n",
       "      <td>0.163043</td>\n",
       "    </tr>\n",
       "    <tr>\n",
       "      <th>5</th>\n",
       "      <td>6</td>\n",
       "      <td>35.0</td>\n",
       "      <td>12</td>\n",
       "      <td>0.130435</td>\n",
       "    </tr>\n",
       "    <tr>\n",
       "      <th>6</th>\n",
       "      <td>7</td>\n",
       "      <td>45.0</td>\n",
       "      <td>9</td>\n",
       "      <td>0.097826</td>\n",
       "    </tr>\n",
       "    <tr>\n",
       "      <th>7</th>\n",
       "      <td>8</td>\n",
       "      <td>55.0</td>\n",
       "      <td>7</td>\n",
       "      <td>0.076087</td>\n",
       "    </tr>\n",
       "    <tr>\n",
       "      <th>8</th>\n",
       "      <td>9</td>\n",
       "      <td>65.0</td>\n",
       "      <td>10</td>\n",
       "      <td>0.108696</td>\n",
       "    </tr>\n",
       "    <tr>\n",
       "      <th>9</th>\n",
       "      <td>10</td>\n",
       "      <td>75.0</td>\n",
       "      <td>16</td>\n",
       "      <td>0.173913</td>\n",
       "    </tr>\n",
       "    <tr>\n",
       "      <th>10</th>\n",
       "      <td>11</td>\n",
       "      <td>85.0</td>\n",
       "      <td>7</td>\n",
       "      <td>0.076087</td>\n",
       "    </tr>\n",
       "  </tbody>\n",
       "</table>\n",
       "</div>"
      ],
      "text/plain": [
       "    bucket  value  count  frequency\n",
       "0        1  -15.0      0   0.000000\n",
       "1        2   -5.0      0   0.000000\n",
       "2        3    5.0      6   0.065217\n",
       "3        4   15.0     10   0.108696\n",
       "4        5   25.0     15   0.163043\n",
       "5        6   35.0     12   0.130435\n",
       "6        7   45.0      9   0.097826\n",
       "7        8   55.0      7   0.076087\n",
       "8        9   65.0     10   0.108696\n",
       "9       10   75.0     16   0.173913\n",
       "10      11   85.0      7   0.076087"
      ]
     },
     "execution_count": 6,
     "metadata": {},
     "output_type": "execute_result"
    }
   ],
   "source": [
    "# Optionally normalize the event count into a frequency\n",
    "# dividing by the total number of events\n",
    " \n",
    "hist_pandasDF[\"frequency\"] = hist_pandasDF[\"count\"] / sum(hist_pandasDF[\"count\"]) \n",
    "              \n",
    "hist_pandasDF"
   ]
  },
  {
   "cell_type": "markdown",
   "id": "27d6292a",
   "metadata": {},
   "source": [
    "## Histogram plotting\n",
    "The first plot is a histogram with the event counts (number of events per bin).  \n",
    "The second plot is a histogram of the events frequencies (number of events per bin normalized by the sum of the events)."
   ]
  },
  {
   "cell_type": "code",
   "execution_count": 7,
   "id": "722e12aa",
   "metadata": {},
   "outputs": [
    {
     "data": {
      "image/png": "[encoded data removed]",
      "text/plain": [
       "<Figure size 1008x720 with 1 Axes>"
      ]
     },
     "metadata": {},
     "output_type": "display_data"
    }
   ],
   "source": [
    "import matplotlib.pyplot as plt \n",
    "plt.style.use('seaborn-darkgrid')\n",
    "plt.rcParams.update({'font.size': 20, 'figure.figsize': [14,10]})\n",
    "\n",
    "f, ax = plt.subplots()\n",
    "\n",
    "# histogram data\n",
    "x = hist_pandasDF[\"value\"]\n",
    "y = hist_pandasDF[\"count\"]\n",
    "\n",
    "# bar plot\n",
    "ax.bar(x, y, width = 3.0, color='red')\n",
    "\n",
    "ax.set_xlabel(\"Bucket values\")\n",
    "ax.set_ylabel(\"Event count\")\n",
    "ax.set_title(\"Distribution of event counts\")\n",
    "\n",
    "# Label for the resonances spectrum peaks\n",
    "txt_opts = {'horizontalalignment': 'center',\n",
    "            'verticalalignment': 'center',\n",
    "            'transform': ax.transAxes}\n",
    "\n",
    "plt.show()"
   ]
  },
  {
   "cell_type": "code",
   "execution_count": 8,
   "id": "5e618b50",
   "metadata": {},
   "outputs": [
    {
     "data": {
      "image/png": "[encoded data removed]",
      "text/plain": [
       "<Figure size 1008x720 with 1 Axes>"
      ]
     },
     "metadata": {},
     "output_type": "display_data"
    }
   ],
   "source": [
    "import matplotlib.pyplot as plt \n",
    "plt.style.use('seaborn-darkgrid')\n",
    "plt.rcParams.update({'font.size': 20, 'figure.figsize': [14,10]})\n",
    "\n",
    "f, ax = plt.subplots()\n",
    "\n",
    "# histogram data\n",
    "x = hist_pandasDF[\"value\"]\n",
    "y = hist_pandasDF[\"frequency\"]\n",
    "\n",
    "# bar plot\n",
    "ax.bar(x, y, width = 3.0, color='blue')\n",
    "\n",
    "ax.set_xlabel(\"Bucket values\")\n",
    "ax.set_ylabel(\"Event frequency\")\n",
    "ax.set_title(\"Distribution of event frequencies\")\n",
    "\n",
    "# Label for the resonances spectrum peaks\n",
    "txt_opts = {'horizontalalignment': 'center',\n",
    "            'verticalalignment': 'center',\n",
    "            'transform': ax.transAxes}\n",
    "\n",
    "plt.show()"
   ]
  },
  {
   "cell_type": "code",
   "execution_count": 9,
   "id": "e9e0bcc1",
   "metadata": {},
   "outputs": [],
   "source": [
    "spark.stop()"
   ]
  },
  {
   "cell_type": "markdown",
   "id": "96ba0a83",
   "metadata": {},
   "source": [
    "##  Note added\n",
    "Use this to define the computeHistogram function if you cannot pip install sparkhistogram"
   ]
  },
  {
   "cell_type": "code",
   "execution_count": 2,
   "id": "b51b02ae",
   "metadata": {},
   "outputs": [],
   "source": [
    "def computeHistogram(df: \"DataFrame\", value_col: str, min: int, max: int, bins: int) -> \"DataFrame\":\n",
    "    \"\"\" This is a dataframe function to compute the count/frequecy histogram of a column\n",
    "        \n",
    "        Parameters\n",
    "        ----------\n",
    "        df: the dataframe with the data to compute\n",
    "        value_col: column name on which to compute the histogram\n",
    "        min: minimum value in the histogram\n",
    "        max: maximum value in the histogram\n",
    "        bins: number of histogram buckets to compute\n",
    "        \n",
    "        Output DataFrame\n",
    "        ----------------\n",
    "        bucket: the bucket number, range from 1 to bins (included)\n",
    "        value: midpoint value of the given bucket\n",
    "        count: number of values in the bucket        \n",
    "    \"\"\"\n",
    "    step = (max - min) / bins\n",
    "    # this will be used to fill in for missing buckets, i.e. buckets with no corresponding values\n",
    "    df_buckets = spark.sql(f\"select id+1 as bucket from range({bins})\")\n",
    "    \n",
    "    histdf = (df\n",
    "              .selectExpr(f\"width_bucket({value_col}, {min}, {max}, {bins}) as bucket\")\n",
    "              .groupBy(\"bucket\")\n",
    "              .count()\n",
    "              .join(df_buckets, \"bucket\", \"right_outer\") # add missing buckets and remove buckets out of range\n",
    "              .selectExpr(\"bucket\", f\"{min} + (bucket - 1/2) * {step} as value\", # use center value of the buckets\n",
    "                          \"nvl(count, 0) as count\") # buckets with no values will have a count of 0\n",
    "              .orderBy(\"bucket\")\n",
    "             )\n",
    "    return histdf\n"
   ]
  }
 ],
 "metadata": {
  "kernelspec": {
   "display_name": "Python 3 (ipykernel)",
   "language": "python",
   "name": "python3"
  },
  "language_info": {
   "codemirror_mode": {
    "name": "ipython",
    "version": 3
   },
   "file_extension": ".py",
   "mimetype": "text/x-python",
   "name": "python",
   "nbconvert_exporter": "python",
   "pygments_lexer": "ipython3",
   "version": "3.9.12"
  }
 },
 "nbformat": 4,
 "nbformat_minor": 5
}
